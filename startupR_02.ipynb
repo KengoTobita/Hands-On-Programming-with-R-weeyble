{
 "cells": [
  {
   "cell_type": "markdown",
   "metadata": {},
   "source": [
    "# Rstudioではじめる Rプログラミング入門\n",
    "## 第２章 ライブラリの使用"
   ]
  },
  {
   "cell_type": "markdown",
   "metadata": {},
   "source": [
    "ちゃっちゃっと何かを可視化したい……<br>\n",
    "そんな時はqplot。<br>\n",
    "それっぽい引数を入れてあげると、それっぽく返す。<br>\n",
    "<br>\n",
    "早速使ってみましょうか。<br>"
   ]
  },
  {
   "cell_type": "code",
   "execution_count": 4,
   "metadata": {
    "scrolled": false
   },
   "outputs": [
    {
     "ename": "ERROR",
     "evalue": "Error in eval(expr, envir, enclos): object 'qplot' not found\n",
     "output_type": "error",
     "traceback": [
      "Error in eval(expr, envir, enclos): object 'qplot' not found\nTraceback:\n"
     ]
    }
   ],
   "source": [
    "qplot"
   ]
  },
  {
   "cell_type": "markdown",
   "metadata": {},
   "source": [
    "Rで多様されるプロットライブラリ <b>「ggplot2」</b>が準備されていないようですね。<br>\n",
    "Pythonで言う所の import がなされていない感じです。<br>\n",
    "入れてみますか……"
   ]
  },
  {
   "cell_type": "code",
   "execution_count": 5,
   "metadata": {},
   "outputs": [],
   "source": [
    "library(ggplot2)"
   ]
  },
  {
   "cell_type": "code",
   "execution_count": 6,
   "metadata": {
    "collapsed": true
   },
   "outputs": [
    {
     "data": {
      "text/html": [
       "<pre class=language-r><code>function (x, y, ..., data, facets = NULL, margins = FALSE, geom = \"auto\", \n",
       "<span style=white-space:pre-wrap>    xlim = c(NA, NA), ylim = c(NA, NA), log = \"\", main = NULL, </span>\n",
       "<span style=white-space:pre-wrap>    xlab = NULL, ylab = NULL, asp = NA, stat = NULL, position = NULL) </span>\n",
       "{\n",
       "<span style=white-space:pre-wrap>    caller_env &lt;- parent.frame()</span>\n",
       "<span style=white-space:pre-wrap>    if (!missing(stat)) </span>\n",
       "<span style=white-space:pre-wrap>        warning(\"`stat` is deprecated\", call. = FALSE)</span>\n",
       "<span style=white-space:pre-wrap>    if (!missing(position)) </span>\n",
       "<span style=white-space:pre-wrap>        warning(\"`position` is deprecated\", call. = FALSE)</span>\n",
       "<span style=white-space:pre-wrap>    if (!is.character(geom)) </span>\n",
       "<span style=white-space:pre-wrap>        stop(\"`geom` must be a character vector\", call. = FALSE)</span>\n",
       "<span style=white-space:pre-wrap>    exprs &lt;- rlang::enquos(x = x, y = y, ...)</span>\n",
       "<span style=white-space:pre-wrap>    is_missing &lt;- vapply(exprs, rlang::quo_is_missing, logical(1))</span>\n",
       "<span style=white-space:pre-wrap>    is_constant &lt;- (!names(exprs) %in% ggplot_global$all_aesthetics) | </span>\n",
       "<span style=white-space:pre-wrap>        vapply(exprs, rlang::quo_is_call, logical(1), name = \"I\")</span>\n",
       "<span style=white-space:pre-wrap>    mapping &lt;- new_aes(exprs[!is_missing &amp; !is_constant], env = parent.frame())</span>\n",
       "<span style=white-space:pre-wrap>    consts &lt;- exprs[is_constant]</span>\n",
       "<span style=white-space:pre-wrap>    aes_names &lt;- names(mapping)</span>\n",
       "<span style=white-space:pre-wrap>    mapping &lt;- rename_aes(mapping)</span>\n",
       "<span style=white-space:pre-wrap>    if (is.null(xlab)) {</span>\n",
       "<span style=white-space:pre-wrap>        xlab &lt;- rlang::quo_name(exprs$x)</span>\n",
       "<span style=white-space:pre-wrap>    }</span>\n",
       "<span style=white-space:pre-wrap>    if (is.null(ylab)) {</span>\n",
       "<span style=white-space:pre-wrap>        if (rlang::quo_is_null(exprs$y)) {</span>\n",
       "<span style=white-space:pre-wrap>            ylab &lt;- \"NULL\"</span>\n",
       "<span style=white-space:pre-wrap>        }</span>\n",
       "<span style=white-space:pre-wrap>        else {</span>\n",
       "<span style=white-space:pre-wrap>            ylab &lt;- rlang::quo_name(exprs$y)</span>\n",
       "<span style=white-space:pre-wrap>        }</span>\n",
       "<span style=white-space:pre-wrap>    }</span>\n",
       "<span style=white-space:pre-wrap>    if (missing(data)) {</span>\n",
       "<span style=white-space:pre-wrap>        data &lt;- data.frame()</span>\n",
       "<span style=white-space:pre-wrap>        facetvars &lt;- all.vars(facets)</span>\n",
       "<span style=white-space:pre-wrap>        facetvars &lt;- facetvars[facetvars != \".\"]</span>\n",
       "<span style=white-space:pre-wrap>        names(facetvars) &lt;- facetvars</span>\n",
       "<span style=white-space:pre-wrap>        facetsdf &lt;- as.data.frame(mget(facetvars, envir = caller_env))</span>\n",
       "<span style=white-space:pre-wrap>        if (nrow(facetsdf)) </span>\n",
       "<span style=white-space:pre-wrap>            data &lt;- facetsdf</span>\n",
       "<span style=white-space:pre-wrap>    }</span>\n",
       "<span style=white-space:pre-wrap>    if (\"auto\" %in% geom) {</span>\n",
       "<span style=white-space:pre-wrap>        if (\"sample\" %in% aes_names) {</span>\n",
       "<span style=white-space:pre-wrap>            geom[geom == \"auto\"] &lt;- \"qq\"</span>\n",
       "<span style=white-space:pre-wrap>        }</span>\n",
       "<span style=white-space:pre-wrap>        else if (missing(y)) {</span>\n",
       "<span style=white-space:pre-wrap>            x &lt;- rlang::eval_tidy(mapping$x, data, caller_env)</span>\n",
       "<span style=white-space:pre-wrap>            if (is.discrete(x)) {</span>\n",
       "<span style=white-space:pre-wrap>                geom[geom == \"auto\"] &lt;- \"bar\"</span>\n",
       "<span style=white-space:pre-wrap>            }</span>\n",
       "<span style=white-space:pre-wrap>            else {</span>\n",
       "<span style=white-space:pre-wrap>                geom[geom == \"auto\"] &lt;- \"histogram\"</span>\n",
       "<span style=white-space:pre-wrap>            }</span>\n",
       "<span style=white-space:pre-wrap>            if (is.null(ylab)) </span>\n",
       "<span style=white-space:pre-wrap>                ylab &lt;- \"count\"</span>\n",
       "<span style=white-space:pre-wrap>        }</span>\n",
       "<span style=white-space:pre-wrap>        else {</span>\n",
       "<span style=white-space:pre-wrap>            if (missing(x)) {</span>\n",
       "<span style=white-space:pre-wrap>                mapping$x &lt;- rlang::quo(seq_along(!!mapping$y))</span>\n",
       "<span style=white-space:pre-wrap>            }</span>\n",
       "<span style=white-space:pre-wrap>            geom[geom == \"auto\"] &lt;- \"point\"</span>\n",
       "<span style=white-space:pre-wrap>        }</span>\n",
       "<span style=white-space:pre-wrap>    }</span>\n",
       "<span style=white-space:pre-wrap>    p &lt;- ggplot(data, mapping, environment = caller_env)</span>\n",
       "<span style=white-space:pre-wrap>    if (is.null(facets)) {</span>\n",
       "<span style=white-space:pre-wrap>        p &lt;- p + facet_null()</span>\n",
       "<span style=white-space:pre-wrap>    }</span>\n",
       "<span style=white-space:pre-wrap>    else if (is.formula(facets) &amp;&amp; length(facets) == 2) {</span>\n",
       "<span style=white-space:pre-wrap>        p &lt;- p + facet_wrap(facets)</span>\n",
       "<span style=white-space:pre-wrap>    }</span>\n",
       "<span style=white-space:pre-wrap>    else {</span>\n",
       "<span style=white-space:pre-wrap>        p &lt;- p + facet_grid(facets = deparse(facets), margins = margins)</span>\n",
       "<span style=white-space:pre-wrap>    }</span>\n",
       "<span style=white-space:pre-wrap>    if (!is.null(main)) </span>\n",
       "<span style=white-space:pre-wrap>        p &lt;- p + ggtitle(main)</span>\n",
       "<span style=white-space:pre-wrap>    for (g in geom) {</span>\n",
       "<span style=white-space:pre-wrap>        params &lt;- lapply(consts, rlang::eval_tidy)</span>\n",
       "<span style=white-space:pre-wrap>        p &lt;- p + do.call(paste0(\"geom_\", g), params)</span>\n",
       "<span style=white-space:pre-wrap>    }</span>\n",
       "<span style=white-space:pre-wrap>    logv &lt;- function(var) var %in% strsplit(log, \"\")[[1]]</span>\n",
       "<span style=white-space:pre-wrap>    if (logv(\"x\")) </span>\n",
       "<span style=white-space:pre-wrap>        p &lt;- p + scale_x_log10()</span>\n",
       "<span style=white-space:pre-wrap>    if (logv(\"y\")) </span>\n",
       "<span style=white-space:pre-wrap>        p &lt;- p + scale_y_log10()</span>\n",
       "<span style=white-space:pre-wrap>    if (!is.na(asp)) </span>\n",
       "<span style=white-space:pre-wrap>        p &lt;- p + theme(aspect.ratio = asp)</span>\n",
       "<span style=white-space:pre-wrap>    if (!missing(xlab)) </span>\n",
       "<span style=white-space:pre-wrap>        p &lt;- p + xlab(xlab)</span>\n",
       "<span style=white-space:pre-wrap>    if (!missing(ylab)) </span>\n",
       "<span style=white-space:pre-wrap>        p &lt;- p + ylab(ylab)</span>\n",
       "<span style=white-space:pre-wrap>    if (!missing(xlim)) </span>\n",
       "<span style=white-space:pre-wrap>        p &lt;- p + xlim(xlim)</span>\n",
       "<span style=white-space:pre-wrap>    if (!missing(ylim)) </span>\n",
       "<span style=white-space:pre-wrap>        p &lt;- p + ylim(ylim)</span>\n",
       "<span style=white-space:pre-wrap>    p</span>\n",
       "}</code></pre>"
      ],
      "text/latex": [
       "\\begin{minted}{r}\n",
       "function (x, y, ..., data, facets = NULL, margins = FALSE, geom = \"auto\", \n",
       "    xlim = c(NA, NA), ylim = c(NA, NA), log = \"\", main = NULL, \n",
       "    xlab = NULL, ylab = NULL, asp = NA, stat = NULL, position = NULL) \n",
       "\\{\n",
       "    caller\\_env <- parent.frame()\n",
       "    if (!missing(stat)) \n",
       "        warning(\"`stat` is deprecated\", call. = FALSE)\n",
       "    if (!missing(position)) \n",
       "        warning(\"`position` is deprecated\", call. = FALSE)\n",
       "    if (!is.character(geom)) \n",
       "        stop(\"`geom` must be a character vector\", call. = FALSE)\n",
       "    exprs <- rlang::enquos(x = x, y = y, ...)\n",
       "    is\\_missing <- vapply(exprs, rlang::quo\\_is\\_missing, logical(1))\n",
       "    is\\_constant <- (!names(exprs) \\%in\\% ggplot\\_global\\$all\\_aesthetics) \\textbar{} \n",
       "        vapply(exprs, rlang::quo\\_is\\_call, logical(1), name = \"I\")\n",
       "    mapping <- new\\_aes(exprs{[}!is\\_missing \\& !is\\_constant{]}, env = parent.frame())\n",
       "    consts <- exprs{[}is\\_constant{]}\n",
       "    aes\\_names <- names(mapping)\n",
       "    mapping <- rename\\_aes(mapping)\n",
       "    if (is.null(xlab)) \\{\n",
       "        xlab <- rlang::quo\\_name(exprs\\$x)\n",
       "    \\}\n",
       "    if (is.null(ylab)) \\{\n",
       "        if (rlang::quo\\_is\\_null(exprs\\$y)) \\{\n",
       "            ylab <- \"NULL\"\n",
       "        \\}\n",
       "        else \\{\n",
       "            ylab <- rlang::quo\\_name(exprs\\$y)\n",
       "        \\}\n",
       "    \\}\n",
       "    if (missing(data)) \\{\n",
       "        data <- data.frame()\n",
       "        facetvars <- all.vars(facets)\n",
       "        facetvars <- facetvars{[}facetvars != \".\"{]}\n",
       "        names(facetvars) <- facetvars\n",
       "        facetsdf <- as.data.frame(mget(facetvars, envir = caller\\_env))\n",
       "        if (nrow(facetsdf)) \n",
       "            data <- facetsdf\n",
       "    \\}\n",
       "    if (\"auto\" \\%in\\% geom) \\{\n",
       "        if (\"sample\" \\%in\\% aes\\_names) \\{\n",
       "            geom{[}geom == \"auto\"{]} <- \"qq\"\n",
       "        \\}\n",
       "        else if (missing(y)) \\{\n",
       "            x <- rlang::eval\\_tidy(mapping\\$x, data, caller\\_env)\n",
       "            if (is.discrete(x)) \\{\n",
       "                geom{[}geom == \"auto\"{]} <- \"bar\"\n",
       "            \\}\n",
       "            else \\{\n",
       "                geom{[}geom == \"auto\"{]} <- \"histogram\"\n",
       "            \\}\n",
       "            if (is.null(ylab)) \n",
       "                ylab <- \"count\"\n",
       "        \\}\n",
       "        else \\{\n",
       "            if (missing(x)) \\{\n",
       "                mapping\\$x <- rlang::quo(seq\\_along(!!mapping\\$y))\n",
       "            \\}\n",
       "            geom{[}geom == \"auto\"{]} <- \"point\"\n",
       "        \\}\n",
       "    \\}\n",
       "    p <- ggplot(data, mapping, environment = caller\\_env)\n",
       "    if (is.null(facets)) \\{\n",
       "        p <- p + facet\\_null()\n",
       "    \\}\n",
       "    else if (is.formula(facets) \\&\\& length(facets) == 2) \\{\n",
       "        p <- p + facet\\_wrap(facets)\n",
       "    \\}\n",
       "    else \\{\n",
       "        p <- p + facet\\_grid(facets = deparse(facets), margins = margins)\n",
       "    \\}\n",
       "    if (!is.null(main)) \n",
       "        p <- p + ggtitle(main)\n",
       "    for (g in geom) \\{\n",
       "        params <- lapply(consts, rlang::eval\\_tidy)\n",
       "        p <- p + do.call(paste0(\"geom\\_\", g), params)\n",
       "    \\}\n",
       "    logv <- function(var) var \\%in\\% strsplit(log, \"\"){[}{[}1{]}{]}\n",
       "    if (logv(\"x\")) \n",
       "        p <- p + scale\\_x\\_log10()\n",
       "    if (logv(\"y\")) \n",
       "        p <- p + scale\\_y\\_log10()\n",
       "    if (!is.na(asp)) \n",
       "        p <- p + theme(aspect.ratio = asp)\n",
       "    if (!missing(xlab)) \n",
       "        p <- p + xlab(xlab)\n",
       "    if (!missing(ylab)) \n",
       "        p <- p + ylab(ylab)\n",
       "    if (!missing(xlim)) \n",
       "        p <- p + xlim(xlim)\n",
       "    if (!missing(ylim)) \n",
       "        p <- p + ylim(ylim)\n",
       "    p\n",
       "\\}\n",
       "\\end{minted}"
      ],
      "text/markdown": [
       "```r\n",
       "function (x, y, ..., data, facets = NULL, margins = FALSE, geom = \"auto\", \n",
       "    xlim = c(NA, NA), ylim = c(NA, NA), log = \"\", main = NULL, \n",
       "    xlab = NULL, ylab = NULL, asp = NA, stat = NULL, position = NULL) \n",
       "{\n",
       "    caller_env <- parent.frame()\n",
       "    if (!missing(stat)) \n",
       "        warning(\"`stat` is deprecated\", call. = FALSE)\n",
       "    if (!missing(position)) \n",
       "        warning(\"`position` is deprecated\", call. = FALSE)\n",
       "    if (!is.character(geom)) \n",
       "        stop(\"`geom` must be a character vector\", call. = FALSE)\n",
       "    exprs <- rlang::enquos(x = x, y = y, ...)\n",
       "    is_missing <- vapply(exprs, rlang::quo_is_missing, logical(1))\n",
       "    is_constant <- (!names(exprs) %in% ggplot_global$all_aesthetics) | \n",
       "        vapply(exprs, rlang::quo_is_call, logical(1), name = \"I\")\n",
       "    mapping <- new_aes(exprs[!is_missing & !is_constant], env = parent.frame())\n",
       "    consts <- exprs[is_constant]\n",
       "    aes_names <- names(mapping)\n",
       "    mapping <- rename_aes(mapping)\n",
       "    if (is.null(xlab)) {\n",
       "        xlab <- rlang::quo_name(exprs$x)\n",
       "    }\n",
       "    if (is.null(ylab)) {\n",
       "        if (rlang::quo_is_null(exprs$y)) {\n",
       "            ylab <- \"NULL\"\n",
       "        }\n",
       "        else {\n",
       "            ylab <- rlang::quo_name(exprs$y)\n",
       "        }\n",
       "    }\n",
       "    if (missing(data)) {\n",
       "        data <- data.frame()\n",
       "        facetvars <- all.vars(facets)\n",
       "        facetvars <- facetvars[facetvars != \".\"]\n",
       "        names(facetvars) <- facetvars\n",
       "        facetsdf <- as.data.frame(mget(facetvars, envir = caller_env))\n",
       "        if (nrow(facetsdf)) \n",
       "            data <- facetsdf\n",
       "    }\n",
       "    if (\"auto\" %in% geom) {\n",
       "        if (\"sample\" %in% aes_names) {\n",
       "            geom[geom == \"auto\"] <- \"qq\"\n",
       "        }\n",
       "        else if (missing(y)) {\n",
       "            x <- rlang::eval_tidy(mapping$x, data, caller_env)\n",
       "            if (is.discrete(x)) {\n",
       "                geom[geom == \"auto\"] <- \"bar\"\n",
       "            }\n",
       "            else {\n",
       "                geom[geom == \"auto\"] <- \"histogram\"\n",
       "            }\n",
       "            if (is.null(ylab)) \n",
       "                ylab <- \"count\"\n",
       "        }\n",
       "        else {\n",
       "            if (missing(x)) {\n",
       "                mapping$x <- rlang::quo(seq_along(!!mapping$y))\n",
       "            }\n",
       "            geom[geom == \"auto\"] <- \"point\"\n",
       "        }\n",
       "    }\n",
       "    p <- ggplot(data, mapping, environment = caller_env)\n",
       "    if (is.null(facets)) {\n",
       "        p <- p + facet_null()\n",
       "    }\n",
       "    else if (is.formula(facets) && length(facets) == 2) {\n",
       "        p <- p + facet_wrap(facets)\n",
       "    }\n",
       "    else {\n",
       "        p <- p + facet_grid(facets = deparse(facets), margins = margins)\n",
       "    }\n",
       "    if (!is.null(main)) \n",
       "        p <- p + ggtitle(main)\n",
       "    for (g in geom) {\n",
       "        params <- lapply(consts, rlang::eval_tidy)\n",
       "        p <- p + do.call(paste0(\"geom_\", g), params)\n",
       "    }\n",
       "    logv <- function(var) var %in% strsplit(log, \"\")[[1]]\n",
       "    if (logv(\"x\")) \n",
       "        p <- p + scale_x_log10()\n",
       "    if (logv(\"y\")) \n",
       "        p <- p + scale_y_log10()\n",
       "    if (!is.na(asp)) \n",
       "        p <- p + theme(aspect.ratio = asp)\n",
       "    if (!missing(xlab)) \n",
       "        p <- p + xlab(xlab)\n",
       "    if (!missing(ylab)) \n",
       "        p <- p + ylab(ylab)\n",
       "    if (!missing(xlim)) \n",
       "        p <- p + xlim(xlim)\n",
       "    if (!missing(ylim)) \n",
       "        p <- p + ylim(ylim)\n",
       "    p\n",
       "}\n",
       "```"
      ],
      "text/plain": [
       "function (x, y, ..., data, facets = NULL, margins = FALSE, geom = \"auto\", \n",
       "    xlim = c(NA, NA), ylim = c(NA, NA), log = \"\", main = NULL, \n",
       "    xlab = NULL, ylab = NULL, asp = NA, stat = NULL, position = NULL) \n",
       "{\n",
       "    caller_env <- parent.frame()\n",
       "    if (!missing(stat)) \n",
       "        warning(\"`stat` is deprecated\", call. = FALSE)\n",
       "    if (!missing(position)) \n",
       "        warning(\"`position` is deprecated\", call. = FALSE)\n",
       "    if (!is.character(geom)) \n",
       "        stop(\"`geom` must be a character vector\", call. = FALSE)\n",
       "    exprs <- rlang::enquos(x = x, y = y, ...)\n",
       "    is_missing <- vapply(exprs, rlang::quo_is_missing, logical(1))\n",
       "    is_constant <- (!names(exprs) %in% ggplot_global$all_aesthetics) | \n",
       "        vapply(exprs, rlang::quo_is_call, logical(1), name = \"I\")\n",
       "    mapping <- new_aes(exprs[!is_missing & !is_constant], env = parent.frame())\n",
       "    consts <- exprs[is_constant]\n",
       "    aes_names <- names(mapping)\n",
       "    mapping <- rename_aes(mapping)\n",
       "    if (is.null(xlab)) {\n",
       "        xlab <- rlang::quo_name(exprs$x)\n",
       "    }\n",
       "    if (is.null(ylab)) {\n",
       "        if (rlang::quo_is_null(exprs$y)) {\n",
       "            ylab <- \"NULL\"\n",
       "        }\n",
       "        else {\n",
       "            ylab <- rlang::quo_name(exprs$y)\n",
       "        }\n",
       "    }\n",
       "    if (missing(data)) {\n",
       "        data <- data.frame()\n",
       "        facetvars <- all.vars(facets)\n",
       "        facetvars <- facetvars[facetvars != \".\"]\n",
       "        names(facetvars) <- facetvars\n",
       "        facetsdf <- as.data.frame(mget(facetvars, envir = caller_env))\n",
       "        if (nrow(facetsdf)) \n",
       "            data <- facetsdf\n",
       "    }\n",
       "    if (\"auto\" %in% geom) {\n",
       "        if (\"sample\" %in% aes_names) {\n",
       "            geom[geom == \"auto\"] <- \"qq\"\n",
       "        }\n",
       "        else if (missing(y)) {\n",
       "            x <- rlang::eval_tidy(mapping$x, data, caller_env)\n",
       "            if (is.discrete(x)) {\n",
       "                geom[geom == \"auto\"] <- \"bar\"\n",
       "            }\n",
       "            else {\n",
       "                geom[geom == \"auto\"] <- \"histogram\"\n",
       "            }\n",
       "            if (is.null(ylab)) \n",
       "                ylab <- \"count\"\n",
       "        }\n",
       "        else {\n",
       "            if (missing(x)) {\n",
       "                mapping$x <- rlang::quo(seq_along(!!mapping$y))\n",
       "            }\n",
       "            geom[geom == \"auto\"] <- \"point\"\n",
       "        }\n",
       "    }\n",
       "    p <- ggplot(data, mapping, environment = caller_env)\n",
       "    if (is.null(facets)) {\n",
       "        p <- p + facet_null()\n",
       "    }\n",
       "    else if (is.formula(facets) && length(facets) == 2) {\n",
       "        p <- p + facet_wrap(facets)\n",
       "    }\n",
       "    else {\n",
       "        p <- p + facet_grid(facets = deparse(facets), margins = margins)\n",
       "    }\n",
       "    if (!is.null(main)) \n",
       "        p <- p + ggtitle(main)\n",
       "    for (g in geom) {\n",
       "        params <- lapply(consts, rlang::eval_tidy)\n",
       "        p <- p + do.call(paste0(\"geom_\", g), params)\n",
       "    }\n",
       "    logv <- function(var) var %in% strsplit(log, \"\")[[1]]\n",
       "    if (logv(\"x\")) \n",
       "        p <- p + scale_x_log10()\n",
       "    if (logv(\"y\")) \n",
       "        p <- p + scale_y_log10()\n",
       "    if (!is.na(asp)) \n",
       "        p <- p + theme(aspect.ratio = asp)\n",
       "    if (!missing(xlab)) \n",
       "        p <- p + xlab(xlab)\n",
       "    if (!missing(ylab)) \n",
       "        p <- p + ylab(ylab)\n",
       "    if (!missing(xlim)) \n",
       "        p <- p + xlim(xlim)\n",
       "    if (!missing(ylim)) \n",
       "        p <- p + ylim(ylim)\n",
       "    p\n",
       "}\n",
       "<bytecode: 0x55cd9f51d538>\n",
       "<environment: namespace:ggplot2>"
      ]
     },
     "metadata": {},
     "output_type": "display_data"
    }
   ],
   "source": [
    "qplot"
   ]
  },
  {
   "cell_type": "markdown",
   "metadata": {},
   "source": [
    "PCに入れていないパッケージを準備する時は install.packeges を使用してください。<br>\n",
    "dependenciesは依存関係にあるパッケージをまとめてインストールしてくれます。"
   ]
  },
  {
   "cell_type": "code",
   "execution_count": 15,
   "metadata": {},
   "outputs": [
    {
     "name": "stderr",
     "output_type": "stream",
     "text": [
      "also installing the dependency ‘feather’\n",
      "\n",
      "Updating HTML index of packages in '.Library'\n",
      "Making 'packages.html' ... done\n"
     ]
    }
   ],
   "source": [
    "install.packages(\"tidyverse\", dependencies = TRUE)"
   ]
  },
  {
   "cell_type": "markdown",
   "metadata": {},
   "source": [
    "現在インストール済みのパッケージの確認<br>\n",
    "これもRstudioならコマンドを打たずに確認が取れる。"
   ]
  },
  {
   "cell_type": "code",
   "execution_count": 11,
   "metadata": {},
   "outputs": [],
   "source": [
    "library()"
   ]
  },
  {
   "cell_type": "markdown",
   "metadata": {},
   "source": [
    "<b>【注意】</b><br>\n",
    "Rstudioがあるならばマウスでカチカチするだけで簡単にインストールできるので、<br>\n",
    "だるい時は覚えなくても大丈夫だと思っています。<br>\n",
    "(なんならRでもマウスカチカチでなんとかなる)"
   ]
  },
  {
   "cell_type": "markdown",
   "metadata": {},
   "source": [
    "# ggplot2を使用してみよう\n",
    "基本的なRパッケージである「ggplot2」を使用して、<br>\n",
    "簡単にRパッケージの使用方法を学びましょう。"
   ]
  },
  {
   "cell_type": "code",
   "execution_count": 12,
   "metadata": {},
   "outputs": [],
   "source": [
    "library(ggplot2)"
   ]
  },
  {
   "cell_type": "code",
   "execution_count": 17,
   "metadata": {},
   "outputs": [],
   "source": [
    "a <- c(1,2,3,4,5,6)\n",
    "b <- a**3"
   ]
  },
  {
   "cell_type": "code",
   "execution_count": 18,
   "metadata": {
    "collapsed": true
   },
   "outputs": [
    {
     "data": {
      "image/png": "[encoded data removed]",
      "text/plain": [
       "plot without title"
      ]
     },
     "metadata": {},
     "output_type": "display_data"
    }
   ],
   "source": [
    "qplot(a,b)"
   ]
  },
  {
   "cell_type": "code",
   "execution_count": 24,
   "metadata": {
    "collapsed": true
   },
   "outputs": [
    {
     "data": {
      "image/png": "[encoded data removed]",
      "text/plain": [
       "plot without title"
      ]
     },
     "metadata": {},
     "output_type": "display_data"
    }
   ],
   "source": [
    "qplot(a , binwidth=0.1)"
   ]
  },
  {
   "cell_type": "code",
   "execution_count": 26,
   "metadata": {
    "collapsed": true
   },
   "outputs": [
    {
     "name": "stderr",
     "output_type": "stream",
     "text": [
      "`stat_bin()` using `bins = 30`. Pick better value with `binwidth`.\n"
     ]
    },
    {
     "data": {
      "image/png": "[encoded data removed]",
      "text/plain": [
       "plot without title"
      ]
     },
     "metadata": {},
     "output_type": "display_data"
    }
   ],
   "source": [
    "ab <- c(1,1,1,2,2,2,2,2,2,2,3)\n",
    "qplot(ab)"
   ]
  },
  {
   "cell_type": "markdown",
   "metadata": {},
   "source": [
    "# データを作成して可視化しよう"
   ]
  },
  {
   "cell_type": "markdown",
   "metadata": {},
   "source": [
    "replicate関数は指定した回数だけ、設定した処理を繰り返します。<br>\n",
    "`replicate(第一引数 : 繰り返す回数 , 第２引数 : 繰り返す処理 )`"
   ]
  },
  {
   "cell_type": "code",
   "execution_count": null,
   "metadata": {},
   "outputs": [],
   "source": [
    "roll <- function(){\n",
    "    die <- 1:6\n",
    "    dice <- sample(die , size = 3, replace = TRUE)\n",
    "    sum(dice)\n",
    "}"
   ]
  },
  {
   "cell_type": "code",
   "execution_count": 27,
   "metadata": {
    "scrolled": true
   },
   "outputs": [
    {
     "name": "stdout",
     "output_type": "stream",
     "text": [
      "[1] \"hello\"\n",
      "[1] \"hello\"\n",
      "[1] \"hello\"\n"
     ]
    },
    {
     "data": {
      "text/html": [
       "<ol class=list-inline>\n",
       "\t<li>'hello'</li>\n",
       "\t<li>'hello'</li>\n",
       "\t<li>'hello'</li>\n",
       "</ol>\n"
      ],
      "text/latex": [
       "\\begin{enumerate*}\n",
       "\\item 'hello'\n",
       "\\item 'hello'\n",
       "\\item 'hello'\n",
       "\\end{enumerate*}\n"
      ],
      "text/markdown": [
       "1. 'hello'\n",
       "2. 'hello'\n",
       "3. 'hello'\n",
       "\n",
       "\n"
      ],
      "text/plain": [
       "[1] \"hello\" \"hello\" \"hello\""
      ]
     },
     "metadata": {},
     "output_type": "display_data"
    }
   ],
   "source": [
    "replicate(3, print(\"hello\"))"
   ]
  },
  {
   "cell_type": "code",
   "execution_count": 118,
   "metadata": {
    "collapsed": true
   },
   "outputs": [
    {
     "data": {
      "text/plain": [
       "   Min. 1st Qu.  Median    Mean 3rd Qu.    Max. \n",
       "   3.00    8.00   10.00   10.51   13.00   18.00 "
      ]
     },
     "metadata": {},
     "output_type": "display_data"
    },
    {
     "name": "stderr",
     "output_type": "stream",
     "text": [
      "`stat_bin()` using `bins = 30`. Pick better value with `binwidth`.\n"
     ]
    },
    {
     "data": {
      "image/png": "[encoded data removed]",
      "text/plain": [
       "plot without title"
      ]
     },
     "metadata": {},
     "output_type": "display_data"
    }
   ],
   "source": [
    "count <- replicate(10000,roll())\n",
    "summary(count)\n",
    "qplot(count)"
   ]
  },
  {
   "cell_type": "code",
   "execution_count": 119,
   "metadata": {
    "collapsed": true
   },
   "outputs": [
    {
     "data": {
      "text/plain": [
       "   Min. 1st Qu.  Median    Mean 3rd Qu.    Max. \n",
       "   3.00    8.00   11.00   10.53   13.00   18.00 "
      ]
     },
     "metadata": {},
     "output_type": "display_data"
    },
    {
     "name": "stderr",
     "output_type": "stream",
     "text": [
      "`stat_bin()` using `bins = 30`. Pick better value with `binwidth`.\n"
     ]
    },
    {
     "data": {
      "image/png": "[encoded data removed]",
      "text/plain": [
       "plot without title"
      ]
     },
     "metadata": {},
     "output_type": "display_data"
    }
   ],
   "source": [
    "count <- replicate(10000,roll())\n",
    "summary(count)\n",
    "qplot(count)"
   ]
  },
  {
   "cell_type": "markdown",
   "metadata": {},
   "source": [
    "# ヘルプページを活用してパッケージを使いこなそう\n",
    "関数やパッケージの名前の前に` ? `をつけると、ヘルプページを表示してくれます。<br>\n",
    "例えば平方根を表示してくれる`sqrt`のヘルプは……"
   ]
  },
  {
   "cell_type": "code",
   "execution_count": 128,
   "metadata": {},
   "outputs": [],
   "source": [
    "?sqrt"
   ]
  },
  {
   "cell_type": "markdown",
   "metadata": {},
   "source": [
    "## ヘルプページの構成要素\n",
    "Rのヘルプページは下記のセクションで分割されています。<br>\n",
    "とりあえず何がどこに書いているのか知って置くと幸せになれます。\n",
    "***\n",
    "### Discription (概要)\n",
    "関数がしてくれることを、ざっくりと。\n",
    "### Usage (構文)\n",
    "関数の呼び出し方の例。個々の引数はRが想定している順番(デフォルトでの設定)で書いてる\n",
    "### Arguments (引数)\n",
    "関数がとる引数、Rが引数に渡すべき値として想定しているデータ型を説明。\n",
    "### Details (詳細)\n",
    "関数の動作について詳細な説明。注意事項があればここに書いてる。\n",
    "### Valus (戻り値)\n",
    "関数を実行した時に返ってくる値について。\n",
    "### See Also (参照)\n",
    "関連するR関数のリスト\n",
    "### Example (使用例)\n",
    "確実に動作する使用例。通常の使用法以外の使用法がある場合はこっちで説明。"
   ]
  },
  {
   "cell_type": "markdown",
   "metadata": {},
   "source": [
    "***\n",
    "今回はこのヘルプを使用してサイコロに細工をして、好きな目を出やすくしましょう。"
   ]
  },
  {
   "cell_type": "code",
   "execution_count": 137,
   "metadata": {},
   "outputs": [],
   "source": [
    "?sample"
   ]
  },
  {
   "cell_type": "markdown",
   "metadata": {},
   "source": [
    "正々堂々サイコロを転がすと、各目の出現確率は同じなので、似たような回数が出るはず。"
   ]
  },
  {
   "cell_type": "code",
   "execution_count": 132,
   "metadata": {
    "collapsed": true
   },
   "outputs": [
    {
     "name": "stderr",
     "output_type": "stream",
     "text": [
      "`stat_bin()` using `bins = 30`. Pick better value with `binwidth`.\n"
     ]
    },
    {
     "data": {
      "image/png": "[encoded data removed]",
      "text/plain": [
       "plot without title"
      ]
     },
     "metadata": {},
     "output_type": "display_data"
    }
   ],
   "source": [
    "a <- sample(1:6 ,size = 10000 ,replace = TRUE)\n",
    "qplot(a)"
   ]
  },
  {
   "cell_type": "markdown",
   "metadata": {},
   "source": [
    "ここでイカサマTime。<br>`\n",
    "weight`をいじって大きい目が出やすいように書き換えます。"
   ]
  },
  {
   "cell_type": "code",
   "execution_count": 143,
   "metadata": {
    "collapsed": true
   },
   "outputs": [
    {
     "name": "stderr",
     "output_type": "stream",
     "text": [
      "`stat_bin()` using `bins = 30`. Pick better value with `binwidth`.\n"
     ]
    },
    {
     "data": {
      "image/png": "[encoded data removed]",
      "text/plain": [
       "plot without title"
      ]
     },
     "metadata": {},
     "output_type": "display_data"
    }
   ],
   "source": [
    "w <- c(1/100,1/100,1/100,1/100,1/100,95/100)\n",
    "a <- sample(1:6 , size = 10000 , replace = TRUE, prob =w)\n",
    "qplot(a)"
   ]
  }
 ],
 "metadata": {
  "kernelspec": {
   "display_name": "R",
   "language": "R",
   "name": "ir"
  },
  "language_info": {
   "codemirror_mode": "r",
   "file_extension": ".r",
   "mimetype": "text/x-r-source",
   "name": "R",
   "pygments_lexer": "r",
   "version": "3.5.1"
  }
 },
 "nbformat": 4,
 "nbformat_minor": 2
}
