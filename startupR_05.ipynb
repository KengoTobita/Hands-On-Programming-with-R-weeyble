{
 "cells": [
  {
   "cell_type": "markdown",
   "metadata": {},
   "source": [
    "# 第５章 値の書き換え"
   ]
  },
  {
   "cell_type": "code",
   "execution_count": 1,
   "metadata": {},
   "outputs": [],
   "source": [
    "deck <- read.csv(\"deck.csv\")"
   ]
  },
  {
   "cell_type": "markdown",
   "metadata": {},
   "source": [
    "データの書き換えによる混乱を防ぐため、<br>\n",
    "元のdeckとは別に、deck2を作成。"
   ]
  },
  {
   "cell_type": "code",
   "execution_count": 3,
   "metadata": {
    "scrolled": true
   },
   "outputs": [
    {
     "data": {
      "text/html": [
       "<table>\n",
       "<thead><tr><th scope=col>face</th><th scope=col>suit</th><th scope=col>value</th></tr></thead>\n",
       "<tbody>\n",
       "\t<tr><td>king  </td><td>spades</td><td>13    </td></tr>\n",
       "\t<tr><td>queen </td><td>spades</td><td>12    </td></tr>\n",
       "\t<tr><td>jack  </td><td>spades</td><td>11    </td></tr>\n",
       "\t<tr><td>ten   </td><td>spades</td><td>10    </td></tr>\n",
       "\t<tr><td>nine  </td><td>spades</td><td> 9    </td></tr>\n",
       "\t<tr><td>eight </td><td>spades</td><td> 8    </td></tr>\n",
       "</tbody>\n",
       "</table>\n"
      ],
      "text/latex": [
       "\\begin{tabular}{r|lll}\n",
       " face & suit & value\\\\\n",
       "\\hline\n",
       "\t king   & spades & 13    \\\\\n",
       "\t queen  & spades & 12    \\\\\n",
       "\t jack   & spades & 11    \\\\\n",
       "\t ten    & spades & 10    \\\\\n",
       "\t nine   & spades &  9    \\\\\n",
       "\t eight  & spades &  8    \\\\\n",
       "\\end{tabular}\n"
      ],
      "text/markdown": [
       "\n",
       "| face | suit | value |\n",
       "|---|---|---|\n",
       "| king   | spades | 13     |\n",
       "| queen  | spades | 12     |\n",
       "| jack   | spades | 11     |\n",
       "| ten    | spades | 10     |\n",
       "| nine   | spades |  9     |\n",
       "| eight  | spades |  8     |\n",
       "\n"
      ],
      "text/plain": [
       "  face  suit   value\n",
       "1 king  spades 13   \n",
       "2 queen spades 12   \n",
       "3 jack  spades 11   \n",
       "4 ten   spades 10   \n",
       "5 nine  spades  9   \n",
       "6 eight spades  8   "
      ]
     },
     "metadata": {},
     "output_type": "display_data"
    },
    {
     "data": {
      "text/html": [
       "<table>\n",
       "<thead><tr><th scope=col>face</th><th scope=col>suit</th><th scope=col>value</th></tr></thead>\n",
       "<tbody>\n",
       "\t<tr><td>king  </td><td>spades</td><td>13    </td></tr>\n",
       "\t<tr><td>queen </td><td>spades</td><td>12    </td></tr>\n",
       "\t<tr><td>jack  </td><td>spades</td><td>11    </td></tr>\n",
       "\t<tr><td>ten   </td><td>spades</td><td>10    </td></tr>\n",
       "\t<tr><td>nine  </td><td>spades</td><td> 9    </td></tr>\n",
       "\t<tr><td>eight </td><td>spades</td><td> 8    </td></tr>\n",
       "</tbody>\n",
       "</table>\n"
      ],
      "text/latex": [
       "\\begin{tabular}{r|lll}\n",
       " face & suit & value\\\\\n",
       "\\hline\n",
       "\t king   & spades & 13    \\\\\n",
       "\t queen  & spades & 12    \\\\\n",
       "\t jack   & spades & 11    \\\\\n",
       "\t ten    & spades & 10    \\\\\n",
       "\t nine   & spades &  9    \\\\\n",
       "\t eight  & spades &  8    \\\\\n",
       "\\end{tabular}\n"
      ],
      "text/markdown": [
       "\n",
       "| face | suit | value |\n",
       "|---|---|---|\n",
       "| king   | spades | 13     |\n",
       "| queen  | spades | 12     |\n",
       "| jack   | spades | 11     |\n",
       "| ten    | spades | 10     |\n",
       "| nine   | spades |  9     |\n",
       "| eight  | spades |  8     |\n",
       "\n"
      ],
      "text/plain": [
       "  face  suit   value\n",
       "1 king  spades 13   \n",
       "2 queen spades 12   \n",
       "3 jack  spades 11   \n",
       "4 ten   spades 10   \n",
       "5 nine  spades  9   \n",
       "6 eight spades  8   "
      ]
     },
     "metadata": {},
     "output_type": "display_data"
    }
   ],
   "source": [
    "deck2 <- deck\n",
    "head(deck)\n",
    "head(deck2)"
   ]
  },
  {
   "cell_type": "markdown",
   "metadata": {},
   "source": [
    "## 5.1 その場での値の変更"
   ]
  },
  {
   "cell_type": "code",
   "execution_count": 5,
   "metadata": {},
   "outputs": [
    {
     "data": {
      "text/html": [
       "<ol class=list-inline>\n",
       "\t<li>0</li>\n",
       "\t<li>0</li>\n",
       "\t<li>0</li>\n",
       "\t<li>0</li>\n",
       "\t<li>0</li>\n",
       "\t<li>0</li>\n",
       "\t<li>0</li>\n",
       "\t<li>0</li>\n",
       "\t<li>0</li>\n",
       "\t<li>0</li>\n",
       "</ol>\n"
      ],
      "text/latex": [
       "\\begin{enumerate*}\n",
       "\\item 0\n",
       "\\item 0\n",
       "\\item 0\n",
       "\\item 0\n",
       "\\item 0\n",
       "\\item 0\n",
       "\\item 0\n",
       "\\item 0\n",
       "\\item 0\n",
       "\\item 0\n",
       "\\end{enumerate*}\n"
      ],
      "text/markdown": [
       "1. 0\n",
       "2. 0\n",
       "3. 0\n",
       "4. 0\n",
       "5. 0\n",
       "6. 0\n",
       "7. 0\n",
       "8. 0\n",
       "9. 0\n",
       "10. 0\n",
       "\n",
       "\n"
      ],
      "text/plain": [
       " [1] 0 0 0 0 0 0 0 0 0 0"
      ]
     },
     "metadata": {},
     "output_type": "display_data"
    }
   ],
   "source": [
    "vec <- c(rep(0,10))\n",
    "vec"
   ]
  },
  {
   "cell_type": "markdown",
   "metadata": {},
   "source": [
    "前章の復習ですが、ベクトルの中の特定の要素を指定するときは、<br>\n",
    "以下のように指定します。"
   ]
  },
  {
   "cell_type": "code",
   "execution_count": 6,
   "metadata": {},
   "outputs": [
    {
     "data": {
      "text/html": [
       "0"
      ],
      "text/latex": [
       "0"
      ],
      "text/markdown": [
       "0"
      ],
      "text/plain": [
       "[1] 0"
      ]
     },
     "metadata": {},
     "output_type": "display_data"
    }
   ],
   "source": [
    "vec[1]"
   ]
  },
  {
   "cell_type": "markdown",
   "metadata": {},
   "source": [
    "そして、下記の通りに` <- `を使用することで値を更新することが可能です。"
   ]
  },
  {
   "cell_type": "code",
   "execution_count": 7,
   "metadata": {},
   "outputs": [
    {
     "data": {
      "text/html": [
       "<ol class=list-inline>\n",
       "\t<li>1000</li>\n",
       "\t<li>0</li>\n",
       "\t<li>0</li>\n",
       "\t<li>0</li>\n",
       "\t<li>0</li>\n",
       "\t<li>0</li>\n",
       "\t<li>0</li>\n",
       "\t<li>0</li>\n",
       "\t<li>0</li>\n",
       "\t<li>0</li>\n",
       "</ol>\n"
      ],
      "text/latex": [
       "\\begin{enumerate*}\n",
       "\\item 1000\n",
       "\\item 0\n",
       "\\item 0\n",
       "\\item 0\n",
       "\\item 0\n",
       "\\item 0\n",
       "\\item 0\n",
       "\\item 0\n",
       "\\item 0\n",
       "\\item 0\n",
       "\\end{enumerate*}\n"
      ],
      "text/markdown": [
       "1. 1000\n",
       "2. 0\n",
       "3. 0\n",
       "4. 0\n",
       "5. 0\n",
       "6. 0\n",
       "7. 0\n",
       "8. 0\n",
       "9. 0\n",
       "10. 0\n",
       "\n",
       "\n"
      ],
      "text/plain": [
       " [1] 1000    0    0    0    0    0    0    0    0    0"
      ]
     },
     "metadata": {},
     "output_type": "display_data"
    }
   ],
   "source": [
    "vec[1] <- 1000\n",
    "vec"
   ]
  },
  {
   "cell_type": "code",
   "execution_count": 8,
   "metadata": {},
   "outputs": [
    {
     "data": {
      "text/html": [
       "<ol class=list-inline>\n",
       "\t<li>1</li>\n",
       "\t<li>0</li>\n",
       "\t<li>1</li>\n",
       "\t<li>0</li>\n",
       "\t<li>1</li>\n",
       "\t<li>0</li>\n",
       "\t<li>0</li>\n",
       "\t<li>0</li>\n",
       "\t<li>0</li>\n",
       "\t<li>0</li>\n",
       "</ol>\n"
      ],
      "text/latex": [
       "\\begin{enumerate*}\n",
       "\\item 1\n",
       "\\item 0\n",
       "\\item 1\n",
       "\\item 0\n",
       "\\item 1\n",
       "\\item 0\n",
       "\\item 0\n",
       "\\item 0\n",
       "\\item 0\n",
       "\\item 0\n",
       "\\end{enumerate*}\n"
      ],
      "text/markdown": [
       "1. 1\n",
       "2. 0\n",
       "3. 1\n",
       "4. 0\n",
       "5. 1\n",
       "6. 0\n",
       "7. 0\n",
       "8. 0\n",
       "9. 0\n",
       "10. 0\n",
       "\n",
       "\n"
      ],
      "text/plain": [
       " [1] 1 0 1 0 1 0 0 0 0 0"
      ]
     },
     "metadata": {},
     "output_type": "display_data"
    }
   ],
   "source": [
    "vec[c(1,3,5)] <- 1\n",
    "vec"
   ]
  },
  {
   "cell_type": "code",
   "execution_count": 9,
   "metadata": {},
   "outputs": [
    {
     "data": {
      "text/html": [
       "<ol class=list-inline>\n",
       "\t<li>1</li>\n",
       "\t<li>0</li>\n",
       "\t<li>1</li>\n",
       "\t<li>1</li>\n",
       "\t<li>2</li>\n",
       "\t<li>1</li>\n",
       "\t<li>0</li>\n",
       "\t<li>0</li>\n",
       "\t<li>0</li>\n",
       "\t<li>0</li>\n",
       "</ol>\n"
      ],
      "text/latex": [
       "\\begin{enumerate*}\n",
       "\\item 1\n",
       "\\item 0\n",
       "\\item 1\n",
       "\\item 1\n",
       "\\item 2\n",
       "\\item 1\n",
       "\\item 0\n",
       "\\item 0\n",
       "\\item 0\n",
       "\\item 0\n",
       "\\end{enumerate*}\n"
      ],
      "text/markdown": [
       "1. 1\n",
       "2. 0\n",
       "3. 1\n",
       "4. 1\n",
       "5. 2\n",
       "6. 1\n",
       "7. 0\n",
       "8. 0\n",
       "9. 0\n",
       "10. 0\n",
       "\n",
       "\n"
      ],
      "text/plain": [
       " [1] 1 0 1 1 2 1 0 0 0 0"
      ]
     },
     "metadata": {},
     "output_type": "display_data"
    }
   ],
   "source": [
    "vec[4:6] <- vec[4:6] +1\n",
    "vec"
   ]
  },
  {
   "cell_type": "markdown",
   "metadata": {},
   "source": [
    "また、存在しない添字を指定することで新しい値を作成することも可能です。"
   ]
  },
  {
   "cell_type": "code",
   "execution_count": 13,
   "metadata": {},
   "outputs": [
    {
     "data": {
      "text/html": [
       "<ol class=list-inline>\n",
       "\t<li>1</li>\n",
       "\t<li>0</li>\n",
       "\t<li>1</li>\n",
       "\t<li>1</li>\n",
       "\t<li>2</li>\n",
       "\t<li>1</li>\n",
       "\t<li>0</li>\n",
       "\t<li>0</li>\n",
       "\t<li>0</li>\n",
       "\t<li>0</li>\n",
       "\t<li>999</li>\n",
       "\t<li>&lt;NA&gt;</li>\n",
       "\t<li>&lt;NA&gt;</li>\n",
       "\t<li>999</li>\n",
       "</ol>\n"
      ],
      "text/latex": [
       "\\begin{enumerate*}\n",
       "\\item 1\n",
       "\\item 0\n",
       "\\item 1\n",
       "\\item 1\n",
       "\\item 2\n",
       "\\item 1\n",
       "\\item 0\n",
       "\\item 0\n",
       "\\item 0\n",
       "\\item 0\n",
       "\\item 999\n",
       "\\item <NA>\n",
       "\\item <NA>\n",
       "\\item 999\n",
       "\\end{enumerate*}\n"
      ],
      "text/markdown": [
       "1. 1\n",
       "2. 0\n",
       "3. 1\n",
       "4. 1\n",
       "5. 2\n",
       "6. 1\n",
       "7. 0\n",
       "8. 0\n",
       "9. 0\n",
       "10. 0\n",
       "11. 999\n",
       "12. &lt;NA&gt;\n",
       "13. &lt;NA&gt;\n",
       "14. 999\n",
       "\n",
       "\n"
      ],
      "text/plain": [
       " [1]   1   0   1   1   2   1   0   0   0   0 999  NA  NA 999"
      ]
     },
     "metadata": {},
     "output_type": "display_data"
    }
   ],
   "source": [
    "#vecは１０個の要素からなるベクトルです。なので、[11]を指定することで……\n",
    "vec[11] <- 999\n",
    "vec[14] <- 999\n",
    "vec"
   ]
  },
  {
   "cell_type": "markdown",
   "metadata": {},
   "source": [
    "この方法を使用することで、データセットに新しい変数を作成することができます。"
   ]
  },
  {
   "cell_type": "code",
   "execution_count": 18,
   "metadata": {},
   "outputs": [
    {
     "data": {
      "text/html": [
       "<table>\n",
       "<thead><tr><th scope=col>face</th><th scope=col>suit</th><th scope=col>value</th><th scope=col>new</th></tr></thead>\n",
       "<tbody>\n",
       "\t<tr><td>king  </td><td>spades</td><td>13    </td><td>1     </td></tr>\n",
       "\t<tr><td>queen </td><td>spades</td><td>12    </td><td>2     </td></tr>\n",
       "\t<tr><td>jack  </td><td>spades</td><td>11    </td><td>3     </td></tr>\n",
       "\t<tr><td>ten   </td><td>spades</td><td>10    </td><td>4     </td></tr>\n",
       "\t<tr><td>nine  </td><td>spades</td><td> 9    </td><td>5     </td></tr>\n",
       "\t<tr><td>eight </td><td>spades</td><td> 8    </td><td>6     </td></tr>\n",
       "</tbody>\n",
       "</table>\n"
      ],
      "text/latex": [
       "\\begin{tabular}{r|llll}\n",
       " face & suit & value & new\\\\\n",
       "\\hline\n",
       "\t king   & spades & 13     & 1     \\\\\n",
       "\t queen  & spades & 12     & 2     \\\\\n",
       "\t jack   & spades & 11     & 3     \\\\\n",
       "\t ten    & spades & 10     & 4     \\\\\n",
       "\t nine   & spades &  9     & 5     \\\\\n",
       "\t eight  & spades &  8     & 6     \\\\\n",
       "\\end{tabular}\n"
      ],
      "text/markdown": [
       "\n",
       "| face | suit | value | new |\n",
       "|---|---|---|---|\n",
       "| king   | spades | 13     | 1      |\n",
       "| queen  | spades | 12     | 2      |\n",
       "| jack   | spades | 11     | 3      |\n",
       "| ten    | spades | 10     | 4      |\n",
       "| nine   | spades |  9     | 5      |\n",
       "| eight  | spades |  8     | 6      |\n",
       "\n"
      ],
      "text/plain": [
       "  face  suit   value new\n",
       "1 king  spades 13    1  \n",
       "2 queen spades 12    2  \n",
       "3 jack  spades 11    3  \n",
       "4 ten   spades 10    4  \n",
       "5 nine  spades  9    5  \n",
       "6 eight spades  8    6  "
      ]
     },
     "metadata": {},
     "output_type": "display_data"
    }
   ],
   "source": [
    "deck2$new <- 1:52\n",
    "head(deck2)"
   ]
  },
  {
   "cell_type": "markdown",
   "metadata": {},
   "source": [
    "またnullを使用することで、データセットの変数を削除することも可能です。"
   ]
  },
  {
   "cell_type": "code",
   "execution_count": 23,
   "metadata": {},
   "outputs": [
    {
     "data": {
      "text/html": [
       "<table>\n",
       "<thead><tr><th scope=col>face</th><th scope=col>suit</th><th scope=col>value</th></tr></thead>\n",
       "<tbody>\n",
       "\t<tr><td>king  </td><td>spades</td><td>13    </td></tr>\n",
       "\t<tr><td>queen </td><td>spades</td><td>12    </td></tr>\n",
       "\t<tr><td>jack  </td><td>spades</td><td>11    </td></tr>\n",
       "\t<tr><td>ten   </td><td>spades</td><td>10    </td></tr>\n",
       "\t<tr><td>nine  </td><td>spades</td><td> 9    </td></tr>\n",
       "\t<tr><td>eight </td><td>spades</td><td> 8    </td></tr>\n",
       "</tbody>\n",
       "</table>\n"
      ],
      "text/latex": [
       "\\begin{tabular}{r|lll}\n",
       " face & suit & value\\\\\n",
       "\\hline\n",
       "\t king   & spades & 13    \\\\\n",
       "\t queen  & spades & 12    \\\\\n",
       "\t jack   & spades & 11    \\\\\n",
       "\t ten    & spades & 10    \\\\\n",
       "\t nine   & spades &  9    \\\\\n",
       "\t eight  & spades &  8    \\\\\n",
       "\\end{tabular}\n"
      ],
      "text/markdown": [
       "\n",
       "| face | suit | value |\n",
       "|---|---|---|\n",
       "| king   | spades | 13     |\n",
       "| queen  | spades | 12     |\n",
       "| jack   | spades | 11     |\n",
       "| ten    | spades | 10     |\n",
       "| nine   | spades |  9     |\n",
       "| eight  | spades |  8     |\n",
       "\n"
      ],
      "text/plain": [
       "  face  suit   value\n",
       "1 king  spades 13   \n",
       "2 queen spades 12   \n",
       "3 jack  spades 11   \n",
       "4 ten   spades 10   \n",
       "5 nine  spades  9   \n",
       "6 eight spades  8   "
      ]
     },
     "metadata": {},
     "output_type": "display_data"
    }
   ],
   "source": [
    "deck2$new <- NULL\n",
    "head(deck2)"
   ]
  },
  {
   "cell_type": "markdown",
   "metadata": {},
   "source": [
    "ここからはdeck2をポーカで使用しやすいように加工してみます。<br>\n",
    "ポーカーにおいてエースはキングより強い最強のカードです。<br>\n",
    "データフレームではエースはvalueが１に設定されています。<br>\n",
    "コレではポーカーをするさいにvalueで強さを比較しようとしても間違いが生じます。<br>\n",
    "そこで今回はエースのvalueを14に書き換えてみましょう。"
   ]
  },
  {
   "cell_type": "code",
   "execution_count": 24,
   "metadata": {},
   "outputs": [
    {
     "data": {
      "text/html": [
       "<table>\n",
       "<thead><tr><th></th><th scope=col>face</th><th scope=col>suit</th><th scope=col>value</th></tr></thead>\n",
       "<tbody>\n",
       "\t<tr><th scope=row>13</th><td>ace     </td><td>spades  </td><td>1       </td></tr>\n",
       "\t<tr><th scope=row>26</th><td>ace     </td><td>clubs   </td><td>1       </td></tr>\n",
       "\t<tr><th scope=row>39</th><td>ace     </td><td>diamonds</td><td>1       </td></tr>\n",
       "\t<tr><th scope=row>52</th><td>ace     </td><td>hearts  </td><td>1       </td></tr>\n",
       "</tbody>\n",
       "</table>\n"
      ],
      "text/latex": [
       "\\begin{tabular}{r|lll}\n",
       "  & face & suit & value\\\\\n",
       "\\hline\n",
       "\t13 & ace      & spades   & 1       \\\\\n",
       "\t26 & ace      & clubs    & 1       \\\\\n",
       "\t39 & ace      & diamonds & 1       \\\\\n",
       "\t52 & ace      & hearts   & 1       \\\\\n",
       "\\end{tabular}\n"
      ],
      "text/markdown": [
       "\n",
       "| <!--/--> | face | suit | value |\n",
       "|---|---|---|---|\n",
       "| 13 | ace      | spades   | 1        |\n",
       "| 26 | ace      | clubs    | 1        |\n",
       "| 39 | ace      | diamonds | 1        |\n",
       "| 52 | ace      | hearts   | 1        |\n",
       "\n"
      ],
      "text/plain": [
       "   face suit     value\n",
       "13 ace  spades   1    \n",
       "26 ace  clubs    1    \n",
       "39 ace  diamonds 1    \n",
       "52 ace  hearts   1    "
      ]
     },
     "metadata": {},
     "output_type": "display_data"
    }
   ],
   "source": [
    "deck2[c(13,26,39,52), ]"
   ]
  },
  {
   "cell_type": "code",
   "execution_count": 27,
   "metadata": {},
   "outputs": [
    {
     "data": {
      "text/html": [
       "<ol class=list-inline>\n",
       "\t<li>1</li>\n",
       "\t<li>1</li>\n",
       "\t<li>1</li>\n",
       "\t<li>1</li>\n",
       "</ol>\n"
      ],
      "text/latex": [
       "\\begin{enumerate*}\n",
       "\\item 1\n",
       "\\item 1\n",
       "\\item 1\n",
       "\\item 1\n",
       "\\end{enumerate*}\n"
      ],
      "text/markdown": [
       "1. 1\n",
       "2. 1\n",
       "3. 1\n",
       "4. 1\n",
       "\n",
       "\n"
      ],
      "text/plain": [
       "[1] 1 1 1 1"
      ]
     },
     "metadata": {},
     "output_type": "display_data"
    },
    {
     "data": {
      "text/html": [
       "<ol class=list-inline>\n",
       "\t<li>1</li>\n",
       "\t<li>1</li>\n",
       "\t<li>1</li>\n",
       "\t<li>1</li>\n",
       "</ol>\n"
      ],
      "text/latex": [
       "\\begin{enumerate*}\n",
       "\\item 1\n",
       "\\item 1\n",
       "\\item 1\n",
       "\\item 1\n",
       "\\end{enumerate*}\n"
      ],
      "text/markdown": [
       "1. 1\n",
       "2. 1\n",
       "3. 1\n",
       "4. 1\n",
       "\n",
       "\n"
      ],
      "text/plain": [
       "[1] 1 1 1 1"
      ]
     },
     "metadata": {},
     "output_type": "display_data"
    }
   ],
   "source": [
    "deck2[c(13,26,39,52), 3]\n",
    "deck2$value[c(13,26,39,52)]"
   ]
  },
  {
   "cell_type": "code",
   "execution_count": 31,
   "metadata": {
    "scrolled": true
   },
   "outputs": [
    {
     "data": {
      "text/html": [
       "<ol class=list-inline>\n",
       "\t<li>14</li>\n",
       "\t<li>14</li>\n",
       "\t<li>14</li>\n",
       "\t<li>14</li>\n",
       "</ol>\n"
      ],
      "text/latex": [
       "\\begin{enumerate*}\n",
       "\\item 14\n",
       "\\item 14\n",
       "\\item 14\n",
       "\\item 14\n",
       "\\end{enumerate*}\n"
      ],
      "text/markdown": [
       "1. 14\n",
       "2. 14\n",
       "3. 14\n",
       "4. 14\n",
       "\n",
       "\n"
      ],
      "text/plain": [
       "[1] 14 14 14 14"
      ]
     },
     "metadata": {},
     "output_type": "display_data"
    },
    {
     "data": {
      "text/html": [
       "<table>\n",
       "<thead><tr><th scope=col>face</th><th scope=col>suit</th><th scope=col>value</th></tr></thead>\n",
       "<tbody>\n",
       "\t<tr><td>king  </td><td>spades</td><td>13    </td></tr>\n",
       "\t<tr><td>queen </td><td>spades</td><td>12    </td></tr>\n",
       "\t<tr><td>jack  </td><td>spades</td><td>11    </td></tr>\n",
       "\t<tr><td>ten   </td><td>spades</td><td>10    </td></tr>\n",
       "\t<tr><td>nine  </td><td>spades</td><td> 9    </td></tr>\n",
       "\t<tr><td>eight </td><td>spades</td><td> 8    </td></tr>\n",
       "\t<tr><td>seven </td><td>spades</td><td> 7    </td></tr>\n",
       "\t<tr><td>six   </td><td>spades</td><td> 6    </td></tr>\n",
       "\t<tr><td>five  </td><td>spades</td><td> 5    </td></tr>\n",
       "\t<tr><td>four  </td><td>spades</td><td> 4    </td></tr>\n",
       "\t<tr><td>three </td><td>spades</td><td> 3    </td></tr>\n",
       "\t<tr><td>two   </td><td>spades</td><td> 2    </td></tr>\n",
       "\t<tr><td>ace   </td><td>spades</td><td>14    </td></tr>\n",
       "</tbody>\n",
       "</table>\n"
      ],
      "text/latex": [
       "\\begin{tabular}{r|lll}\n",
       " face & suit & value\\\\\n",
       "\\hline\n",
       "\t king   & spades & 13    \\\\\n",
       "\t queen  & spades & 12    \\\\\n",
       "\t jack   & spades & 11    \\\\\n",
       "\t ten    & spades & 10    \\\\\n",
       "\t nine   & spades &  9    \\\\\n",
       "\t eight  & spades &  8    \\\\\n",
       "\t seven  & spades &  7    \\\\\n",
       "\t six    & spades &  6    \\\\\n",
       "\t five   & spades &  5    \\\\\n",
       "\t four   & spades &  4    \\\\\n",
       "\t three  & spades &  3    \\\\\n",
       "\t two    & spades &  2    \\\\\n",
       "\t ace    & spades & 14    \\\\\n",
       "\\end{tabular}\n"
      ],
      "text/markdown": [
       "\n",
       "| face | suit | value |\n",
       "|---|---|---|\n",
       "| king   | spades | 13     |\n",
       "| queen  | spades | 12     |\n",
       "| jack   | spades | 11     |\n",
       "| ten    | spades | 10     |\n",
       "| nine   | spades |  9     |\n",
       "| eight  | spades |  8     |\n",
       "| seven  | spades |  7     |\n",
       "| six    | spades |  6     |\n",
       "| five   | spades |  5     |\n",
       "| four   | spades |  4     |\n",
       "| three  | spades |  3     |\n",
       "| two    | spades |  2     |\n",
       "| ace    | spades | 14     |\n",
       "\n"
      ],
      "text/plain": [
       "   face  suit   value\n",
       "1  king  spades 13   \n",
       "2  queen spades 12   \n",
       "3  jack  spades 11   \n",
       "4  ten   spades 10   \n",
       "5  nine  spades  9   \n",
       "6  eight spades  8   \n",
       "7  seven spades  7   \n",
       "8  six   spades  6   \n",
       "9  five  spades  5   \n",
       "10 four  spades  4   \n",
       "11 three spades  3   \n",
       "12 two   spades  2   \n",
       "13 ace   spades 14   "
      ]
     },
     "metadata": {},
     "output_type": "display_data"
    }
   ],
   "source": [
    "deck2$value[c(13,26,39,52)] <- 14\n",
    "deck2$value[c(13,26,39,52)]\n",
    "head(deck2, n = 13)"
   ]
  },
  {
   "cell_type": "markdown",
   "metadata": {},
   "source": [
    "## 5.2 論理添字\n",
    "5.1での値の書き換えが非常に簡単に行えたのは、元データが順序よく並んでいたからです。<br>\n",
    "実際のデータで自身に都合のいい順序でデータが構成されていることは多くありません。<br>\n",
    "そこで論理添字を使用して対応することにします。"
   ]
  },
  {
   "cell_type": "code",
   "execution_count": 35,
   "metadata": {},
   "outputs": [
    {
     "data": {
      "text/html": [
       "<table>\n",
       "<thead><tr><th></th><th scope=col>face</th><th scope=col>suit</th><th scope=col>value</th></tr></thead>\n",
       "<tbody>\n",
       "\t<tr><th scope=row>25</th><td>two     </td><td>clubs   </td><td> 2      </td></tr>\n",
       "\t<tr><th scope=row>3</th><td>jack    </td><td>spades  </td><td>11      </td></tr>\n",
       "\t<tr><th scope=row>13</th><td>ace     </td><td>spades  </td><td> 1      </td></tr>\n",
       "\t<tr><th scope=row>11</th><td>three   </td><td>spades  </td><td> 3      </td></tr>\n",
       "\t<tr><th scope=row>45</th><td>eight   </td><td>hearts  </td><td> 8      </td></tr>\n",
       "\t<tr><th scope=row>27</th><td>king    </td><td>diamonds</td><td>13      </td></tr>\n",
       "\t<tr><th scope=row>15</th><td>queen   </td><td>clubs   </td><td>12      </td></tr>\n",
       "\t<tr><th scope=row>20</th><td>seven   </td><td>clubs   </td><td> 7      </td></tr>\n",
       "\t<tr><th scope=row>40</th><td>king    </td><td>hearts  </td><td>13      </td></tr>\n",
       "\t<tr><th scope=row>17</th><td>ten     </td><td>clubs   </td><td>10      </td></tr>\n",
       "\t<tr><th scope=row>46</th><td>seven   </td><td>hearts  </td><td> 7      </td></tr>\n",
       "\t<tr><th scope=row>26</th><td>ace     </td><td>clubs   </td><td> 1      </td></tr>\n",
       "\t<tr><th scope=row>39</th><td>ace     </td><td>diamonds</td><td> 1      </td></tr>\n",
       "\t<tr><th scope=row>47</th><td>six     </td><td>hearts  </td><td> 6      </td></tr>\n",
       "\t<tr><th scope=row>41</th><td>queen   </td><td>hearts  </td><td>12      </td></tr>\n",
       "\t<tr><th scope=row>12</th><td>two     </td><td>spades  </td><td> 2      </td></tr>\n",
       "\t<tr><th scope=row>51</th><td>two     </td><td>hearts  </td><td> 2      </td></tr>\n",
       "\t<tr><th scope=row>33</th><td>seven   </td><td>diamonds</td><td> 7      </td></tr>\n",
       "\t<tr><th scope=row>23</th><td>four    </td><td>clubs   </td><td> 4      </td></tr>\n",
       "\t<tr><th scope=row>22</th><td>five    </td><td>clubs   </td><td> 5      </td></tr>\n",
       "\t<tr><th scope=row>36</th><td>four    </td><td>diamonds</td><td> 4      </td></tr>\n",
       "\t<tr><th scope=row>5</th><td>nine    </td><td>spades  </td><td> 9      </td></tr>\n",
       "\t<tr><th scope=row>9</th><td>five    </td><td>spades  </td><td> 5      </td></tr>\n",
       "\t<tr><th scope=row>2</th><td>queen   </td><td>spades  </td><td>12      </td></tr>\n",
       "\t<tr><th scope=row>19</th><td>eight   </td><td>clubs   </td><td> 8      </td></tr>\n",
       "\t<tr><th scope=row>30</th><td>ten     </td><td>diamonds</td><td>10      </td></tr>\n",
       "\t<tr><th scope=row>42</th><td>jack    </td><td>hearts  </td><td>11      </td></tr>\n",
       "\t<tr><th scope=row>38</th><td>two     </td><td>diamonds</td><td> 2      </td></tr>\n",
       "\t<tr><th scope=row>44</th><td>nine    </td><td>hearts  </td><td> 9      </td></tr>\n",
       "\t<tr><th scope=row>50</th><td>three   </td><td>hearts  </td><td> 3      </td></tr>\n",
       "\t<tr><th scope=row>8</th><td>six     </td><td>spades  </td><td> 6      </td></tr>\n",
       "\t<tr><th scope=row>7</th><td>seven   </td><td>spades  </td><td> 7      </td></tr>\n",
       "\t<tr><th scope=row>49</th><td>four    </td><td>hearts  </td><td> 4      </td></tr>\n",
       "\t<tr><th scope=row>24</th><td>three   </td><td>clubs   </td><td> 3      </td></tr>\n",
       "\t<tr><th scope=row>32</th><td>eight   </td><td>diamonds</td><td> 8      </td></tr>\n",
       "\t<tr><th scope=row>4</th><td>ten     </td><td>spades  </td><td>10      </td></tr>\n",
       "\t<tr><th scope=row>48</th><td>five    </td><td>hearts  </td><td> 5      </td></tr>\n",
       "\t<tr><th scope=row>14</th><td>king    </td><td>clubs   </td><td>13      </td></tr>\n",
       "\t<tr><th scope=row>16</th><td>jack    </td><td>clubs   </td><td>11      </td></tr>\n",
       "\t<tr><th scope=row>29</th><td>jack    </td><td>diamonds</td><td>11      </td></tr>\n",
       "\t<tr><th scope=row>21</th><td>six     </td><td>clubs   </td><td> 6      </td></tr>\n",
       "\t<tr><th scope=row>1</th><td>king    </td><td>spades  </td><td>13      </td></tr>\n",
       "\t<tr><th scope=row>18</th><td>nine    </td><td>clubs   </td><td> 9      </td></tr>\n",
       "\t<tr><th scope=row>34</th><td>six     </td><td>diamonds</td><td> 6      </td></tr>\n",
       "\t<tr><th scope=row>37</th><td>three   </td><td>diamonds</td><td> 3      </td></tr>\n",
       "\t<tr><th scope=row>10</th><td>four    </td><td>spades  </td><td> 4      </td></tr>\n",
       "\t<tr><th scope=row>28</th><td>queen   </td><td>diamonds</td><td>12      </td></tr>\n",
       "\t<tr><th scope=row>43</th><td>ten     </td><td>hearts  </td><td>10      </td></tr>\n",
       "\t<tr><th scope=row>31</th><td>nine    </td><td>diamonds</td><td> 9      </td></tr>\n",
       "\t<tr><th scope=row>52</th><td>ace     </td><td>hearts  </td><td> 1      </td></tr>\n",
       "\t<tr><th scope=row>35</th><td>five    </td><td>diamonds</td><td> 5      </td></tr>\n",
       "\t<tr><th scope=row>6</th><td>eight   </td><td>spades  </td><td> 8      </td></tr>\n",
       "</tbody>\n",
       "</table>\n"
      ],
      "text/latex": [
       "\\begin{tabular}{r|lll}\n",
       "  & face & suit & value\\\\\n",
       "\\hline\n",
       "\t25 & two      & clubs    &  2      \\\\\n",
       "\t3 & jack     & spades   & 11      \\\\\n",
       "\t13 & ace      & spades   &  1      \\\\\n",
       "\t11 & three    & spades   &  3      \\\\\n",
       "\t45 & eight    & hearts   &  8      \\\\\n",
       "\t27 & king     & diamonds & 13      \\\\\n",
       "\t15 & queen    & clubs    & 12      \\\\\n",
       "\t20 & seven    & clubs    &  7      \\\\\n",
       "\t40 & king     & hearts   & 13      \\\\\n",
       "\t17 & ten      & clubs    & 10      \\\\\n",
       "\t46 & seven    & hearts   &  7      \\\\\n",
       "\t26 & ace      & clubs    &  1      \\\\\n",
       "\t39 & ace      & diamonds &  1      \\\\\n",
       "\t47 & six      & hearts   &  6      \\\\\n",
       "\t41 & queen    & hearts   & 12      \\\\\n",
       "\t12 & two      & spades   &  2      \\\\\n",
       "\t51 & two      & hearts   &  2      \\\\\n",
       "\t33 & seven    & diamonds &  7      \\\\\n",
       "\t23 & four     & clubs    &  4      \\\\\n",
       "\t22 & five     & clubs    &  5      \\\\\n",
       "\t36 & four     & diamonds &  4      \\\\\n",
       "\t5 & nine     & spades   &  9      \\\\\n",
       "\t9 & five     & spades   &  5      \\\\\n",
       "\t2 & queen    & spades   & 12      \\\\\n",
       "\t19 & eight    & clubs    &  8      \\\\\n",
       "\t30 & ten      & diamonds & 10      \\\\\n",
       "\t42 & jack     & hearts   & 11      \\\\\n",
       "\t38 & two      & diamonds &  2      \\\\\n",
       "\t44 & nine     & hearts   &  9      \\\\\n",
       "\t50 & three    & hearts   &  3      \\\\\n",
       "\t8 & six      & spades   &  6      \\\\\n",
       "\t7 & seven    & spades   &  7      \\\\\n",
       "\t49 & four     & hearts   &  4      \\\\\n",
       "\t24 & three    & clubs    &  3      \\\\\n",
       "\t32 & eight    & diamonds &  8      \\\\\n",
       "\t4 & ten      & spades   & 10      \\\\\n",
       "\t48 & five     & hearts   &  5      \\\\\n",
       "\t14 & king     & clubs    & 13      \\\\\n",
       "\t16 & jack     & clubs    & 11      \\\\\n",
       "\t29 & jack     & diamonds & 11      \\\\\n",
       "\t21 & six      & clubs    &  6      \\\\\n",
       "\t1 & king     & spades   & 13      \\\\\n",
       "\t18 & nine     & clubs    &  9      \\\\\n",
       "\t34 & six      & diamonds &  6      \\\\\n",
       "\t37 & three    & diamonds &  3      \\\\\n",
       "\t10 & four     & spades   &  4      \\\\\n",
       "\t28 & queen    & diamonds & 12      \\\\\n",
       "\t43 & ten      & hearts   & 10      \\\\\n",
       "\t31 & nine     & diamonds &  9      \\\\\n",
       "\t52 & ace      & hearts   &  1      \\\\\n",
       "\t35 & five     & diamonds &  5      \\\\\n",
       "\t6 & eight    & spades   &  8      \\\\\n",
       "\\end{tabular}\n"
      ],
      "text/markdown": [
       "\n",
       "| <!--/--> | face | suit | value |\n",
       "|---|---|---|---|\n",
       "| 25 | two      | clubs    |  2       |\n",
       "| 3 | jack     | spades   | 11       |\n",
       "| 13 | ace      | spades   |  1       |\n",
       "| 11 | three    | spades   |  3       |\n",
       "| 45 | eight    | hearts   |  8       |\n",
       "| 27 | king     | diamonds | 13       |\n",
       "| 15 | queen    | clubs    | 12       |\n",
       "| 20 | seven    | clubs    |  7       |\n",
       "| 40 | king     | hearts   | 13       |\n",
       "| 17 | ten      | clubs    | 10       |\n",
       "| 46 | seven    | hearts   |  7       |\n",
       "| 26 | ace      | clubs    |  1       |\n",
       "| 39 | ace      | diamonds |  1       |\n",
       "| 47 | six      | hearts   |  6       |\n",
       "| 41 | queen    | hearts   | 12       |\n",
       "| 12 | two      | spades   |  2       |\n",
       "| 51 | two      | hearts   |  2       |\n",
       "| 33 | seven    | diamonds |  7       |\n",
       "| 23 | four     | clubs    |  4       |\n",
       "| 22 | five     | clubs    |  5       |\n",
       "| 36 | four     | diamonds |  4       |\n",
       "| 5 | nine     | spades   |  9       |\n",
       "| 9 | five     | spades   |  5       |\n",
       "| 2 | queen    | spades   | 12       |\n",
       "| 19 | eight    | clubs    |  8       |\n",
       "| 30 | ten      | diamonds | 10       |\n",
       "| 42 | jack     | hearts   | 11       |\n",
       "| 38 | two      | diamonds |  2       |\n",
       "| 44 | nine     | hearts   |  9       |\n",
       "| 50 | three    | hearts   |  3       |\n",
       "| 8 | six      | spades   |  6       |\n",
       "| 7 | seven    | spades   |  7       |\n",
       "| 49 | four     | hearts   |  4       |\n",
       "| 24 | three    | clubs    |  3       |\n",
       "| 32 | eight    | diamonds |  8       |\n",
       "| 4 | ten      | spades   | 10       |\n",
       "| 48 | five     | hearts   |  5       |\n",
       "| 14 | king     | clubs    | 13       |\n",
       "| 16 | jack     | clubs    | 11       |\n",
       "| 29 | jack     | diamonds | 11       |\n",
       "| 21 | six      | clubs    |  6       |\n",
       "| 1 | king     | spades   | 13       |\n",
       "| 18 | nine     | clubs    |  9       |\n",
       "| 34 | six      | diamonds |  6       |\n",
       "| 37 | three    | diamonds |  3       |\n",
       "| 10 | four     | spades   |  4       |\n",
       "| 28 | queen    | diamonds | 12       |\n",
       "| 43 | ten      | hearts   | 10       |\n",
       "| 31 | nine     | diamonds |  9       |\n",
       "| 52 | ace      | hearts   |  1       |\n",
       "| 35 | five     | diamonds |  5       |\n",
       "| 6 | eight    | spades   |  8       |\n",
       "\n"
      ],
      "text/plain": [
       "   face  suit     value\n",
       "25 two   clubs     2   \n",
       "3  jack  spades   11   \n",
       "13 ace   spades    1   \n",
       "11 three spades    3   \n",
       "45 eight hearts    8   \n",
       "27 king  diamonds 13   \n",
       "15 queen clubs    12   \n",
       "20 seven clubs     7   \n",
       "40 king  hearts   13   \n",
       "17 ten   clubs    10   \n",
       "46 seven hearts    7   \n",
       "26 ace   clubs     1   \n",
       "39 ace   diamonds  1   \n",
       "47 six   hearts    6   \n",
       "41 queen hearts   12   \n",
       "12 two   spades    2   \n",
       "51 two   hearts    2   \n",
       "33 seven diamonds  7   \n",
       "23 four  clubs     4   \n",
       "22 five  clubs     5   \n",
       "36 four  diamonds  4   \n",
       "5  nine  spades    9   \n",
       "9  five  spades    5   \n",
       "2  queen spades   12   \n",
       "19 eight clubs     8   \n",
       "30 ten   diamonds 10   \n",
       "42 jack  hearts   11   \n",
       "38 two   diamonds  2   \n",
       "44 nine  hearts    9   \n",
       "50 three hearts    3   \n",
       "8  six   spades    6   \n",
       "7  seven spades    7   \n",
       "49 four  hearts    4   \n",
       "24 three clubs     3   \n",
       "32 eight diamonds  8   \n",
       "4  ten   spades   10   \n",
       "48 five  hearts    5   \n",
       "14 king  clubs    13   \n",
       "16 jack  clubs    11   \n",
       "29 jack  diamonds 11   \n",
       "21 six   clubs     6   \n",
       "1  king  spades   13   \n",
       "18 nine  clubs     9   \n",
       "34 six   diamonds  6   \n",
       "37 three diamonds  3   \n",
       "10 four  spades    4   \n",
       "28 queen diamonds 12   \n",
       "43 ten   hearts   10   \n",
       "31 nine  diamonds  9   \n",
       "52 ace   hearts    1   \n",
       "35 five  diamonds  5   \n",
       "6  eight spades    8   "
      ]
     },
     "metadata": {},
     "output_type": "display_data"
    },
    {
     "data": {
      "text/html": [
       "<table>\n",
       "<thead><tr><th scope=col>face</th><th scope=col>suit</th><th scope=col>value</th></tr></thead>\n",
       "<tbody>\n",
       "\t<tr><td>king  </td><td>spades</td><td>13    </td></tr>\n",
       "\t<tr><td>queen </td><td>spades</td><td>12    </td></tr>\n",
       "\t<tr><td>jack  </td><td>spades</td><td>11    </td></tr>\n",
       "\t<tr><td>ten   </td><td>spades</td><td>10    </td></tr>\n",
       "\t<tr><td>nine  </td><td>spades</td><td> 9    </td></tr>\n",
       "\t<tr><td>eight </td><td>spades</td><td> 8    </td></tr>\n",
       "</tbody>\n",
       "</table>\n"
      ],
      "text/latex": [
       "\\begin{tabular}{r|lll}\n",
       " face & suit & value\\\\\n",
       "\\hline\n",
       "\t king   & spades & 13    \\\\\n",
       "\t queen  & spades & 12    \\\\\n",
       "\t jack   & spades & 11    \\\\\n",
       "\t ten    & spades & 10    \\\\\n",
       "\t nine   & spades &  9    \\\\\n",
       "\t eight  & spades &  8    \\\\\n",
       "\\end{tabular}\n"
      ],
      "text/markdown": [
       "\n",
       "| face | suit | value |\n",
       "|---|---|---|\n",
       "| king   | spades | 13     |\n",
       "| queen  | spades | 12     |\n",
       "| jack   | spades | 11     |\n",
       "| ten    | spades | 10     |\n",
       "| nine   | spades |  9     |\n",
       "| eight  | spades |  8     |\n",
       "\n"
      ],
      "text/plain": [
       "  face  suit   value\n",
       "1 king  spades 13   \n",
       "2 queen spades 12   \n",
       "3 jack  spades 11   \n",
       "4 ten   spades 10   \n",
       "5 nine  spades  9   \n",
       "6 eight spades  8   "
      ]
     },
     "metadata": {},
     "output_type": "display_data"
    }
   ],
   "source": [
    "shuffle  <- function(cards){\n",
    "    random <- sample(1:52 ,size = 52)\n",
    "    cards[random,]\n",
    "}\n",
    "\n",
    "deck3 <- deck\n",
    "shuffle(deck3)\n",
    "head(deck3)"
   ]
  },
  {
   "cell_type": "code",
   "execution_count": 36,
   "metadata": {},
   "outputs": [
    {
     "data": {
      "text/html": [
       "TRUE"
      ],
      "text/latex": [
       "TRUE"
      ],
      "text/markdown": [
       "TRUE"
      ],
      "text/plain": [
       "[1] TRUE"
      ]
     },
     "metadata": {},
     "output_type": "display_data"
    }
   ],
   "source": [
    "1> 2"
   ]
  },
  {
   "cell_type": "code",
   "execution_count": 37,
   "metadata": {},
   "outputs": [
    {
     "data": {
      "text/html": [
       "<ol class=list-inline>\n",
       "\t<li>TRUE</li>\n",
       "\t<li>FALSE</li>\n",
       "\t<li>FALSE</li>\n",
       "</ol>\n"
      ],
      "text/latex": [
       "\\begin{enumerate*}\n",
       "\\item TRUE\n",
       "\\item FALSE\n",
       "\\item FALSE\n",
       "\\end{enumerate*}\n"
      ],
      "text/markdown": [
       "1. TRUE\n",
       "2. FALSE\n",
       "3. FALSE\n",
       "\n",
       "\n"
      ],
      "text/plain": [
       "[1]  TRUE FALSE FALSE"
      ]
     },
     "metadata": {},
     "output_type": "display_data"
    }
   ],
   "source": [
    "1 > c(0,1,2)"
   ]
  },
  {
   "cell_type": "code",
   "execution_count": 38,
   "metadata": {},
   "outputs": [
    {
     "data": {
      "text/html": [
       "<ol class=list-inline>\n",
       "\t<li>FALSE</li>\n",
       "\t<li>TRUE</li>\n",
       "\t<li>FALSE</li>\n",
       "</ol>\n"
      ],
      "text/latex": [
       "\\begin{enumerate*}\n",
       "\\item FALSE\n",
       "\\item TRUE\n",
       "\\item FALSE\n",
       "\\end{enumerate*}\n"
      ],
      "text/markdown": [
       "1. FALSE\n",
       "2. TRUE\n",
       "3. FALSE\n",
       "\n",
       "\n"
      ],
      "text/plain": [
       "[1] FALSE  TRUE FALSE"
      ]
     },
     "metadata": {},
     "output_type": "display_data"
    }
   ],
   "source": [
    "c(1,2,3) == c(3,2,1)"
   ]
  },
  {
   "cell_type": "code",
   "execution_count": 41,
   "metadata": {},
   "outputs": [
    {
     "data": {
      "text/html": [
       "FALSE"
      ],
      "text/latex": [
       "FALSE"
      ],
      "text/markdown": [
       "FALSE"
      ],
      "text/plain": [
       "[1] FALSE"
      ]
     },
     "metadata": {},
     "output_type": "display_data"
    },
    {
     "data": {
      "text/html": [
       "<ol class=list-inline>\n",
       "\t<li>TRUE</li>\n",
       "\t<li>TRUE</li>\n",
       "\t<li>FALSE</li>\n",
       "\t<li>FALSE</li>\n",
       "\t<li>FALSE</li>\n",
       "</ol>\n"
      ],
      "text/latex": [
       "\\begin{enumerate*}\n",
       "\\item TRUE\n",
       "\\item TRUE\n",
       "\\item FALSE\n",
       "\\item FALSE\n",
       "\\item FALSE\n",
       "\\end{enumerate*}\n"
      ],
      "text/markdown": [
       "1. TRUE\n",
       "2. TRUE\n",
       "3. FALSE\n",
       "4. FALSE\n",
       "5. FALSE\n",
       "\n",
       "\n"
      ],
      "text/plain": [
       "[1]  TRUE  TRUE FALSE FALSE FALSE"
      ]
     },
     "metadata": {},
     "output_type": "display_data"
    }
   ],
   "source": [
    "# %in% だけは通常通りの要素ごとの比較をしない。\n",
    "\n",
    "1 %in% c(2,3,4)\n",
    "c(1,2,4,5,6) %in% c(1,2,3)"
   ]
  },
  {
   "cell_type": "markdown",
   "metadata": {},
   "source": [
    "ここでfaceがaceのみのカードのみを抽出する。"
   ]
  },
  {
   "cell_type": "code",
   "execution_count": 43,
   "metadata": {},
   "outputs": [
    {
     "data": {
      "text/html": [
       "<ol class=list-inline>\n",
       "\t<li>FALSE</li>\n",
       "\t<li>FALSE</li>\n",
       "\t<li>FALSE</li>\n",
       "\t<li>FALSE</li>\n",
       "\t<li>FALSE</li>\n",
       "\t<li>FALSE</li>\n",
       "\t<li>FALSE</li>\n",
       "\t<li>FALSE</li>\n",
       "\t<li>FALSE</li>\n",
       "\t<li>FALSE</li>\n",
       "\t<li>FALSE</li>\n",
       "\t<li>FALSE</li>\n",
       "\t<li>TRUE</li>\n",
       "\t<li>FALSE</li>\n",
       "\t<li>FALSE</li>\n",
       "\t<li>FALSE</li>\n",
       "\t<li>FALSE</li>\n",
       "\t<li>FALSE</li>\n",
       "\t<li>FALSE</li>\n",
       "\t<li>FALSE</li>\n",
       "\t<li>FALSE</li>\n",
       "\t<li>FALSE</li>\n",
       "\t<li>FALSE</li>\n",
       "\t<li>FALSE</li>\n",
       "\t<li>FALSE</li>\n",
       "\t<li>TRUE</li>\n",
       "\t<li>FALSE</li>\n",
       "\t<li>FALSE</li>\n",
       "\t<li>FALSE</li>\n",
       "\t<li>FALSE</li>\n",
       "\t<li>FALSE</li>\n",
       "\t<li>FALSE</li>\n",
       "\t<li>FALSE</li>\n",
       "\t<li>FALSE</li>\n",
       "\t<li>FALSE</li>\n",
       "\t<li>FALSE</li>\n",
       "\t<li>FALSE</li>\n",
       "\t<li>FALSE</li>\n",
       "\t<li>TRUE</li>\n",
       "\t<li>FALSE</li>\n",
       "\t<li>FALSE</li>\n",
       "\t<li>FALSE</li>\n",
       "\t<li>FALSE</li>\n",
       "\t<li>FALSE</li>\n",
       "\t<li>FALSE</li>\n",
       "\t<li>FALSE</li>\n",
       "\t<li>FALSE</li>\n",
       "\t<li>FALSE</li>\n",
       "\t<li>FALSE</li>\n",
       "\t<li>FALSE</li>\n",
       "\t<li>FALSE</li>\n",
       "\t<li>TRUE</li>\n",
       "</ol>\n"
      ],
      "text/latex": [
       "\\begin{enumerate*}\n",
       "\\item FALSE\n",
       "\\item FALSE\n",
       "\\item FALSE\n",
       "\\item FALSE\n",
       "\\item FALSE\n",
       "\\item FALSE\n",
       "\\item FALSE\n",
       "\\item FALSE\n",
       "\\item FALSE\n",
       "\\item FALSE\n",
       "\\item FALSE\n",
       "\\item FALSE\n",
       "\\item TRUE\n",
       "\\item FALSE\n",
       "\\item FALSE\n",
       "\\item FALSE\n",
       "\\item FALSE\n",
       "\\item FALSE\n",
       "\\item FALSE\n",
       "\\item FALSE\n",
       "\\item FALSE\n",
       "\\item FALSE\n",
       "\\item FALSE\n",
       "\\item FALSE\n",
       "\\item FALSE\n",
       "\\item TRUE\n",
       "\\item FALSE\n",
       "\\item FALSE\n",
       "\\item FALSE\n",
       "\\item FALSE\n",
       "\\item FALSE\n",
       "\\item FALSE\n",
       "\\item FALSE\n",
       "\\item FALSE\n",
       "\\item FALSE\n",
       "\\item FALSE\n",
       "\\item FALSE\n",
       "\\item FALSE\n",
       "\\item TRUE\n",
       "\\item FALSE\n",
       "\\item FALSE\n",
       "\\item FALSE\n",
       "\\item FALSE\n",
       "\\item FALSE\n",
       "\\item FALSE\n",
       "\\item FALSE\n",
       "\\item FALSE\n",
       "\\item FALSE\n",
       "\\item FALSE\n",
       "\\item FALSE\n",
       "\\item FALSE\n",
       "\\item TRUE\n",
       "\\end{enumerate*}\n"
      ],
      "text/markdown": [
       "1. FALSE\n",
       "2. FALSE\n",
       "3. FALSE\n",
       "4. FALSE\n",
       "5. FALSE\n",
       "6. FALSE\n",
       "7. FALSE\n",
       "8. FALSE\n",
       "9. FALSE\n",
       "10. FALSE\n",
       "11. FALSE\n",
       "12. FALSE\n",
       "13. TRUE\n",
       "14. FALSE\n",
       "15. FALSE\n",
       "16. FALSE\n",
       "17. FALSE\n",
       "18. FALSE\n",
       "19. FALSE\n",
       "20. FALSE\n",
       "21. FALSE\n",
       "22. FALSE\n",
       "23. FALSE\n",
       "24. FALSE\n",
       "25. FALSE\n",
       "26. TRUE\n",
       "27. FALSE\n",
       "28. FALSE\n",
       "29. FALSE\n",
       "30. FALSE\n",
       "31. FALSE\n",
       "32. FALSE\n",
       "33. FALSE\n",
       "34. FALSE\n",
       "35. FALSE\n",
       "36. FALSE\n",
       "37. FALSE\n",
       "38. FALSE\n",
       "39. TRUE\n",
       "40. FALSE\n",
       "41. FALSE\n",
       "42. FALSE\n",
       "43. FALSE\n",
       "44. FALSE\n",
       "45. FALSE\n",
       "46. FALSE\n",
       "47. FALSE\n",
       "48. FALSE\n",
       "49. FALSE\n",
       "50. FALSE\n",
       "51. FALSE\n",
       "52. TRUE\n",
       "\n",
       "\n"
      ],
      "text/plain": [
       " [1] FALSE FALSE FALSE FALSE FALSE FALSE FALSE FALSE FALSE FALSE FALSE FALSE\n",
       "[13]  TRUE FALSE FALSE FALSE FALSE FALSE FALSE FALSE FALSE FALSE FALSE FALSE\n",
       "[25] FALSE  TRUE FALSE FALSE FALSE FALSE FALSE FALSE FALSE FALSE FALSE FALSE\n",
       "[37] FALSE FALSE  TRUE FALSE FALSE FALSE FALSE FALSE FALSE FALSE FALSE FALSE\n",
       "[49] FALSE FALSE FALSE  TRUE"
      ]
     },
     "metadata": {},
     "output_type": "display_data"
    }
   ],
   "source": [
    "deck2$face　== \"ace\""
   ]
  },
  {
   "cell_type": "code",
   "execution_count": 44,
   "metadata": {},
   "outputs": [
    {
     "data": {
      "text/html": [
       "4"
      ],
      "text/latex": [
       "4"
      ],
      "text/markdown": [
       "4"
      ],
      "text/plain": [
       "[1] 4"
      ]
     },
     "metadata": {},
     "output_type": "display_data"
    }
   ],
   "source": [
    "sum(deck2$face==\"ace\")"
   ]
  },
  {
   "cell_type": "code",
   "execution_count": 46,
   "metadata": {},
   "outputs": [
    {
     "data": {
      "text/html": [
       "<ol class=list-inline>\n",
       "\t<li>14</li>\n",
       "\t<li>14</li>\n",
       "\t<li>14</li>\n",
       "\t<li>14</li>\n",
       "</ol>\n"
      ],
      "text/latex": [
       "\\begin{enumerate*}\n",
       "\\item 14\n",
       "\\item 14\n",
       "\\item 14\n",
       "\\item 14\n",
       "\\end{enumerate*}\n"
      ],
      "text/markdown": [
       "1. 14\n",
       "2. 14\n",
       "3. 14\n",
       "4. 14\n",
       "\n",
       "\n"
      ],
      "text/plain": [
       "[1] 14 14 14 14"
      ]
     },
     "metadata": {},
     "output_type": "display_data"
    }
   ],
   "source": [
    "deck2$value[deck2$face == \"ace\"]"
   ]
  },
  {
   "cell_type": "code",
   "execution_count": 47,
   "metadata": {},
   "outputs": [
    {
     "data": {
      "text/html": [
       "<table>\n",
       "<thead><tr><th></th><th scope=col>face</th><th scope=col>suit</th><th scope=col>value</th></tr></thead>\n",
       "<tbody>\n",
       "\t<tr><th scope=row>13</th><td>ace     </td><td>spades  </td><td>14      </td></tr>\n",
       "\t<tr><th scope=row>26</th><td>ace     </td><td>clubs   </td><td>14      </td></tr>\n",
       "\t<tr><th scope=row>39</th><td>ace     </td><td>diamonds</td><td>14      </td></tr>\n",
       "\t<tr><th scope=row>52</th><td>ace     </td><td>hearts  </td><td>14      </td></tr>\n",
       "</tbody>\n",
       "</table>\n"
      ],
      "text/latex": [
       "\\begin{tabular}{r|lll}\n",
       "  & face & suit & value\\\\\n",
       "\\hline\n",
       "\t13 & ace      & spades   & 14      \\\\\n",
       "\t26 & ace      & clubs    & 14      \\\\\n",
       "\t39 & ace      & diamonds & 14      \\\\\n",
       "\t52 & ace      & hearts   & 14      \\\\\n",
       "\\end{tabular}\n"
      ],
      "text/markdown": [
       "\n",
       "| <!--/--> | face | suit | value |\n",
       "|---|---|---|---|\n",
       "| 13 | ace      | spades   | 14       |\n",
       "| 26 | ace      | clubs    | 14       |\n",
       "| 39 | ace      | diamonds | 14       |\n",
       "| 52 | ace      | hearts   | 14       |\n",
       "\n"
      ],
      "text/plain": [
       "   face suit     value\n",
       "13 ace  spades   14   \n",
       "26 ace  clubs    14   \n",
       "39 ace  diamonds 14   \n",
       "52 ace  hearts   14   "
      ]
     },
     "metadata": {},
     "output_type": "display_data"
    }
   ],
   "source": [
    "a <- deck2$face　== \"ace\"\n",
    "deck2[a, ]"
   ]
  },
  {
   "cell_type": "code",
   "execution_count": 65,
   "metadata": {},
   "outputs": [
    {
     "data": {
      "text/html": [
       "<table>\n",
       "<thead><tr><th scope=col>face</th><th scope=col>suit</th><th scope=col>value</th></tr></thead>\n",
       "<tbody>\n",
       "\t<tr><td>king  </td><td>spades</td><td>13    </td></tr>\n",
       "\t<tr><td>queen </td><td>spades</td><td>12    </td></tr>\n",
       "\t<tr><td>jack  </td><td>spades</td><td>11    </td></tr>\n",
       "\t<tr><td>ten   </td><td>spades</td><td>10    </td></tr>\n",
       "\t<tr><td>nine  </td><td>spades</td><td> 9    </td></tr>\n",
       "\t<tr><td>eight </td><td>spades</td><td> 8    </td></tr>\n",
       "\t<tr><td>seven </td><td>spades</td><td> 7    </td></tr>\n",
       "\t<tr><td>six   </td><td>spades</td><td> 6    </td></tr>\n",
       "\t<tr><td>five  </td><td>spades</td><td> 5    </td></tr>\n",
       "\t<tr><td>four  </td><td>spades</td><td> 4    </td></tr>\n",
       "\t<tr><td>three </td><td>spades</td><td> 3    </td></tr>\n",
       "\t<tr><td>two   </td><td>spades</td><td> 2    </td></tr>\n",
       "\t<tr><td>ace   </td><td>spades</td><td> 1    </td></tr>\n",
       "</tbody>\n",
       "</table>\n"
      ],
      "text/latex": [
       "\\begin{tabular}{r|lll}\n",
       " face & suit & value\\\\\n",
       "\\hline\n",
       "\t king   & spades & 13    \\\\\n",
       "\t queen  & spades & 12    \\\\\n",
       "\t jack   & spades & 11    \\\\\n",
       "\t ten    & spades & 10    \\\\\n",
       "\t nine   & spades &  9    \\\\\n",
       "\t eight  & spades &  8    \\\\\n",
       "\t seven  & spades &  7    \\\\\n",
       "\t six    & spades &  6    \\\\\n",
       "\t five   & spades &  5    \\\\\n",
       "\t four   & spades &  4    \\\\\n",
       "\t three  & spades &  3    \\\\\n",
       "\t two    & spades &  2    \\\\\n",
       "\t ace    & spades &  1    \\\\\n",
       "\\end{tabular}\n"
      ],
      "text/markdown": [
       "\n",
       "| face | suit | value |\n",
       "|---|---|---|\n",
       "| king   | spades | 13     |\n",
       "| queen  | spades | 12     |\n",
       "| jack   | spades | 11     |\n",
       "| ten    | spades | 10     |\n",
       "| nine   | spades |  9     |\n",
       "| eight  | spades |  8     |\n",
       "| seven  | spades |  7     |\n",
       "| six    | spades |  6     |\n",
       "| five   | spades |  5     |\n",
       "| four   | spades |  4     |\n",
       "| three  | spades |  3     |\n",
       "| two    | spades |  2     |\n",
       "| ace    | spades |  1     |\n",
       "\n"
      ],
      "text/plain": [
       "   face  suit   value\n",
       "1  king  spades 13   \n",
       "2  queen spades 12   \n",
       "3  jack  spades 11   \n",
       "4  ten   spades 10   \n",
       "5  nine  spades  9   \n",
       "6  eight spades  8   \n",
       "7  seven spades  7   \n",
       "8  six   spades  6   \n",
       "9  five  spades  5   \n",
       "10 four  spades  4   \n",
       "11 three spades  3   \n",
       "12 two   spades  2   \n",
       "13 ace   spades  1   "
      ]
     },
     "metadata": {},
     "output_type": "display_data"
    }
   ],
   "source": [
    "deck3$value[deck3$face ==\"ace\"] <- 1\n",
    "head(deck3 ,n = 13)"
   ]
  },
  {
   "cell_type": "markdown",
   "metadata": {},
   "source": [
    "### 5.2.2 ブール演算子　"
   ]
  },
  {
   "cell_type": "code",
   "execution_count": 67,
   "metadata": {},
   "outputs": [],
   "source": [
    "a <- c(1:3)\n",
    "b <- c(1:3)\n",
    "c <- c(1,2,4)"
   ]
  },
  {
   "cell_type": "code",
   "execution_count": 68,
   "metadata": {},
   "outputs": [
    {
     "data": {
      "text/html": [
       "<ol class=list-inline>\n",
       "\t<li>TRUE</li>\n",
       "\t<li>TRUE</li>\n",
       "\t<li>TRUE</li>\n",
       "</ol>\n"
      ],
      "text/latex": [
       "\\begin{enumerate*}\n",
       "\\item TRUE\n",
       "\\item TRUE\n",
       "\\item TRUE\n",
       "\\end{enumerate*}\n"
      ],
      "text/markdown": [
       "1. TRUE\n",
       "2. TRUE\n",
       "3. TRUE\n",
       "\n",
       "\n"
      ],
      "text/plain": [
       "[1] TRUE TRUE TRUE"
      ]
     },
     "metadata": {},
     "output_type": "display_data"
    }
   ],
   "source": [
    "a == b"
   ]
  },
  {
   "cell_type": "code",
   "execution_count": 69,
   "metadata": {},
   "outputs": [
    {
     "data": {
      "text/html": [
       "<ol class=list-inline>\n",
       "\t<li>TRUE</li>\n",
       "\t<li>TRUE</li>\n",
       "\t<li>FALSE</li>\n",
       "</ol>\n"
      ],
      "text/latex": [
       "\\begin{enumerate*}\n",
       "\\item TRUE\n",
       "\\item TRUE\n",
       "\\item FALSE\n",
       "\\end{enumerate*}\n"
      ],
      "text/markdown": [
       "1. TRUE\n",
       "2. TRUE\n",
       "3. FALSE\n",
       "\n",
       "\n"
      ],
      "text/plain": [
       "[1]  TRUE  TRUE FALSE"
      ]
     },
     "metadata": {},
     "output_type": "display_data"
    }
   ],
   "source": [
    "b == c"
   ]
  },
  {
   "cell_type": "code",
   "execution_count": 70,
   "metadata": {},
   "outputs": [
    {
     "data": {
      "text/html": [
       "<ol class=list-inline>\n",
       "\t<li>TRUE</li>\n",
       "\t<li>TRUE</li>\n",
       "\t<li>FALSE</li>\n",
       "</ol>\n"
      ],
      "text/latex": [
       "\\begin{enumerate*}\n",
       "\\item TRUE\n",
       "\\item TRUE\n",
       "\\item FALSE\n",
       "\\end{enumerate*}\n"
      ],
      "text/markdown": [
       "1. TRUE\n",
       "2. TRUE\n",
       "3. FALSE\n",
       "\n",
       "\n"
      ],
      "text/plain": [
       "[1]  TRUE  TRUE FALSE"
      ]
     },
     "metadata": {},
     "output_type": "display_data"
    }
   ],
   "source": [
    "a == b & b==c"
   ]
  },
  {
   "cell_type": "code",
   "execution_count": 76,
   "metadata": {},
   "outputs": [
    {
     "data": {
      "text/html": [
       "<ol class=list-inline>\n",
       "\t<li>FALSE</li>\n",
       "\t<li>TRUE</li>\n",
       "\t<li>FALSE</li>\n",
       "\t<li>FALSE</li>\n",
       "\t<li>FALSE</li>\n",
       "\t<li>FALSE</li>\n",
       "\t<li>FALSE</li>\n",
       "\t<li>FALSE</li>\n",
       "\t<li>FALSE</li>\n",
       "\t<li>FALSE</li>\n",
       "\t<li>FALSE</li>\n",
       "\t<li>FALSE</li>\n",
       "\t<li>FALSE</li>\n",
       "\t<li>FALSE</li>\n",
       "\t<li>FALSE</li>\n",
       "\t<li>FALSE</li>\n",
       "\t<li>FALSE</li>\n",
       "\t<li>FALSE</li>\n",
       "\t<li>FALSE</li>\n",
       "\t<li>FALSE</li>\n",
       "\t<li>FALSE</li>\n",
       "\t<li>FALSE</li>\n",
       "\t<li>FALSE</li>\n",
       "\t<li>FALSE</li>\n",
       "\t<li>FALSE</li>\n",
       "\t<li>FALSE</li>\n",
       "\t<li>FALSE</li>\n",
       "\t<li>FALSE</li>\n",
       "\t<li>FALSE</li>\n",
       "\t<li>FALSE</li>\n",
       "\t<li>FALSE</li>\n",
       "\t<li>FALSE</li>\n",
       "\t<li>FALSE</li>\n",
       "\t<li>FALSE</li>\n",
       "\t<li>FALSE</li>\n",
       "\t<li>FALSE</li>\n",
       "\t<li>FALSE</li>\n",
       "\t<li>FALSE</li>\n",
       "\t<li>FALSE</li>\n",
       "\t<li>FALSE</li>\n",
       "\t<li>FALSE</li>\n",
       "\t<li>FALSE</li>\n",
       "\t<li>FALSE</li>\n",
       "\t<li>FALSE</li>\n",
       "\t<li>FALSE</li>\n",
       "\t<li>FALSE</li>\n",
       "\t<li>FALSE</li>\n",
       "\t<li>FALSE</li>\n",
       "\t<li>FALSE</li>\n",
       "\t<li>FALSE</li>\n",
       "\t<li>FALSE</li>\n",
       "\t<li>FALSE</li>\n",
       "</ol>\n"
      ],
      "text/latex": [
       "\\begin{enumerate*}\n",
       "\\item FALSE\n",
       "\\item TRUE\n",
       "\\item FALSE\n",
       "\\item FALSE\n",
       "\\item FALSE\n",
       "\\item FALSE\n",
       "\\item FALSE\n",
       "\\item FALSE\n",
       "\\item FALSE\n",
       "\\item FALSE\n",
       "\\item FALSE\n",
       "\\item FALSE\n",
       "\\item FALSE\n",
       "\\item FALSE\n",
       "\\item FALSE\n",
       "\\item FALSE\n",
       "\\item FALSE\n",
       "\\item FALSE\n",
       "\\item FALSE\n",
       "\\item FALSE\n",
       "\\item FALSE\n",
       "\\item FALSE\n",
       "\\item FALSE\n",
       "\\item FALSE\n",
       "\\item FALSE\n",
       "\\item FALSE\n",
       "\\item FALSE\n",
       "\\item FALSE\n",
       "\\item FALSE\n",
       "\\item FALSE\n",
       "\\item FALSE\n",
       "\\item FALSE\n",
       "\\item FALSE\n",
       "\\item FALSE\n",
       "\\item FALSE\n",
       "\\item FALSE\n",
       "\\item FALSE\n",
       "\\item FALSE\n",
       "\\item FALSE\n",
       "\\item FALSE\n",
       "\\item FALSE\n",
       "\\item FALSE\n",
       "\\item FALSE\n",
       "\\item FALSE\n",
       "\\item FALSE\n",
       "\\item FALSE\n",
       "\\item FALSE\n",
       "\\item FALSE\n",
       "\\item FALSE\n",
       "\\item FALSE\n",
       "\\item FALSE\n",
       "\\item FALSE\n",
       "\\end{enumerate*}\n"
      ],
      "text/markdown": [
       "1. FALSE\n",
       "2. TRUE\n",
       "3. FALSE\n",
       "4. FALSE\n",
       "5. FALSE\n",
       "6. FALSE\n",
       "7. FALSE\n",
       "8. FALSE\n",
       "9. FALSE\n",
       "10. FALSE\n",
       "11. FALSE\n",
       "12. FALSE\n",
       "13. FALSE\n",
       "14. FALSE\n",
       "15. FALSE\n",
       "16. FALSE\n",
       "17. FALSE\n",
       "18. FALSE\n",
       "19. FALSE\n",
       "20. FALSE\n",
       "21. FALSE\n",
       "22. FALSE\n",
       "23. FALSE\n",
       "24. FALSE\n",
       "25. FALSE\n",
       "26. FALSE\n",
       "27. FALSE\n",
       "28. FALSE\n",
       "29. FALSE\n",
       "30. FALSE\n",
       "31. FALSE\n",
       "32. FALSE\n",
       "33. FALSE\n",
       "34. FALSE\n",
       "35. FALSE\n",
       "36. FALSE\n",
       "37. FALSE\n",
       "38. FALSE\n",
       "39. FALSE\n",
       "40. FALSE\n",
       "41. FALSE\n",
       "42. FALSE\n",
       "43. FALSE\n",
       "44. FALSE\n",
       "45. FALSE\n",
       "46. FALSE\n",
       "47. FALSE\n",
       "48. FALSE\n",
       "49. FALSE\n",
       "50. FALSE\n",
       "51. FALSE\n",
       "52. FALSE\n",
       "\n",
       "\n"
      ],
      "text/plain": [
       " [1] FALSE  TRUE FALSE FALSE FALSE FALSE FALSE FALSE FALSE FALSE FALSE FALSE\n",
       "[13] FALSE FALSE FALSE FALSE FALSE FALSE FALSE FALSE FALSE FALSE FALSE FALSE\n",
       "[25] FALSE FALSE FALSE FALSE FALSE FALSE FALSE FALSE FALSE FALSE FALSE FALSE\n",
       "[37] FALSE FALSE FALSE FALSE FALSE FALSE FALSE FALSE FALSE FALSE FALSE FALSE\n",
       "[49] FALSE FALSE FALSE FALSE"
      ]
     },
     "metadata": {},
     "output_type": "display_data"
    },
    {
     "data": {
      "text/html": [
       "<table>\n",
       "<thead><tr><th></th><th scope=col>face</th><th scope=col>suit</th><th scope=col>value</th></tr></thead>\n",
       "<tbody>\n",
       "\t<tr><th scope=row>2</th><td>queen </td><td>spades</td><td>12    </td></tr>\n",
       "</tbody>\n",
       "</table>\n"
      ],
      "text/latex": [
       "\\begin{tabular}{r|lll}\n",
       "  & face & suit & value\\\\\n",
       "\\hline\n",
       "\t2 & queen  & spades & 12    \\\\\n",
       "\\end{tabular}\n"
      ],
      "text/markdown": [
       "\n",
       "| <!--/--> | face | suit | value |\n",
       "|---|---|---|---|\n",
       "| 2 | queen  | spades | 12     |\n",
       "\n"
      ],
      "text/plain": [
       "  face  suit   value\n",
       "2 queen spades 12   "
      ]
     },
     "metadata": {},
     "output_type": "display_data"
    }
   ],
   "source": [
    "deck4 <- deck\n",
    "\n",
    "deck4$face == \"queen\" & deck4$suit == \"spades\"\n",
    "\n",
    "qeenofspades <- deck4$face == \"queen\" & deck4$suit == \"spades\"\n",
    "deck4[qeenofspades,]"
   ]
  },
  {
   "cell_type": "markdown",
   "metadata": {},
   "source": [
    "## 5.3 欠損情報\n",
    "「Not Availavle」　不明という意味。<br>\n",
    "RではNAで表現される。"
   ]
  },
  {
   "cell_type": "markdown",
   "metadata": {},
   "source": [
    "### 5.3.1 na.rm \n",
    "ベクトルの中に一つでもNAがある場合、何してもNAになる。"
   ]
  },
  {
   "cell_type": "code",
   "execution_count": 78,
   "metadata": {},
   "outputs": [
    {
     "data": {
      "text/html": [
       "<ol class=list-inline>\n",
       "\t<li>&lt;NA&gt;</li>\n",
       "\t<li>1</li>\n",
       "\t<li>2</li>\n",
       "\t<li>3</li>\n",
       "\t<li>4</li>\n",
       "\t<li>5</li>\n",
       "\t<li>6</li>\n",
       "\t<li>7</li>\n",
       "\t<li>8</li>\n",
       "\t<li>9</li>\n",
       "\t<li>10</li>\n",
       "\t<li>11</li>\n",
       "\t<li>12</li>\n",
       "\t<li>13</li>\n",
       "\t<li>14</li>\n",
       "\t<li>15</li>\n",
       "\t<li>16</li>\n",
       "\t<li>17</li>\n",
       "\t<li>18</li>\n",
       "\t<li>19</li>\n",
       "\t<li>20</li>\n",
       "\t<li>21</li>\n",
       "\t<li>22</li>\n",
       "\t<li>23</li>\n",
       "\t<li>24</li>\n",
       "\t<li>25</li>\n",
       "\t<li>26</li>\n",
       "\t<li>27</li>\n",
       "\t<li>28</li>\n",
       "\t<li>29</li>\n",
       "\t<li>30</li>\n",
       "\t<li>31</li>\n",
       "\t<li>32</li>\n",
       "\t<li>33</li>\n",
       "\t<li>34</li>\n",
       "\t<li>35</li>\n",
       "\t<li>36</li>\n",
       "\t<li>37</li>\n",
       "\t<li>38</li>\n",
       "\t<li>39</li>\n",
       "\t<li>40</li>\n",
       "\t<li>41</li>\n",
       "\t<li>42</li>\n",
       "\t<li>43</li>\n",
       "\t<li>44</li>\n",
       "\t<li>45</li>\n",
       "\t<li>46</li>\n",
       "\t<li>47</li>\n",
       "\t<li>48</li>\n",
       "\t<li>49</li>\n",
       "\t<li>50</li>\n",
       "</ol>\n"
      ],
      "text/latex": [
       "\\begin{enumerate*}\n",
       "\\item <NA>\n",
       "\\item 1\n",
       "\\item 2\n",
       "\\item 3\n",
       "\\item 4\n",
       "\\item 5\n",
       "\\item 6\n",
       "\\item 7\n",
       "\\item 8\n",
       "\\item 9\n",
       "\\item 10\n",
       "\\item 11\n",
       "\\item 12\n",
       "\\item 13\n",
       "\\item 14\n",
       "\\item 15\n",
       "\\item 16\n",
       "\\item 17\n",
       "\\item 18\n",
       "\\item 19\n",
       "\\item 20\n",
       "\\item 21\n",
       "\\item 22\n",
       "\\item 23\n",
       "\\item 24\n",
       "\\item 25\n",
       "\\item 26\n",
       "\\item 27\n",
       "\\item 28\n",
       "\\item 29\n",
       "\\item 30\n",
       "\\item 31\n",
       "\\item 32\n",
       "\\item 33\n",
       "\\item 34\n",
       "\\item 35\n",
       "\\item 36\n",
       "\\item 37\n",
       "\\item 38\n",
       "\\item 39\n",
       "\\item 40\n",
       "\\item 41\n",
       "\\item 42\n",
       "\\item 43\n",
       "\\item 44\n",
       "\\item 45\n",
       "\\item 46\n",
       "\\item 47\n",
       "\\item 48\n",
       "\\item 49\n",
       "\\item 50\n",
       "\\end{enumerate*}\n"
      ],
      "text/markdown": [
       "1. &lt;NA&gt;\n",
       "2. 1\n",
       "3. 2\n",
       "4. 3\n",
       "5. 4\n",
       "6. 5\n",
       "7. 6\n",
       "8. 7\n",
       "9. 8\n",
       "10. 9\n",
       "11. 10\n",
       "12. 11\n",
       "13. 12\n",
       "14. 13\n",
       "15. 14\n",
       "16. 15\n",
       "17. 16\n",
       "18. 17\n",
       "19. 18\n",
       "20. 19\n",
       "21. 20\n",
       "22. 21\n",
       "23. 22\n",
       "24. 23\n",
       "25. 24\n",
       "26. 25\n",
       "27. 26\n",
       "28. 27\n",
       "29. 28\n",
       "30. 29\n",
       "31. 30\n",
       "32. 31\n",
       "33. 32\n",
       "34. 33\n",
       "35. 34\n",
       "36. 35\n",
       "37. 36\n",
       "38. 37\n",
       "39. 38\n",
       "40. 39\n",
       "41. 40\n",
       "42. 41\n",
       "43. 42\n",
       "44. 43\n",
       "45. 44\n",
       "46. 45\n",
       "47. 46\n",
       "48. 47\n",
       "49. 48\n",
       "50. 49\n",
       "51. 50\n",
       "\n",
       "\n"
      ],
      "text/plain": [
       " [1] NA  1  2  3  4  5  6  7  8  9 10 11 12 13 14 15 16 17 18 19 20 21 22 23 24\n",
       "[26] 25 26 27 28 29 30 31 32 33 34 35 36 37 38 39 40 41 42 43 44 45 46 47 48 49\n",
       "[51] 50"
      ]
     },
     "metadata": {},
     "output_type": "display_data"
    },
    {
     "data": {
      "text/html": [
       "&lt;NA&gt;"
      ],
      "text/latex": [
       "<NA>"
      ],
      "text/markdown": [
       "&lt;NA&gt;"
      ],
      "text/plain": [
       "[1] NA"
      ]
     },
     "metadata": {},
     "output_type": "display_data"
    }
   ],
   "source": [
    "c(NA, 1:50)\n",
    "mean(c(NA, 1:50))"
   ]
  },
  {
   "cell_type": "markdown",
   "metadata": {},
   "source": [
    "ほとんどの関数では`na.rm`というオプションが実装されている。<br>\n",
    "`na.rm = TRUE`である場合はNAは無視される。"
   ]
  },
  {
   "cell_type": "code",
   "execution_count": 79,
   "metadata": {},
   "outputs": [
    {
     "data": {
      "text/html": [
       "25.5"
      ],
      "text/latex": [
       "25.5"
      ],
      "text/markdown": [
       "25.5"
      ],
      "text/plain": [
       "[1] 25.5"
      ]
     },
     "metadata": {},
     "output_type": "display_data"
    }
   ],
   "source": [
    "mean(c(NA, 1:50),na.rm = TRUE)"
   ]
  },
  {
   "cell_type": "markdown",
   "metadata": {},
   "source": [
    "###  5.3.2 is.na"
   ]
  },
  {
   "cell_type": "code",
   "execution_count": 80,
   "metadata": {},
   "outputs": [
    {
     "data": {
      "text/html": [
       "&lt;NA&gt;"
      ],
      "text/latex": [
       "<NA>"
      ],
      "text/markdown": [
       "&lt;NA&gt;"
      ],
      "text/plain": [
       "[1] NA"
      ]
     },
     "metadata": {},
     "output_type": "display_data"
    }
   ],
   "source": [
    "NA == NA"
   ]
  },
  {
   "cell_type": "code",
   "execution_count": 81,
   "metadata": {},
   "outputs": [
    {
     "data": {
      "text/html": [
       "<ol class=list-inline>\n",
       "\t<li>&lt;NA&gt;</li>\n",
       "\t<li>&lt;NA&gt;</li>\n",
       "\t<li>&lt;NA&gt;</li>\n",
       "\t<li>&lt;NA&gt;</li>\n",
       "</ol>\n"
      ],
      "text/latex": [
       "\\begin{enumerate*}\n",
       "\\item <NA>\n",
       "\\item <NA>\n",
       "\\item <NA>\n",
       "\\item <NA>\n",
       "\\end{enumerate*}\n"
      ],
      "text/markdown": [
       "1. &lt;NA&gt;\n",
       "2. &lt;NA&gt;\n",
       "3. &lt;NA&gt;\n",
       "4. &lt;NA&gt;\n",
       "\n",
       "\n"
      ],
      "text/plain": [
       "[1] NA NA NA NA"
      ]
     },
     "metadata": {},
     "output_type": "display_data"
    }
   ],
   "source": [
    "c(1,2,3,NA) == NA"
   ]
  },
  {
   "cell_type": "code",
   "execution_count": 83,
   "metadata": {},
   "outputs": [
    {
     "data": {
      "text/html": [
       "TRUE"
      ],
      "text/latex": [
       "TRUE"
      ],
      "text/markdown": [
       "TRUE"
      ],
      "text/plain": [
       "[1] TRUE"
      ]
     },
     "metadata": {},
     "output_type": "display_data"
    }
   ],
   "source": [
    "is.na(NA)"
   ]
  },
  {
   "cell_type": "code",
   "execution_count": 87,
   "metadata": {},
   "outputs": [
    {
     "data": {
      "text/html": [
       "<table>\n",
       "<thead><tr><th scope=col>face</th><th scope=col>suit</th><th scope=col>value</th></tr></thead>\n",
       "<tbody>\n",
       "\t<tr><td>king  </td><td>spades</td><td>13    </td></tr>\n",
       "\t<tr><td>queen </td><td>spades</td><td>12    </td></tr>\n",
       "\t<tr><td>jack  </td><td>spades</td><td>11    </td></tr>\n",
       "\t<tr><td>ten   </td><td>spades</td><td>10    </td></tr>\n",
       "\t<tr><td>nine  </td><td>spades</td><td> 9    </td></tr>\n",
       "\t<tr><td>eight </td><td>spades</td><td> 8    </td></tr>\n",
       "\t<tr><td>seven </td><td>spades</td><td> 7    </td></tr>\n",
       "\t<tr><td>six   </td><td>spades</td><td> 6    </td></tr>\n",
       "\t<tr><td>five  </td><td>spades</td><td> 5    </td></tr>\n",
       "\t<tr><td>four  </td><td>spades</td><td> 4    </td></tr>\n",
       "\t<tr><td>three </td><td>spades</td><td> 3    </td></tr>\n",
       "\t<tr><td>two   </td><td>spades</td><td> 2    </td></tr>\n",
       "\t<tr><td>ace   </td><td>spades</td><td>NA    </td></tr>\n",
       "</tbody>\n",
       "</table>\n"
      ],
      "text/latex": [
       "\\begin{tabular}{r|lll}\n",
       " face & suit & value\\\\\n",
       "\\hline\n",
       "\t king   & spades & 13    \\\\\n",
       "\t queen  & spades & 12    \\\\\n",
       "\t jack   & spades & 11    \\\\\n",
       "\t ten    & spades & 10    \\\\\n",
       "\t nine   & spades &  9    \\\\\n",
       "\t eight  & spades &  8    \\\\\n",
       "\t seven  & spades &  7    \\\\\n",
       "\t six    & spades &  6    \\\\\n",
       "\t five   & spades &  5    \\\\\n",
       "\t four   & spades &  4    \\\\\n",
       "\t three  & spades &  3    \\\\\n",
       "\t two    & spades &  2    \\\\\n",
       "\t ace    & spades & NA    \\\\\n",
       "\\end{tabular}\n"
      ],
      "text/markdown": [
       "\n",
       "| face | suit | value |\n",
       "|---|---|---|\n",
       "| king   | spades | 13     |\n",
       "| queen  | spades | 12     |\n",
       "| jack   | spades | 11     |\n",
       "| ten    | spades | 10     |\n",
       "| nine   | spades |  9     |\n",
       "| eight  | spades |  8     |\n",
       "| seven  | spades |  7     |\n",
       "| six    | spades |  6     |\n",
       "| five   | spades |  5     |\n",
       "| four   | spades |  4     |\n",
       "| three  | spades |  3     |\n",
       "| two    | spades |  2     |\n",
       "| ace    | spades | NA     |\n",
       "\n"
      ],
      "text/plain": [
       "   face  suit   value\n",
       "1  king  spades 13   \n",
       "2  queen spades 12   \n",
       "3  jack  spades 11   \n",
       "4  ten   spades 10   \n",
       "5  nine  spades  9   \n",
       "6  eight spades  8   \n",
       "7  seven spades  7   \n",
       "8  six   spades  6   \n",
       "9  five  spades  5   \n",
       "10 four  spades  4   \n",
       "11 three spades  3   \n",
       "12 two   spades  2   \n",
       "13 ace   spades NA   "
      ]
     },
     "metadata": {},
     "output_type": "display_data"
    }
   ],
   "source": [
    "deck5 <- deck\n",
    "\n",
    "deck5$value[deck5$face == \"ace\"] <- NA\n",
    "head(deck5, n = 13)"
   ]
  }
 ],
 "metadata": {
  "kernelspec": {
   "display_name": "R",
   "language": "R",
   "name": "ir"
  },
  "language_info": {
   "codemirror_mode": "r",
   "file_extension": ".r",
   "mimetype": "text/x-r-source",
   "name": "R",
   "pygments_lexer": "r",
   "version": "3.5.1"
  }
 },
 "nbformat": 4,
 "nbformat_minor": 2
}
