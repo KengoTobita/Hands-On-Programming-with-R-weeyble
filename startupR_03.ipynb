{
 "cells": [
  {
   "cell_type": "markdown",
   "metadata": {},
   "source": [
    "# 第３章 Rのオブジェクト"
   ]
  },
  {
   "cell_type": "markdown",
   "metadata": {},
   "source": [
    "## 3.1 アトミックベクトル\n",
    "アトミックベクトルは単純な**データのベクトル**のこと。<br>\n",
    "アトミックベクトルは一次元ベクトルとして値を格納しています。<br>\n",
    "そしてアトミックベクトルは同じデータ型のみを扱います。<br>"
   ]
  },
  {
   "cell_type": "code",
   "execution_count": 5,
   "metadata": {},
   "outputs": [],
   "source": [
    "die <- c(1,2,3,4,5,6)\n",
    "five <- 5"
   ]
  },
  {
   "cell_type": "code",
   "execution_count": 6,
   "metadata": {},
   "outputs": [
    {
     "data": {
      "text/html": [
       "TRUE"
      ],
      "text/latex": [
       "TRUE"
      ],
      "text/markdown": [
       "TRUE"
      ],
      "text/plain": [
       "[1] TRUE"
      ]
     },
     "metadata": {},
     "output_type": "display_data"
    },
    {
     "data": {
      "text/html": [
       "TRUE"
      ],
      "text/latex": [
       "TRUE"
      ],
      "text/markdown": [
       "TRUE"
      ],
      "text/plain": [
       "[1] TRUE"
      ]
     },
     "metadata": {},
     "output_type": "display_data"
    }
   ],
   "source": [
    "is.vector(die)\n",
    "is.vector(five)"
   ]
  },
  {
   "cell_type": "markdown",
   "metadata": {},
   "source": [
    "今回紹介するデータ型は以下のものです。<br>\n",
    "他にも色々なものがあった……気がするけど、とりあえずこれだけでOK\n",
    "\n",
    "\n",
    "| データ型                   | 例         |\n",
    "| :------------------------- | ---------- |\n",
    "| Double(倍精度浮動小数点型) | 3.14       |\n",
    "| Integer(整数)              | 100        |\n",
    "| Character(文字)            | \"にゃーん\" |\n",
    "| Logical(論理値)            | TRUE       |\n",
    "| Complex(複素数)            | 4i         |\n",
    "| Raw(バイナリ)              |      00      |"
   ]
  },
  {
   "cell_type": "markdown",
   "metadata": {},
   "source": [
    "### 倍精度浮動小数点型\n",
    "通常の数値のデータはこれ。<br>\n",
    "正でも負でも小数点以下でもOK。<br>"
   ]
  },
  {
   "cell_type": "code",
   "execution_count": 10,
   "metadata": {},
   "outputs": [],
   "source": [
    "die <- c(1,2,3,4,5,6)\n",
    "ensyu <- 3.14"
   ]
  },
  {
   "cell_type": "code",
   "execution_count": 12,
   "metadata": {},
   "outputs": [
    {
     "data": {
      "text/html": [
       "'double'"
      ],
      "text/latex": [
       "'double'"
      ],
      "text/markdown": [
       "'double'"
      ],
      "text/plain": [
       "[1] \"double\""
      ]
     },
     "metadata": {},
     "output_type": "display_data"
    },
    {
     "data": {
      "text/html": [
       "'double'"
      ],
      "text/latex": [
       "'double'"
      ],
      "text/markdown": [
       "'double'"
      ],
      "text/plain": [
       "[1] \"double\""
      ]
     },
     "metadata": {},
     "output_type": "display_data"
    }
   ],
   "source": [
    "typeof(die)\n",
    "typeof(ensyu)"
   ]
  },
  {
   "cell_type": "markdown",
   "metadata": {},
   "source": [
    "### 整数\n",
    "小数がない数字。<br>\n",
    "ぶっちゃけ「２」や「１０」といった数字も倍精度小数点型でいけるので<br>\n",
    "整数型を扱う機会は多くはない……はず。<br>\n",
    "<br>\n",
    "整数型のオブジェクトを意図的に作成したい時は、<br>\n",
    "数値の後ろに **L** をつけることで作成することが可能。"
   ]
  },
  {
   "cell_type": "code",
   "execution_count": 16,
   "metadata": {},
   "outputs": [],
   "source": [
    "syosu <- c(1,2,3,4)\n",
    "int <- c(1L,2L,3L,4L)\n",
    "int6 <- c(1:6)"
   ]
  },
  {
   "cell_type": "code",
   "execution_count": 17,
   "metadata": {},
   "outputs": [
    {
     "data": {
      "text/html": [
       "'double'"
      ],
      "text/latex": [
       "'double'"
      ],
      "text/markdown": [
       "'double'"
      ],
      "text/plain": [
       "[1] \"double\""
      ]
     },
     "metadata": {},
     "output_type": "display_data"
    },
    {
     "data": {
      "text/html": [
       "'integer'"
      ],
      "text/latex": [
       "'integer'"
      ],
      "text/markdown": [
       "'integer'"
      ],
      "text/plain": [
       "[1] \"integer\""
      ]
     },
     "metadata": {},
     "output_type": "display_data"
    },
    {
     "data": {
      "text/html": [
       "'integer'"
      ],
      "text/latex": [
       "'integer'"
      ],
      "text/markdown": [
       "'integer'"
      ],
      "text/plain": [
       "[1] \"integer\""
      ]
     },
     "metadata": {},
     "output_type": "display_data"
    }
   ],
   "source": [
    "typeof(syosu)\n",
    "typeof(int)\n",
    "typeof(int6)"
   ]
  },
  {
   "cell_type": "markdown",
   "metadata": {},
   "source": [
    "### 文字型\n",
    "文字型は何かしろのテキストを格納することのできるデータ型です。<br>\n",
    "シングルクウォートかダブルクウォートで囲んでください。<br>\n",
    "クウォートで囲んであれば数字だろうが文字型として認識します。<br>\n",
    "<br>\n",
    "クウォートを忘れると、（おそらくは）存在しない変数を探してErrorが出るはず。"
   ]
  },
  {
   "cell_type": "code",
   "execution_count": 20,
   "metadata": {},
   "outputs": [],
   "source": [
    "a <- 'hello'\n",
    "b<- \"１２３１２３\""
   ]
  },
  {
   "cell_type": "code",
   "execution_count": 22,
   "metadata": {},
   "outputs": [
    {
     "ename": "ERROR",
     "evalue": "Error in eval(expr, envir, enclos): object 'reiwa' not found\n",
     "output_type": "error",
     "traceback": [
      "Error in eval(expr, envir, enclos): object 'reiwa' not found\nTraceback:\n"
     ]
    }
   ],
   "source": [
    "#クウォート忘れると、このざま\n",
    "b <- reiwa"
   ]
  },
  {
   "cell_type": "code",
   "execution_count": 21,
   "metadata": {},
   "outputs": [
    {
     "data": {
      "text/html": [
       "'character'"
      ],
      "text/latex": [
       "'character'"
      ],
      "text/markdown": [
       "'character'"
      ],
      "text/plain": [
       "[1] \"character\""
      ]
     },
     "metadata": {},
     "output_type": "display_data"
    },
    {
     "data": {
      "text/html": [
       "'character'"
      ],
      "text/latex": [
       "'character'"
      ],
      "text/markdown": [
       "'character'"
      ],
      "text/plain": [
       "[1] \"character\""
      ]
     },
     "metadata": {},
     "output_type": "display_data"
    }
   ],
   "source": [
    "typeof(a)\n",
    "typeof(b)"
   ]
  },
  {
   "cell_type": "markdown",
   "metadata": {},
   "source": [
    "### 論理値型\n",
    "要するにブーリアン。<br>\n",
    "Rにおける論理値の **TRUE** か **FALSE** を格納します。<br>\n",
    "双方共に、TとFで省略が可能。"
   ]
  },
  {
   "cell_type": "code",
   "execution_count": 23,
   "metadata": {},
   "outputs": [],
   "source": [
    "logic <- c(TRUE,FALSE,F,T)"
   ]
  },
  {
   "cell_type": "code",
   "execution_count": 24,
   "metadata": {},
   "outputs": [
    {
     "data": {
      "text/html": [
       "'logical'"
      ],
      "text/latex": [
       "'logical'"
      ],
      "text/markdown": [
       "'logical'"
      ],
      "text/plain": [
       "[1] \"logical\""
      ]
     },
     "metadata": {},
     "output_type": "display_data"
    }
   ],
   "source": [
    "typeof(logic)"
   ]
  },
  {
   "cell_type": "markdown",
   "metadata": {},
   "source": [
    "### 複素数とraw\n",
    "まず使わない。<br>\n",
    "けど一応紹介します。<br>\n",
    "<br>\n",
    "複素数ベクトル作成する時は、数値に i を追加したものを書けば、<br>\n",
    "虚数項として認識するので、複素数ベクトルを作れます。<br>\n",
    "<br>\n",
    "rawベクトルは手が加えられていないデータバイトなどを格納するデータ型。<br>\n",
    "`raw(n)`で作成することができる……けどrawのヘルプ見て。~~よくわかんないから~~<br>"
   ]
  },
  {
   "cell_type": "code",
   "execution_count": 25,
   "metadata": {},
   "outputs": [],
   "source": [
    "comp <- c(1+1i , 2+2i , 3+3i)\n",
    "bainari <- raw(10)"
   ]
  },
  {
   "cell_type": "code",
   "execution_count": 26,
   "metadata": {},
   "outputs": [
    {
     "data": {
      "text/html": [
       "'complex'"
      ],
      "text/latex": [
       "'complex'"
      ],
      "text/markdown": [
       "'complex'"
      ],
      "text/plain": [
       "[1] \"complex\""
      ]
     },
     "metadata": {},
     "output_type": "display_data"
    },
    {
     "data": {
      "text/html": [
       "'raw'"
      ],
      "text/latex": [
       "'raw'"
      ],
      "text/markdown": [
       "'raw'"
      ],
      "text/plain": [
       "[1] \"raw\""
      ]
     },
     "metadata": {},
     "output_type": "display_data"
    }
   ],
   "source": [
    "typeof(comp)\n",
    "typeof(bainari)"
   ]
  },
  {
   "cell_type": "markdown",
   "metadata": {},
   "source": [
    "## 3.2 属性\n",
    "属性はアトミックベクトルに追加することができる情報のこと<br>\n",
    "オブジェクトの値を邪魔しない上、オブジェクトを表示しても表示されないメタデータ。<br>\n",
    "<font color = \"red\">ここに表を書く"
   ]
  },
  {
   "cell_type": "markdown",
   "metadata": {},
   "source": [
    "### 3.2.1 名前\n"
   ]
  },
  {
   "cell_type": "code",
   "execution_count": 32,
   "metadata": {},
   "outputs": [
    {
     "data": {
      "text/plain": [
       "NULL"
      ]
     },
     "metadata": {},
     "output_type": "display_data"
    }
   ],
   "source": [
    "die <- c(1,2,3,4,5,6)\n",
    "\n",
    "names(die)"
   ]
  },
  {
   "cell_type": "code",
   "execution_count": 34,
   "metadata": {},
   "outputs": [
    {
     "data": {
      "text/html": [
       "<ol class=list-inline>\n",
       "\t<li>'one'</li>\n",
       "\t<li>'tow'</li>\n",
       "\t<li>'three'</li>\n",
       "\t<li>'four'</li>\n",
       "\t<li>'five'</li>\n",
       "\t<li>'six'</li>\n",
       "</ol>\n"
      ],
      "text/latex": [
       "\\begin{enumerate*}\n",
       "\\item 'one'\n",
       "\\item 'tow'\n",
       "\\item 'three'\n",
       "\\item 'four'\n",
       "\\item 'five'\n",
       "\\item 'six'\n",
       "\\end{enumerate*}\n"
      ],
      "text/markdown": [
       "1. 'one'\n",
       "2. 'tow'\n",
       "3. 'three'\n",
       "4. 'four'\n",
       "5. 'five'\n",
       "6. 'six'\n",
       "\n",
       "\n"
      ],
      "text/plain": [
       "[1] \"one\"   \"tow\"   \"three\" \"four\"  \"five\"  \"six\"  "
      ]
     },
     "metadata": {},
     "output_type": "display_data"
    }
   ],
   "source": [
    "names(die) <- c(\"one\",\"tow\",\"three\",\"four\",\"five\",\"six\")\n",
    "names(die)"
   ]
  },
  {
   "cell_type": "code",
   "execution_count": 40,
   "metadata": {},
   "outputs": [
    {
     "data": {
      "text/html": [
       "<strong>$names</strong> = <ol class=list-inline>\n",
       "\t<li>'one'</li>\n",
       "\t<li>'tow'</li>\n",
       "\t<li>'three'</li>\n",
       "\t<li>'four'</li>\n",
       "\t<li>'five'</li>\n",
       "\t<li>'six'</li>\n",
       "</ol>\n"
      ],
      "text/latex": [
       "\\textbf{\\$names} = \\begin{enumerate*}\n",
       "\\item 'one'\n",
       "\\item 'tow'\n",
       "\\item 'three'\n",
       "\\item 'four'\n",
       "\\item 'five'\n",
       "\\item 'six'\n",
       "\\end{enumerate*}\n"
      ],
      "text/markdown": [
       "**$names** = 1. 'one'\n",
       "2. 'tow'\n",
       "3. 'three'\n",
       "4. 'four'\n",
       "5. 'five'\n",
       "6. 'six'\n",
       "\n",
       "\n"
      ],
      "text/plain": [
       "$names\n",
       "[1] \"one\"   \"tow\"   \"three\" \"four\"  \"five\"  \"six\"  \n"
      ]
     },
     "metadata": {},
     "output_type": "display_data"
    },
    {
     "name": "stdout",
     "output_type": "stream",
     "text": [
      "[1] \"==========================\"\n"
     ]
    },
    {
     "data": {
      "text/html": [
       "<dl class=dl-horizontal>\n",
       "\t<dt>one</dt>\n",
       "\t\t<dd>1</dd>\n",
       "\t<dt>tow</dt>\n",
       "\t\t<dd>2</dd>\n",
       "\t<dt>three</dt>\n",
       "\t\t<dd>3</dd>\n",
       "\t<dt>four</dt>\n",
       "\t\t<dd>4</dd>\n",
       "\t<dt>five</dt>\n",
       "\t\t<dd>5</dd>\n",
       "\t<dt>six</dt>\n",
       "\t\t<dd>6</dd>\n",
       "</dl>\n"
      ],
      "text/latex": [
       "\\begin{description*}\n",
       "\\item[one] 1\n",
       "\\item[tow] 2\n",
       "\\item[three] 3\n",
       "\\item[four] 4\n",
       "\\item[five] 5\n",
       "\\item[six] 6\n",
       "\\end{description*}\n"
      ],
      "text/markdown": [
       "one\n",
       ":   1tow\n",
       ":   2three\n",
       ":   3four\n",
       ":   4five\n",
       ":   5six\n",
       ":   6\n",
       "\n"
      ],
      "text/plain": [
       "  one   tow three  four  five   six \n",
       "    1     2     3     4     5     6 "
      ]
     },
     "metadata": {},
     "output_type": "display_data"
    }
   ],
   "source": [
    "attributes(die)\n",
    "print(\"==========================\")\n",
    "die"
   ]
  },
  {
   "cell_type": "code",
   "execution_count": 41,
   "metadata": {},
   "outputs": [
    {
     "data": {
      "text/html": [
       "<dl class=dl-horizontal>\n",
       "\t<dt>one</dt>\n",
       "\t\t<dd>2</dd>\n",
       "\t<dt>tow</dt>\n",
       "\t\t<dd>3</dd>\n",
       "\t<dt>three</dt>\n",
       "\t\t<dd>4</dd>\n",
       "\t<dt>four</dt>\n",
       "\t\t<dd>5</dd>\n",
       "\t<dt>five</dt>\n",
       "\t\t<dd>6</dd>\n",
       "\t<dt>six</dt>\n",
       "\t\t<dd>7</dd>\n",
       "</dl>\n"
      ],
      "text/latex": [
       "\\begin{description*}\n",
       "\\item[one] 2\n",
       "\\item[tow] 3\n",
       "\\item[three] 4\n",
       "\\item[four] 5\n",
       "\\item[five] 6\n",
       "\\item[six] 7\n",
       "\\end{description*}\n"
      ],
      "text/markdown": [
       "one\n",
       ":   2tow\n",
       ":   3three\n",
       ":   4four\n",
       ":   5five\n",
       ":   6six\n",
       ":   7\n",
       "\n"
      ],
      "text/plain": [
       "  one   tow three  four  five   six \n",
       "    2     3     4     5     6     7 "
      ]
     },
     "metadata": {},
     "output_type": "display_data"
    }
   ],
   "source": [
    "#  attributesは値に影響を与えません。\n",
    "die + 1"
   ]
  },
  {
   "cell_type": "code",
   "execution_count": 43,
   "metadata": {},
   "outputs": [
    {
     "data": {
      "text/html": [
       "<dl class=dl-horizontal>\n",
       "\t<dt>ichi</dt>\n",
       "\t\t<dd>1</dd>\n",
       "\t<dt>ni</dt>\n",
       "\t\t<dd>2</dd>\n",
       "\t<dt>san</dt>\n",
       "\t\t<dd>3</dd>\n",
       "\t<dt>shi</dt>\n",
       "\t\t<dd>4</dd>\n",
       "\t<dt>go</dt>\n",
       "\t\t<dd>5</dd>\n",
       "\t<dt>roku</dt>\n",
       "\t\t<dd>6</dd>\n",
       "</dl>\n"
      ],
      "text/latex": [
       "\\begin{description*}\n",
       "\\item[ichi] 1\n",
       "\\item[ni] 2\n",
       "\\item[san] 3\n",
       "\\item[shi] 4\n",
       "\\item[go] 5\n",
       "\\item[roku] 6\n",
       "\\end{description*}\n"
      ],
      "text/markdown": [
       "ichi\n",
       ":   1ni\n",
       ":   2san\n",
       ":   3shi\n",
       ":   4go\n",
       ":   5roku\n",
       ":   6\n",
       "\n"
      ],
      "text/plain": [
       "ichi   ni  san  shi   go roku \n",
       "   1    2    3    4    5    6 "
      ]
     },
     "metadata": {},
     "output_type": "display_data"
    }
   ],
   "source": [
    "# namesでの再定義が可能。\n",
    "names(die) <- c(\"ichi\",\"ni\",\"san\",\"shi\",\"go\",\"roku\")\n",
    "die"
   ]
  },
  {
   "cell_type": "markdown",
   "metadata": {},
   "source": [
    "### 3.2.2 次元"
   ]
  },
  {
   "cell_type": "code",
   "execution_count": 47,
   "metadata": {},
   "outputs": [
    {
     "data": {
      "text/html": [
       "<table>\n",
       "<tbody>\n",
       "\t<tr><td>1</td><td>3</td><td>5</td></tr>\n",
       "\t<tr><td>2</td><td>4</td><td>6</td></tr>\n",
       "</tbody>\n",
       "</table>\n"
      ],
      "text/latex": [
       "\\begin{tabular}{lll}\n",
       "\t 1 & 3 & 5\\\\\n",
       "\t 2 & 4 & 6\\\\\n",
       "\\end{tabular}\n"
      ],
      "text/markdown": [
       "\n",
       "| 1 | 3 | 5 |\n",
       "| 2 | 4 | 6 |\n",
       "\n"
      ],
      "text/plain": [
       "     [,1] [,2] [,3]\n",
       "[1,] 1    3    5   \n",
       "[2,] 2    4    6   "
      ]
     },
     "metadata": {},
     "output_type": "display_data"
    }
   ],
   "source": [
    "dim(die) <- c(2,3)\n",
    "die"
   ]
  },
  {
   "cell_type": "code",
   "execution_count": 50,
   "metadata": {
    "scrolled": true
   },
   "outputs": [
    {
     "name": "stdout",
     "output_type": "stream",
     "text": [
      ", , 1\n",
      "\n",
      "     [,1] [,2]\n",
      "[1,]    1    2\n",
      "\n",
      ", , 2\n",
      "\n",
      "     [,1] [,2]\n",
      "[1,]    3    4\n",
      "\n",
      ", , 3\n",
      "\n",
      "     [,1] [,2]\n",
      "[1,]    5    6\n",
      "\n"
     ]
    }
   ],
   "source": [
    "dim(die) <- c(1,2,3)\n",
    "print(die)"
   ]
  },
  {
   "cell_type": "markdown",
   "metadata": {},
   "source": [
    "## 3.3 行列\n",
    "線形代数みたいに２次元のデータを格納する。<br>\n",
    "`matrix()`関数を使用することで作成が可能。"
   ]
  },
  {
   "cell_type": "code",
   "execution_count": 53,
   "metadata": {},
   "outputs": [
    {
     "name": "stdout",
     "output_type": "stream",
     "text": [
      "     [,1]\n",
      "[1,]    1\n",
      "[2,]    2\n",
      "[3,]    3\n",
      "[4,]    4\n",
      "[5,]    5\n",
      "[6,]    6\n"
     ]
    }
   ],
   "source": [
    "m <- matrix(die)\n",
    "print(m)"
   ]
  },
  {
   "cell_type": "code",
   "execution_count": 55,
   "metadata": {},
   "outputs": [
    {
     "name": "stdout",
     "output_type": "stream",
     "text": [
      "     [,1] [,2] [,3]\n",
      "[1,]    1    3    5\n",
      "[2,]    2    4    6\n"
     ]
    }
   ],
   "source": [
    "m <- matrix(die , ncol = 3)\n",
    "print(m)"
   ]
  },
  {
   "cell_type": "code",
   "execution_count": 57,
   "metadata": {},
   "outputs": [
    {
     "name": "stdout",
     "output_type": "stream",
     "text": [
      "     [,1] [,2]\n",
      "[1,]    1    4\n",
      "[2,]    2    5\n",
      "[3,]    3    6\n"
     ]
    }
   ],
   "source": [
    "m <- matrix(die,nrow = 3)\n",
    "print(m)"
   ]
  },
  {
   "cell_type": "markdown",
   "metadata": {},
   "source": [
    "## 3.4 配列\n",
    "`array()`はn次元配列を作成します。<br>"
   ]
  },
  {
   "cell_type": "code",
   "execution_count": 63,
   "metadata": {
    "scrolled": true
   },
   "outputs": [
    {
     "name": "stdout",
     "output_type": "stream",
     "text": [
      ", , 1\n",
      "\n",
      "     [,1] [,2]\n",
      "[1,]   11   13\n",
      "[2,]   12   14\n",
      "\n",
      ", , 2\n",
      "\n",
      "     [,1] [,2]\n",
      "[1,]   21   23\n",
      "[2,]   22   24\n",
      "\n",
      ", , 3\n",
      "\n",
      "     [,1] [,2]\n",
      "[1,]   31   33\n",
      "[2,]   32   34\n",
      "\n"
     ]
    }
   ],
   "source": [
    "ar <- array(c(11:14,21:24,31:34) , dim=c(2,2,3))\n",
    "print(ar)"
   ]
  },
  {
   "cell_type": "markdown",
   "metadata": {},
   "source": [
    "## 3.5 クラス\n",
    "アトミックベクトルの特殊系。<br>\n",
    "例えば`die`は倍精度浮動小数点型で記\n",
    "(詳しいことは「第三部 スロットマシン」で解説するのでとりあえず置いておこう。)<br>"
   ]
  },
  {
   "cell_type": "markdown",
   "metadata": {},
   "source": [
    "### 3.5.1 日付\n",
    "Rの属性システムのおかげで、色々なデータ型を表現することが可能です。<br>\n",
    "Rは日付と時刻を表現するために特別なクラスを使用しています。<br>"
   ]
  },
  {
   "cell_type": "code",
   "execution_count": 72,
   "metadata": {
    "scrolled": false
   },
   "outputs": [
    {
     "data": {
      "text/plain": [
       "[1] \"2019-04-24 08:18:05 UTC\""
      ]
     },
     "metadata": {},
     "output_type": "display_data"
    },
    {
     "data": {
      "text/html": [
       "'double'"
      ],
      "text/latex": [
       "'double'"
      ],
      "text/markdown": [
       "'double'"
      ],
      "text/plain": [
       "[1] \"double\""
      ]
     },
     "metadata": {},
     "output_type": "display_data"
    },
    {
     "data": {
      "text/html": [
       "<ol class=list-inline>\n",
       "\t<li>'POSIXct'</li>\n",
       "\t<li>'POSIXt'</li>\n",
       "</ol>\n"
      ],
      "text/latex": [
       "\\begin{enumerate*}\n",
       "\\item 'POSIXct'\n",
       "\\item 'POSIXt'\n",
       "\\end{enumerate*}\n"
      ],
      "text/markdown": [
       "1. 'POSIXct'\n",
       "2. 'POSIXt'\n",
       "\n",
       "\n"
      ],
      "text/plain": [
       "[1] \"POSIXct\" \"POSIXt\" "
      ]
     },
     "metadata": {},
     "output_type": "display_data"
    }
   ],
   "source": [
    "now <- Sys.time()\n",
    "now\n",
    "typeof(now)\n",
    "class(now)"
   ]
  },
  {
   "cell_type": "markdown",
   "metadata": {},
   "source": [
    "出力に`POSIXct`と表示されました。<br>\n",
    "これは日付や時刻を表現するために使用されているフレームワークです。<br>\n",
    "POSIXctで個々の時刻は起点である1970年1月1日午前0時からの秒数で表現されています。<br>\n",
    "unclassを使用して中身を見ることが可能です。"
   ]
  },
  {
   "cell_type": "code",
   "execution_count": 74,
   "metadata": {},
   "outputs": [
    {
     "data": {
      "text/html": [
       "1556093885.4269"
      ],
      "text/latex": [
       "1556093885.4269"
      ],
      "text/markdown": [
       "1556093885.4269"
      ],
      "text/plain": [
       "[1] 1556093885"
      ]
     },
     "metadata": {},
     "output_type": "display_data"
    },
    {
     "data": {
      "text/html": [
       "'double'"
      ],
      "text/latex": [
       "'double'"
      ],
      "text/markdown": [
       "'double'"
      ],
      "text/plain": [
       "[1] \"double\""
      ]
     },
     "metadata": {},
     "output_type": "display_data"
    }
   ],
   "source": [
    "# POSIXctの元データ\n",
    "unclass(now)\n",
    "typeof(unclass(now))"
   ]
  },
  {
   "cell_type": "markdown",
   "metadata": {},
   "source": [
    "この`POSIXct`と`POSIXt`の二つを設定することで"
   ]
  },
  {
   "cell_type": "markdown",
   "metadata": {},
   "source": [
    "### 3.5.2 ファクタ\n",
    "ファクタは分類情報を格納するための手段です。<br>\n",
    "ファクタを作成するにはfactor関数にアトミックベクトルを渡します。<br>\n",
    "Rはベクトルに含まれているデータを整数として改めて符号化して整数ベクトルにその結果を格納します。<br>\n"
   ]
  },
  {
   "cell_type": "code",
   "execution_count": 19,
   "metadata": {},
   "outputs": [
    {
     "data": {
      "text/html": [
       "'integer'"
      ],
      "text/latex": [
       "'integer'"
      ],
      "text/markdown": [
       "'integer'"
      ],
      "text/plain": [
       "[1] \"integer\""
      ]
     },
     "metadata": {},
     "output_type": "display_data"
    }
   ],
   "source": [
    "gender <- factor(c(\"male\",\"female\",\"female\",\"male\"))\n",
    "\n",
    "typeof(gender)"
   ]
  },
  {
   "cell_type": "code",
   "execution_count": 20,
   "metadata": {},
   "outputs": [
    {
     "data": {
      "text/html": [
       "<dl>\n",
       "\t<dt>$levels</dt>\n",
       "\t\t<dd><ol class=list-inline>\n",
       "\t<li>'female'</li>\n",
       "\t<li>'male'</li>\n",
       "</ol>\n",
       "</dd>\n",
       "\t<dt>$class</dt>\n",
       "\t\t<dd>'factor'</dd>\n",
       "</dl>\n"
      ],
      "text/latex": [
       "\\begin{description}\n",
       "\\item[\\$levels] \\begin{enumerate*}\n",
       "\\item 'female'\n",
       "\\item 'male'\n",
       "\\end{enumerate*}\n",
       "\n",
       "\\item[\\$class] 'factor'\n",
       "\\end{description}\n"
      ],
      "text/markdown": [
       "$levels\n",
       ":   1. 'female'\n",
       "2. 'male'\n",
       "\n",
       "\n",
       "\n",
       "$class\n",
       ":   'factor'\n",
       "\n",
       "\n"
      ],
      "text/plain": [
       "$levels\n",
       "[1] \"female\" \"male\"  \n",
       "\n",
       "$class\n",
       "[1] \"factor\"\n"
      ]
     },
     "metadata": {},
     "output_type": "display_data"
    }
   ],
   "source": [
    "attributes(gender)"
   ]
  },
  {
   "cell_type": "markdown",
   "metadata": {},
   "source": [
    "unclassを使用することでRがファクタをどのように扱っているかわかります。"
   ]
  },
  {
   "cell_type": "code",
   "execution_count": 21,
   "metadata": {},
   "outputs": [
    {
     "data": {
      "text/html": [
       "<ol class=list-inline>\n",
       "\t<li>2</li>\n",
       "\t<li>1</li>\n",
       "\t<li>1</li>\n",
       "\t<li>2</li>\n",
       "</ol>\n"
      ],
      "text/latex": [
       "\\begin{enumerate*}\n",
       "\\item 2\n",
       "\\item 1\n",
       "\\item 1\n",
       "\\item 2\n",
       "\\end{enumerate*}\n"
      ],
      "text/markdown": [
       "1. 2\n",
       "2. 1\n",
       "3. 1\n",
       "4. 2\n",
       "\n",
       "\n"
      ],
      "text/plain": [
       "[1] 2 1 1 2\n",
       "attr(,\"levels\")\n",
       "[1] \"female\" \"male\"  "
      ]
     },
     "metadata": {},
     "output_type": "display_data"
    }
   ],
   "source": [
    "unclass(gender)"
   ]
  },
  {
   "cell_type": "code",
   "execution_count": null,
   "metadata": {},
   "outputs": [],
   "source": []
  },
  {
   "cell_type": "markdown",
   "metadata": {},
   "source": [
    "## 3.6 型強制"
   ]
  },
  {
   "cell_type": "code",
   "execution_count": 1,
   "metadata": {},
   "outputs": [
    {
     "data": {
      "text/html": [
       "2"
      ],
      "text/latex": [
       "2"
      ],
      "text/markdown": [
       "2"
      ],
      "text/plain": [
       "[1] 2"
      ]
     },
     "metadata": {},
     "output_type": "display_data"
    }
   ],
   "source": [
    "sum(c(T,T,F,F))"
   ]
  },
  {
   "cell_type": "markdown",
   "metadata": {},
   "source": [
    "as関数を使用することで、明示的にデータ型を変更することが可能です。"
   ]
  },
  {
   "cell_type": "code",
   "execution_count": 4,
   "metadata": {},
   "outputs": [
    {
     "data": {
      "text/html": [
       "'100'"
      ],
      "text/latex": [
       "'100'"
      ],
      "text/markdown": [
       "'100'"
      ],
      "text/plain": [
       "[1] \"100\""
      ]
     },
     "metadata": {},
     "output_type": "display_data"
    },
    {
     "data": {
      "text/html": [
       "TRUE"
      ],
      "text/latex": [
       "TRUE"
      ],
      "text/markdown": [
       "TRUE"
      ],
      "text/plain": [
       "[1] TRUE"
      ]
     },
     "metadata": {},
     "output_type": "display_data"
    },
    {
     "data": {
      "text/html": [
       "0"
      ],
      "text/latex": [
       "0"
      ],
      "text/markdown": [
       "0"
      ],
      "text/plain": [
       "[1] 0"
      ]
     },
     "metadata": {},
     "output_type": "display_data"
    }
   ],
   "source": [
    "as.character(100)\n",
    "as.logical(1)\n",
    "as.numeric(FALSE)"
   ]
  },
  {
   "cell_type": "markdown",
   "metadata": {},
   "source": [
    "## 3.7 リスト\n",
    "アトミックベクトルは単一のデータ型を扱うが、<br>\n",
    "リストは複数のデータをまとめることが可能である。"
   ]
  },
  {
   "cell_type": "code",
   "execution_count": 7,
   "metadata": {},
   "outputs": [
    {
     "name": "stdout",
     "output_type": "stream",
     "text": [
      "[[1]]\n",
      " [1] 100 101 102 103 104 105 106 107 108 109 110 111 112 113 114 115 116 117 118\n",
      "[20] 119 120 121 122 123 124 125 126 127 128 129 130\n",
      "\n",
      "[[2]]\n",
      "[1] \"R\"\n",
      "\n",
      "[[3]]\n",
      "[[3]][[1]]\n",
      "[1] TRUE\n",
      "\n",
      "[[3]][[2]]\n",
      "[1] FALSE\n",
      "\n",
      "\n"
     ]
    }
   ],
   "source": [
    "list1 <- list(100:130 ,\"R\",list(TRUE,FALSE))\n",
    "print(list1)"
   ]
  },
  {
   "cell_type": "markdown",
   "metadata": {},
   "source": [
    "***\n",
    "**練習問題**<br>\n",
    "リストを使用して、値1を持つハートのエースのようなトランプカードを格納してください。"
   ]
  },
  {
   "cell_type": "code",
   "execution_count": 10,
   "metadata": {},
   "outputs": [
    {
     "name": "stdout",
     "output_type": "stream",
     "text": [
      "[[1]]\n",
      "[1] \"ace\"\n",
      "\n",
      "[[2]]\n",
      "[1] \"hearts\"\n",
      "\n",
      "[[3]]\n",
      "[1] 1\n",
      "\n"
     ]
    }
   ],
   "source": [
    "card <- list(\"ace\" , \"hearts\", 1)\n",
    "print(card)"
   ]
  },
  {
   "cell_type": "markdown",
   "metadata": {},
   "source": [
    "## 3.8 データフレーム\n",
    "リストの２次元バージョン。<br>\n",
    "ベクトルの長さを同一にする必要があるため、注意。"
   ]
  },
  {
   "cell_type": "code",
   "execution_count": 11,
   "metadata": {
    "scrolled": true
   },
   "outputs": [
    {
     "data": {
      "text/html": [
       "<table>\n",
       "<thead><tr><th scope=col>face</th><th scope=col>suit</th><th scope=col>value</th></tr></thead>\n",
       "<tbody>\n",
       "\t<tr><td>ace  </td><td>clubs</td><td>1    </td></tr>\n",
       "\t<tr><td>tow  </td><td>clubs</td><td>2    </td></tr>\n",
       "\t<tr><td>six  </td><td>clubs</td><td>3    </td></tr>\n",
       "</tbody>\n",
       "</table>\n"
      ],
      "text/latex": [
       "\\begin{tabular}{r|lll}\n",
       " face & suit & value\\\\\n",
       "\\hline\n",
       "\t ace   & clubs & 1    \\\\\n",
       "\t tow   & clubs & 2    \\\\\n",
       "\t six   & clubs & 3    \\\\\n",
       "\\end{tabular}\n"
      ],
      "text/markdown": [
       "\n",
       "| face | suit | value |\n",
       "|---|---|---|\n",
       "| ace   | clubs | 1     |\n",
       "| tow   | clubs | 2     |\n",
       "| six   | clubs | 3     |\n",
       "\n"
      ],
      "text/plain": [
       "  face suit  value\n",
       "1 ace  clubs 1    \n",
       "2 tow  clubs 2    \n",
       "3 six  clubs 3    "
      ]
     },
     "metadata": {},
     "output_type": "display_data"
    }
   ],
   "source": [
    "df <- data.frame(face = c(\"ace\",\"tow\", \"six\"),\n",
    "                suit = c(\"clubs\",\"clubs\",\"clubs\"),\n",
    "                value = c(1,2,3))\n",
    "\n",
    "df"
   ]
  },
  {
   "cell_type": "code",
   "execution_count": 12,
   "metadata": {},
   "outputs": [
    {
     "data": {
      "text/html": [
       "'list'"
      ],
      "text/latex": [
       "'list'"
      ],
      "text/markdown": [
       "'list'"
      ],
      "text/plain": [
       "[1] \"list\""
      ]
     },
     "metadata": {},
     "output_type": "display_data"
    }
   ],
   "source": [
    "typeof(df)"
   ]
  },
  {
   "cell_type": "code",
   "execution_count": 13,
   "metadata": {},
   "outputs": [
    {
     "data": {
      "text/html": [
       "'data.frame'"
      ],
      "text/latex": [
       "'data.frame'"
      ],
      "text/markdown": [
       "'data.frame'"
      ],
      "text/plain": [
       "[1] \"data.frame\""
      ]
     },
     "metadata": {},
     "output_type": "display_data"
    }
   ],
   "source": [
    "class(df)"
   ]
  },
  {
   "cell_type": "code",
   "execution_count": 14,
   "metadata": {},
   "outputs": [
    {
     "name": "stdout",
     "output_type": "stream",
     "text": [
      "'data.frame':\t3 obs. of  3 variables:\n",
      " $ face : Factor w/ 3 levels \"ace\",\"six\",\"tow\": 1 3 2\n",
      " $ suit : Factor w/ 1 level \"clubs\": 1 1 1\n",
      " $ value: num  1 2 3\n"
     ]
    }
   ],
   "source": [
    "str(df)"
   ]
  },
  {
   "cell_type": "markdown",
   "metadata": {},
   "source": [
    "## 3.9 データのロード"
   ]
  },
  {
   "cell_type": "code",
   "execution_count": 16,
   "metadata": {
    "scrolled": true
   },
   "outputs": [
    {
     "data": {
      "text/html": [
       "<table>\n",
       "<thead><tr><th scope=col>face</th><th scope=col>suit</th><th scope=col>value</th></tr></thead>\n",
       "<tbody>\n",
       "\t<tr><td>king  </td><td>spades</td><td>13    </td></tr>\n",
       "\t<tr><td>queen </td><td>spades</td><td>12    </td></tr>\n",
       "\t<tr><td>jack  </td><td>spades</td><td>11    </td></tr>\n",
       "\t<tr><td>ten   </td><td>spades</td><td>10    </td></tr>\n",
       "\t<tr><td>nine  </td><td>spades</td><td> 9    </td></tr>\n",
       "\t<tr><td>eight </td><td>spades</td><td> 8    </td></tr>\n",
       "</tbody>\n",
       "</table>\n"
      ],
      "text/latex": [
       "\\begin{tabular}{r|lll}\n",
       " face & suit & value\\\\\n",
       "\\hline\n",
       "\t king   & spades & 13    \\\\\n",
       "\t queen  & spades & 12    \\\\\n",
       "\t jack   & spades & 11    \\\\\n",
       "\t ten    & spades & 10    \\\\\n",
       "\t nine   & spades &  9    \\\\\n",
       "\t eight  & spades &  8    \\\\\n",
       "\\end{tabular}\n"
      ],
      "text/markdown": [
       "\n",
       "| face | suit | value |\n",
       "|---|---|---|\n",
       "| king   | spades | 13     |\n",
       "| queen  | spades | 12     |\n",
       "| jack   | spades | 11     |\n",
       "| ten    | spades | 10     |\n",
       "| nine   | spades |  9     |\n",
       "| eight  | spades |  8     |\n",
       "\n"
      ],
      "text/plain": [
       "  face  suit   value\n",
       "1 king  spades 13   \n",
       "2 queen spades 12   \n",
       "3 jack  spades 11   \n",
       "4 ten   spades 10   \n",
       "5 nine  spades  9   \n",
       "6 eight spades  8   "
      ]
     },
     "metadata": {},
     "output_type": "display_data"
    }
   ],
   "source": [
    "deck <- read.csv(\"deck.csv\")\n",
    "head(deck)"
   ]
  },
  {
   "cell_type": "markdown",
   "metadata": {},
   "source": [
    "## 3.10 データの保存 "
   ]
  },
  {
   "cell_type": "code",
   "execution_count": 17,
   "metadata": {},
   "outputs": [],
   "source": [
    "write.csv(deck , file = \"cards.csv\" , row.names = FALSE)"
   ]
  }
 ],
 "metadata": {
  "kernelspec": {
   "display_name": "R",
   "language": "R",
   "name": "ir"
  },
  "language_info": {
   "codemirror_mode": "r",
   "file_extension": ".r",
   "mimetype": "text/x-r-source",
   "name": "R",
   "pygments_lexer": "r",
   "version": "3.5.1"
  }
 },
 "nbformat": 4,
 "nbformat_minor": 2
}
