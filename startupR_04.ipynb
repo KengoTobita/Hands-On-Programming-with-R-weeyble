{
 "cells": [
  {
   "cell_type": "markdown",
   "metadata": {},
   "source": [
    "# 第４章 Rの記法\n",
    "\n",
    "本章はデータフレームを使用するため、先に`deck.csv`を読み込んでおきます。"
   ]
  },
  {
   "cell_type": "code",
   "execution_count": 2,
   "metadata": {},
   "outputs": [
    {
     "data": {
      "text/html": [
       "<table>\n",
       "<thead><tr><th scope=col>face</th><th scope=col>suit</th><th scope=col>value</th></tr></thead>\n",
       "<tbody>\n",
       "\t<tr><td>king  </td><td>spades</td><td>13    </td></tr>\n",
       "\t<tr><td>queen </td><td>spades</td><td>12    </td></tr>\n",
       "\t<tr><td>jack  </td><td>spades</td><td>11    </td></tr>\n",
       "\t<tr><td>ten   </td><td>spades</td><td>10    </td></tr>\n",
       "\t<tr><td>nine  </td><td>spades</td><td> 9    </td></tr>\n",
       "\t<tr><td>eight </td><td>spades</td><td> 8    </td></tr>\n",
       "</tbody>\n",
       "</table>\n"
      ],
      "text/latex": [
       "\\begin{tabular}{r|lll}\n",
       " face & suit & value\\\\\n",
       "\\hline\n",
       "\t king   & spades & 13    \\\\\n",
       "\t queen  & spades & 12    \\\\\n",
       "\t jack   & spades & 11    \\\\\n",
       "\t ten    & spades & 10    \\\\\n",
       "\t nine   & spades &  9    \\\\\n",
       "\t eight  & spades &  8    \\\\\n",
       "\\end{tabular}\n"
      ],
      "text/markdown": [
       "\n",
       "| face | suit | value |\n",
       "|---|---|---|\n",
       "| king   | spades | 13     |\n",
       "| queen  | spades | 12     |\n",
       "| jack   | spades | 11     |\n",
       "| ten    | spades | 10     |\n",
       "| nine   | spades |  9     |\n",
       "| eight  | spades |  8     |\n",
       "\n"
      ],
      "text/plain": [
       "  face  suit   value\n",
       "1 king  spades 13   \n",
       "2 queen spades 12   \n",
       "3 jack  spades 11   \n",
       "4 ten   spades 10   \n",
       "5 nine  spades  9   \n",
       "6 eight spades  8   "
      ]
     },
     "metadata": {},
     "output_type": "display_data"
    }
   ],
   "source": [
    "deck <- read.csv(\"deck.csv\")\n",
    "head(deck)"
   ]
  },
  {
   "cell_type": "markdown",
   "metadata": {},
   "source": [
    "## 4.1 値の選択"
   ]
  },
  {
   "cell_type": "code",
   "execution_count": 5,
   "metadata": {
    "scrolled": true
   },
   "outputs": [
    {
     "data": {
      "text/html": [
       "<table>\n",
       "<thead><tr><th scope=col>face</th><th scope=col>suit</th><th scope=col>value</th></tr></thead>\n",
       "<tbody>\n",
       "\t<tr><td>king    </td><td>spades  </td><td>13      </td></tr>\n",
       "\t<tr><td>queen   </td><td>spades  </td><td>12      </td></tr>\n",
       "\t<tr><td>jack    </td><td>spades  </td><td>11      </td></tr>\n",
       "\t<tr><td>ten     </td><td>spades  </td><td>10      </td></tr>\n",
       "\t<tr><td>nine    </td><td>spades  </td><td> 9      </td></tr>\n",
       "\t<tr><td>eight   </td><td>spades  </td><td> 8      </td></tr>\n",
       "\t<tr><td>seven   </td><td>spades  </td><td> 7      </td></tr>\n",
       "\t<tr><td>six     </td><td>spades  </td><td> 6      </td></tr>\n",
       "\t<tr><td>five    </td><td>spades  </td><td> 5      </td></tr>\n",
       "\t<tr><td>four    </td><td>spades  </td><td> 4      </td></tr>\n",
       "\t<tr><td>three   </td><td>spades  </td><td> 3      </td></tr>\n",
       "\t<tr><td>two     </td><td>spades  </td><td> 2      </td></tr>\n",
       "\t<tr><td>ace     </td><td>spades  </td><td> 1      </td></tr>\n",
       "\t<tr><td>king    </td><td>clubs   </td><td>13      </td></tr>\n",
       "\t<tr><td>queen   </td><td>clubs   </td><td>12      </td></tr>\n",
       "\t<tr><td>jack    </td><td>clubs   </td><td>11      </td></tr>\n",
       "\t<tr><td>ten     </td><td>clubs   </td><td>10      </td></tr>\n",
       "\t<tr><td>nine    </td><td>clubs   </td><td> 9      </td></tr>\n",
       "\t<tr><td>eight   </td><td>clubs   </td><td> 8      </td></tr>\n",
       "\t<tr><td>seven   </td><td>clubs   </td><td> 7      </td></tr>\n",
       "\t<tr><td>six     </td><td>clubs   </td><td> 6      </td></tr>\n",
       "\t<tr><td>five    </td><td>clubs   </td><td> 5      </td></tr>\n",
       "\t<tr><td>four    </td><td>clubs   </td><td> 4      </td></tr>\n",
       "\t<tr><td>three   </td><td>clubs   </td><td> 3      </td></tr>\n",
       "\t<tr><td>two     </td><td>clubs   </td><td> 2      </td></tr>\n",
       "\t<tr><td>ace     </td><td>clubs   </td><td> 1      </td></tr>\n",
       "\t<tr><td>king    </td><td>diamonds</td><td>13      </td></tr>\n",
       "\t<tr><td>queen   </td><td>diamonds</td><td>12      </td></tr>\n",
       "\t<tr><td>jack    </td><td>diamonds</td><td>11      </td></tr>\n",
       "\t<tr><td>ten     </td><td>diamonds</td><td>10      </td></tr>\n",
       "\t<tr><td>nine    </td><td>diamonds</td><td> 9      </td></tr>\n",
       "\t<tr><td>eight   </td><td>diamonds</td><td> 8      </td></tr>\n",
       "\t<tr><td>seven   </td><td>diamonds</td><td> 7      </td></tr>\n",
       "\t<tr><td>six     </td><td>diamonds</td><td> 6      </td></tr>\n",
       "\t<tr><td>five    </td><td>diamonds</td><td> 5      </td></tr>\n",
       "\t<tr><td>four    </td><td>diamonds</td><td> 4      </td></tr>\n",
       "\t<tr><td>three   </td><td>diamonds</td><td> 3      </td></tr>\n",
       "\t<tr><td>two     </td><td>diamonds</td><td> 2      </td></tr>\n",
       "\t<tr><td>ace     </td><td>diamonds</td><td> 1      </td></tr>\n",
       "\t<tr><td>king    </td><td>hearts  </td><td>13      </td></tr>\n",
       "\t<tr><td>queen   </td><td>hearts  </td><td>12      </td></tr>\n",
       "\t<tr><td>jack    </td><td>hearts  </td><td>11      </td></tr>\n",
       "\t<tr><td>ten     </td><td>hearts  </td><td>10      </td></tr>\n",
       "\t<tr><td>nine    </td><td>hearts  </td><td> 9      </td></tr>\n",
       "\t<tr><td>eight   </td><td>hearts  </td><td> 8      </td></tr>\n",
       "\t<tr><td>seven   </td><td>hearts  </td><td> 7      </td></tr>\n",
       "\t<tr><td>six     </td><td>hearts  </td><td> 6      </td></tr>\n",
       "\t<tr><td>five    </td><td>hearts  </td><td> 5      </td></tr>\n",
       "\t<tr><td>four    </td><td>hearts  </td><td> 4      </td></tr>\n",
       "\t<tr><td>three   </td><td>hearts  </td><td> 3      </td></tr>\n",
       "\t<tr><td>two     </td><td>hearts  </td><td> 2      </td></tr>\n",
       "\t<tr><td>ace     </td><td>hearts  </td><td> 1      </td></tr>\n",
       "</tbody>\n",
       "</table>\n"
      ],
      "text/latex": [
       "\\begin{tabular}{r|lll}\n",
       " face & suit & value\\\\\n",
       "\\hline\n",
       "\t king     & spades   & 13      \\\\\n",
       "\t queen    & spades   & 12      \\\\\n",
       "\t jack     & spades   & 11      \\\\\n",
       "\t ten      & spades   & 10      \\\\\n",
       "\t nine     & spades   &  9      \\\\\n",
       "\t eight    & spades   &  8      \\\\\n",
       "\t seven    & spades   &  7      \\\\\n",
       "\t six      & spades   &  6      \\\\\n",
       "\t five     & spades   &  5      \\\\\n",
       "\t four     & spades   &  4      \\\\\n",
       "\t three    & spades   &  3      \\\\\n",
       "\t two      & spades   &  2      \\\\\n",
       "\t ace      & spades   &  1      \\\\\n",
       "\t king     & clubs    & 13      \\\\\n",
       "\t queen    & clubs    & 12      \\\\\n",
       "\t jack     & clubs    & 11      \\\\\n",
       "\t ten      & clubs    & 10      \\\\\n",
       "\t nine     & clubs    &  9      \\\\\n",
       "\t eight    & clubs    &  8      \\\\\n",
       "\t seven    & clubs    &  7      \\\\\n",
       "\t six      & clubs    &  6      \\\\\n",
       "\t five     & clubs    &  5      \\\\\n",
       "\t four     & clubs    &  4      \\\\\n",
       "\t three    & clubs    &  3      \\\\\n",
       "\t two      & clubs    &  2      \\\\\n",
       "\t ace      & clubs    &  1      \\\\\n",
       "\t king     & diamonds & 13      \\\\\n",
       "\t queen    & diamonds & 12      \\\\\n",
       "\t jack     & diamonds & 11      \\\\\n",
       "\t ten      & diamonds & 10      \\\\\n",
       "\t nine     & diamonds &  9      \\\\\n",
       "\t eight    & diamonds &  8      \\\\\n",
       "\t seven    & diamonds &  7      \\\\\n",
       "\t six      & diamonds &  6      \\\\\n",
       "\t five     & diamonds &  5      \\\\\n",
       "\t four     & diamonds &  4      \\\\\n",
       "\t three    & diamonds &  3      \\\\\n",
       "\t two      & diamonds &  2      \\\\\n",
       "\t ace      & diamonds &  1      \\\\\n",
       "\t king     & hearts   & 13      \\\\\n",
       "\t queen    & hearts   & 12      \\\\\n",
       "\t jack     & hearts   & 11      \\\\\n",
       "\t ten      & hearts   & 10      \\\\\n",
       "\t nine     & hearts   &  9      \\\\\n",
       "\t eight    & hearts   &  8      \\\\\n",
       "\t seven    & hearts   &  7      \\\\\n",
       "\t six      & hearts   &  6      \\\\\n",
       "\t five     & hearts   &  5      \\\\\n",
       "\t four     & hearts   &  4      \\\\\n",
       "\t three    & hearts   &  3      \\\\\n",
       "\t two      & hearts   &  2      \\\\\n",
       "\t ace      & hearts   &  1      \\\\\n",
       "\\end{tabular}\n"
      ],
      "text/markdown": [
       "\n",
       "| face | suit | value |\n",
       "|---|---|---|\n",
       "| king     | spades   | 13       |\n",
       "| queen    | spades   | 12       |\n",
       "| jack     | spades   | 11       |\n",
       "| ten      | spades   | 10       |\n",
       "| nine     | spades   |  9       |\n",
       "| eight    | spades   |  8       |\n",
       "| seven    | spades   |  7       |\n",
       "| six      | spades   |  6       |\n",
       "| five     | spades   |  5       |\n",
       "| four     | spades   |  4       |\n",
       "| three    | spades   |  3       |\n",
       "| two      | spades   |  2       |\n",
       "| ace      | spades   |  1       |\n",
       "| king     | clubs    | 13       |\n",
       "| queen    | clubs    | 12       |\n",
       "| jack     | clubs    | 11       |\n",
       "| ten      | clubs    | 10       |\n",
       "| nine     | clubs    |  9       |\n",
       "| eight    | clubs    |  8       |\n",
       "| seven    | clubs    |  7       |\n",
       "| six      | clubs    |  6       |\n",
       "| five     | clubs    |  5       |\n",
       "| four     | clubs    |  4       |\n",
       "| three    | clubs    |  3       |\n",
       "| two      | clubs    |  2       |\n",
       "| ace      | clubs    |  1       |\n",
       "| king     | diamonds | 13       |\n",
       "| queen    | diamonds | 12       |\n",
       "| jack     | diamonds | 11       |\n",
       "| ten      | diamonds | 10       |\n",
       "| nine     | diamonds |  9       |\n",
       "| eight    | diamonds |  8       |\n",
       "| seven    | diamonds |  7       |\n",
       "| six      | diamonds |  6       |\n",
       "| five     | diamonds |  5       |\n",
       "| four     | diamonds |  4       |\n",
       "| three    | diamonds |  3       |\n",
       "| two      | diamonds |  2       |\n",
       "| ace      | diamonds |  1       |\n",
       "| king     | hearts   | 13       |\n",
       "| queen    | hearts   | 12       |\n",
       "| jack     | hearts   | 11       |\n",
       "| ten      | hearts   | 10       |\n",
       "| nine     | hearts   |  9       |\n",
       "| eight    | hearts   |  8       |\n",
       "| seven    | hearts   |  7       |\n",
       "| six      | hearts   |  6       |\n",
       "| five     | hearts   |  5       |\n",
       "| four     | hearts   |  4       |\n",
       "| three    | hearts   |  3       |\n",
       "| two      | hearts   |  2       |\n",
       "| ace      | hearts   |  1       |\n",
       "\n"
      ],
      "text/plain": [
       "   face  suit     value\n",
       "1  king  spades   13   \n",
       "2  queen spades   12   \n",
       "3  jack  spades   11   \n",
       "4  ten   spades   10   \n",
       "5  nine  spades    9   \n",
       "6  eight spades    8   \n",
       "7  seven spades    7   \n",
       "8  six   spades    6   \n",
       "9  five  spades    5   \n",
       "10 four  spades    4   \n",
       "11 three spades    3   \n",
       "12 two   spades    2   \n",
       "13 ace   spades    1   \n",
       "14 king  clubs    13   \n",
       "15 queen clubs    12   \n",
       "16 jack  clubs    11   \n",
       "17 ten   clubs    10   \n",
       "18 nine  clubs     9   \n",
       "19 eight clubs     8   \n",
       "20 seven clubs     7   \n",
       "21 six   clubs     6   \n",
       "22 five  clubs     5   \n",
       "23 four  clubs     4   \n",
       "24 three clubs     3   \n",
       "25 two   clubs     2   \n",
       "26 ace   clubs     1   \n",
       "27 king  diamonds 13   \n",
       "28 queen diamonds 12   \n",
       "29 jack  diamonds 11   \n",
       "30 ten   diamonds 10   \n",
       "31 nine  diamonds  9   \n",
       "32 eight diamonds  8   \n",
       "33 seven diamonds  7   \n",
       "34 six   diamonds  6   \n",
       "35 five  diamonds  5   \n",
       "36 four  diamonds  4   \n",
       "37 three diamonds  3   \n",
       "38 two   diamonds  2   \n",
       "39 ace   diamonds  1   \n",
       "40 king  hearts   13   \n",
       "41 queen hearts   12   \n",
       "42 jack  hearts   11   \n",
       "43 ten   hearts   10   \n",
       "44 nine  hearts    9   \n",
       "45 eight hearts    8   \n",
       "46 seven hearts    7   \n",
       "47 six   hearts    6   \n",
       "48 five  hearts    5   \n",
       "49 four  hearts    4   \n",
       "50 three hearts    3   \n",
       "51 two   hearts    2   \n",
       "52 ace   hearts    1   "
      ]
     },
     "metadata": {},
     "output_type": "display_data"
    }
   ],
   "source": [
    "deck[,]"
   ]
  },
  {
   "cell_type": "markdown",
   "metadata": {},
   "source": [
    "### 4.1.1 正の整数"
   ]
  },
  {
   "cell_type": "code",
   "execution_count": 4,
   "metadata": {},
   "outputs": [
    {
     "data": {
      "text/html": [
       "king\n",
       "<details>\n",
       "\t<summary style=display:list-item;cursor:pointer>\n",
       "\t\t<strong>Levels</strong>:\n",
       "\t</summary>\n",
       "\t<ol class=list-inline>\n",
       "\t\t<li>'ace'</li>\n",
       "\t\t<li>'eight'</li>\n",
       "\t\t<li>'five'</li>\n",
       "\t\t<li>'four'</li>\n",
       "\t\t<li>'jack'</li>\n",
       "\t\t<li>'king'</li>\n",
       "\t\t<li>'nine'</li>\n",
       "\t\t<li>'queen'</li>\n",
       "\t\t<li>'seven'</li>\n",
       "\t\t<li>'six'</li>\n",
       "\t\t<li>'ten'</li>\n",
       "\t\t<li>'three'</li>\n",
       "\t\t<li>'two'</li>\n",
       "\t</ol>\n",
       "</details>"
      ],
      "text/latex": [
       "king\n",
       "\\emph{Levels}: \\begin{enumerate*}\n",
       "\\item 'ace'\n",
       "\\item 'eight'\n",
       "\\item 'five'\n",
       "\\item 'four'\n",
       "\\item 'jack'\n",
       "\\item 'king'\n",
       "\\item 'nine'\n",
       "\\item 'queen'\n",
       "\\item 'seven'\n",
       "\\item 'six'\n",
       "\\item 'ten'\n",
       "\\item 'three'\n",
       "\\item 'two'\n",
       "\\end{enumerate*}\n"
      ],
      "text/markdown": [
       "king\n",
       "**Levels**: 1. 'ace'\n",
       "2. 'eight'\n",
       "3. 'five'\n",
       "4. 'four'\n",
       "5. 'jack'\n",
       "6. 'king'\n",
       "7. 'nine'\n",
       "8. 'queen'\n",
       "9. 'seven'\n",
       "10. 'six'\n",
       "11. 'ten'\n",
       "12. 'three'\n",
       "13. 'two'\n",
       "\n",
       "\n"
      ],
      "text/plain": [
       "[1] king\n",
       "Levels: ace eight five four jack king nine queen seven six ten three two"
      ]
     },
     "metadata": {},
     "output_type": "display_data"
    }
   ],
   "source": [
    "deck[1,1]"
   ]
  },
  {
   "cell_type": "markdown",
   "metadata": {},
   "source": [
    "複数のcolumの選択"
   ]
  },
  {
   "cell_type": "code",
   "execution_count": 7,
   "metadata": {
    "scrolled": false
   },
   "outputs": [
    {
     "data": {
      "text/html": [
       "<table>\n",
       "<thead><tr><th scope=col>face</th><th scope=col>value</th></tr></thead>\n",
       "<tbody>\n",
       "\t<tr><td>king</td><td>13  </td></tr>\n",
       "</tbody>\n",
       "</table>\n"
      ],
      "text/latex": [
       "\\begin{tabular}{r|ll}\n",
       " face & value\\\\\n",
       "\\hline\n",
       "\t king & 13  \\\\\n",
       "\\end{tabular}\n"
      ],
      "text/markdown": [
       "\n",
       "| face | value |\n",
       "|---|---|\n",
       "| king | 13   |\n",
       "\n"
      ],
      "text/plain": [
       "  face value\n",
       "1 king 13   "
      ]
     },
     "metadata": {},
     "output_type": "display_data"
    }
   ],
   "source": [
    "deck[1,c(1,3)]"
   ]
  },
  {
   "cell_type": "markdown",
   "metadata": {},
   "source": [
    "同一の値を繰り返す"
   ]
  },
  {
   "cell_type": "code",
   "execution_count": 11,
   "metadata": {},
   "outputs": [
    {
     "data": {
      "text/html": [
       "<ol class=list-inline>\n",
       "\t<li>spades</li>\n",
       "\t<li>spades</li>\n",
       "\t<li>spades</li>\n",
       "</ol>\n",
       "\n",
       "<details>\n",
       "\t<summary style=display:list-item;cursor:pointer>\n",
       "\t\t<strong>Levels</strong>:\n",
       "\t</summary>\n",
       "\t<ol class=list-inline>\n",
       "\t\t<li>'clubs'</li>\n",
       "\t\t<li>'diamonds'</li>\n",
       "\t\t<li>'hearts'</li>\n",
       "\t\t<li>'spades'</li>\n",
       "\t</ol>\n",
       "</details>"
      ],
      "text/latex": [
       "\\begin{enumerate*}\n",
       "\\item spades\n",
       "\\item spades\n",
       "\\item spades\n",
       "\\end{enumerate*}\n",
       "\n",
       "\\emph{Levels}: \\begin{enumerate*}\n",
       "\\item 'clubs'\n",
       "\\item 'diamonds'\n",
       "\\item 'hearts'\n",
       "\\item 'spades'\n",
       "\\end{enumerate*}\n"
      ],
      "text/markdown": [
       "1. spades\n",
       "2. spades\n",
       "3. spades\n",
       "\n",
       "\n",
       "\n",
       "**Levels**: 1. 'clubs'\n",
       "2. 'diamonds'\n",
       "3. 'hearts'\n",
       "4. 'spades'\n",
       "\n",
       "\n"
      ],
      "text/plain": [
       "[1] spades spades spades\n",
       "Levels: clubs diamonds hearts spades"
      ]
     },
     "metadata": {},
     "output_type": "display_data"
    }
   ],
   "source": [
    "deck[c(1,1,1),2]"
   ]
  },
  {
   "cell_type": "markdown",
   "metadata": {},
   "source": [
    "変数の中に格納することも可能"
   ]
  },
  {
   "cell_type": "code",
   "execution_count": 10,
   "metadata": {},
   "outputs": [
    {
     "data": {
      "text/html": [
       "<table>\n",
       "<thead><tr><th scope=col>face</th><th scope=col>value</th></tr></thead>\n",
       "<tbody>\n",
       "\t<tr><td>king</td><td>13  </td></tr>\n",
       "</tbody>\n",
       "</table>\n"
      ],
      "text/latex": [
       "\\begin{tabular}{r|ll}\n",
       " face & value\\\\\n",
       "\\hline\n",
       "\t king & 13  \\\\\n",
       "\\end{tabular}\n"
      ],
      "text/markdown": [
       "\n",
       "| face | value |\n",
       "|---|---|\n",
       "| king | 13   |\n",
       "\n"
      ],
      "text/plain": [
       "  face value\n",
       "1 king 13   "
      ]
     },
     "metadata": {},
     "output_type": "display_data"
    }
   ],
   "source": [
    "new <- deck[1,c(1,3)]\n",
    "new"
   ]
  },
  {
   "cell_type": "markdown",
   "metadata": {},
   "source": [
    "` : `の使用で範囲指定をすることができる。"
   ]
  },
  {
   "cell_type": "code",
   "execution_count": 13,
   "metadata": {},
   "outputs": [
    {
     "data": {
      "text/html": [
       "<table>\n",
       "<thead><tr><th scope=col>suit</th><th scope=col>value</th></tr></thead>\n",
       "<tbody>\n",
       "\t<tr><td>spades</td><td>13    </td></tr>\n",
       "\t<tr><td>spades</td><td>12    </td></tr>\n",
       "</tbody>\n",
       "</table>\n"
      ],
      "text/latex": [
       "\\begin{tabular}{r|ll}\n",
       " suit & value\\\\\n",
       "\\hline\n",
       "\t spades & 13    \\\\\n",
       "\t spades & 12    \\\\\n",
       "\\end{tabular}\n"
      ],
      "text/markdown": [
       "\n",
       "| suit | value |\n",
       "|---|---|\n",
       "| spades | 13     |\n",
       "| spades | 12     |\n",
       "\n"
      ],
      "text/plain": [
       "  suit   value\n",
       "1 spades 13   \n",
       "2 spades 12   "
      ]
     },
     "metadata": {},
     "output_type": "display_data"
    }
   ],
   "source": [
    "deck [1:2,2:3]"
   ]
  },
  {
   "cell_type": "markdown",
   "metadata": {},
   "source": [
    "### 4.1.2 負の整数\n",
    "負の整数は**選択した添字以外**を指定する。<br>"
   ]
  },
  {
   "cell_type": "code",
   "execution_count": 16,
   "metadata": {
    "scrolled": true
   },
   "outputs": [
    {
     "data": {
      "text/html": [
       "<table>\n",
       "<thead><tr><th scope=col>face</th><th scope=col>suit</th><th scope=col>value</th></tr></thead>\n",
       "<tbody>\n",
       "\t<tr><td>king  </td><td>spades</td><td>13    </td></tr>\n",
       "</tbody>\n",
       "</table>\n"
      ],
      "text/latex": [
       "\\begin{tabular}{r|lll}\n",
       " face & suit & value\\\\\n",
       "\\hline\n",
       "\t king   & spades & 13    \\\\\n",
       "\\end{tabular}\n"
      ],
      "text/markdown": [
       "\n",
       "| face | suit | value |\n",
       "|---|---|---|\n",
       "| king   | spades | 13     |\n",
       "\n"
      ],
      "text/plain": [
       "  face suit   value\n",
       "1 king spades 13   "
      ]
     },
     "metadata": {},
     "output_type": "display_data"
    }
   ],
   "source": [
    "deck[-(2:52),]"
   ]
  },
  {
   "cell_type": "markdown",
   "metadata": {},
   "source": [
    "負の整数と正の整数を同時に使用することはできません"
   ]
  },
  {
   "cell_type": "code",
   "execution_count": 17,
   "metadata": {},
   "outputs": [
    {
     "ename": "ERROR",
     "evalue": "Error in deck(c(-1, 1), 1): could not find function \"deck\"\n",
     "output_type": "error",
     "traceback": [
      "Error in deck(c(-1, 1), 1): could not find function \"deck\"\nTraceback:\n"
     ]
    }
   ],
   "source": [
    "deck <- deck(c(-1,1),1)"
   ]
  },
  {
   "cell_type": "markdown",
   "metadata": {},
   "source": [
    "### 4.1.3 ゼロ\n",
    "使用可能ではあるが、使う場合は少ない。<br>\n",
    "ゼロを添字として使用した次元からは、何も帰ってこない。"
   ]
  },
  {
   "cell_type": "code",
   "execution_count": 18,
   "metadata": {},
   "outputs": [
    {
     "data": {
      "text/html": [],
      "text/latex": [],
      "text/markdown": [],
      "text/plain": [
       "<0 x 0 matrix>"
      ]
     },
     "metadata": {},
     "output_type": "display_data"
    }
   ],
   "source": [
    "deck[0,0]"
   ]
  },
  {
   "cell_type": "markdown",
   "metadata": {},
   "source": [
    "### 4.1.4 スペース\n",
    "スペースを添字として使用した次元は、全ての値を抽出します。"
   ]
  },
  {
   "cell_type": "code",
   "execution_count": 19,
   "metadata": {},
   "outputs": [
    {
     "data": {
      "text/html": [
       "<table>\n",
       "<thead><tr><th scope=col>face</th><th scope=col>suit</th><th scope=col>value</th></tr></thead>\n",
       "<tbody>\n",
       "\t<tr><td>king  </td><td>spades</td><td>13    </td></tr>\n",
       "</tbody>\n",
       "</table>\n"
      ],
      "text/latex": [
       "\\begin{tabular}{r|lll}\n",
       " face & suit & value\\\\\n",
       "\\hline\n",
       "\t king   & spades & 13    \\\\\n",
       "\\end{tabular}\n"
      ],
      "text/markdown": [
       "\n",
       "| face | suit | value |\n",
       "|---|---|---|\n",
       "| king   | spades | 13     |\n",
       "\n"
      ],
      "text/plain": [
       "  face suit   value\n",
       "1 king spades 13   "
      ]
     },
     "metadata": {},
     "output_type": "display_data"
    }
   ],
   "source": [
    "deck[1, ]"
   ]
  },
  {
   "cell_type": "markdown",
   "metadata": {},
   "source": [
    "### 4.1.5 論理値\n",
    "添字として論理値を指定した場合、TRUEの物のみを抽出します。"
   ]
  },
  {
   "cell_type": "code",
   "execution_count": 22,
   "metadata": {
    "scrolled": true
   },
   "outputs": [
    {
     "data": {
      "text/html": [
       "<table>\n",
       "<thead><tr><th></th><th scope=col>face</th><th scope=col>suit</th><th scope=col>value</th></tr></thead>\n",
       "<tbody>\n",
       "\t<tr><th scope=row>1</th><td>king  </td><td>spades</td><td>13    </td></tr>\n",
       "\t<tr><th scope=row>52</th><td>ace   </td><td>hearts</td><td> 1    </td></tr>\n",
       "</tbody>\n",
       "</table>\n"
      ],
      "text/latex": [
       "\\begin{tabular}{r|lll}\n",
       "  & face & suit & value\\\\\n",
       "\\hline\n",
       "\t1 & king   & spades & 13    \\\\\n",
       "\t52 & ace    & hearts &  1    \\\\\n",
       "\\end{tabular}\n"
      ],
      "text/markdown": [
       "\n",
       "| <!--/--> | face | suit | value |\n",
       "|---|---|---|---|\n",
       "| 1 | king   | spades | 13     |\n",
       "| 52 | ace    | hearts |  1     |\n",
       "\n"
      ],
      "text/plain": [
       "   face suit   value\n",
       "1  king spades 13   \n",
       "52 ace  hearts  1   "
      ]
     },
     "metadata": {},
     "output_type": "display_data"
    }
   ],
   "source": [
    "rows <- c(TRUE,rep(F,50))\n",
    "\n",
    "deck[rows, ]"
   ]
  },
  {
   "cell_type": "markdown",
   "metadata": {},
   "source": [
    "### 4.1.6 名前\n",
    "オブジェクトが名前を持っている場合は、名前を使用して抽出することができます。"
   ]
  },
  {
   "cell_type": "code",
   "execution_count": 25,
   "metadata": {
    "scrolled": true
   },
   "outputs": [
    {
     "data": {
      "text/html": [
       "<table>\n",
       "<thead><tr><th scope=col>face</th><th scope=col>suit</th><th scope=col>value</th></tr></thead>\n",
       "<tbody>\n",
       "\t<tr><td>king  </td><td>spades</td><td>13    </td></tr>\n",
       "</tbody>\n",
       "</table>\n"
      ],
      "text/latex": [
       "\\begin{tabular}{r|lll}\n",
       " face & suit & value\\\\\n",
       "\\hline\n",
       "\t king   & spades & 13    \\\\\n",
       "\\end{tabular}\n"
      ],
      "text/markdown": [
       "\n",
       "| face | suit | value |\n",
       "|---|---|---|\n",
       "| king   | spades | 13     |\n",
       "\n"
      ],
      "text/plain": [
       "  face suit   value\n",
       "1 king spades 13   "
      ]
     },
     "metadata": {},
     "output_type": "display_data"
    }
   ],
   "source": [
    "deck[ 1,c(\"face\",\"suit\",\"value\")]"
   ]
  },
  {
   "cell_type": "code",
   "execution_count": 28,
   "metadata": {},
   "outputs": [
    {
     "name": "stdout",
     "output_type": "stream",
     "text": [
      " [1] spades   spades   spades   spades   spades   spades   spades   spades  \n",
      " [9] spades   spades   spades   spades   spades   clubs    clubs    clubs   \n",
      "[17] clubs    clubs    clubs    clubs    clubs    clubs    clubs    clubs   \n",
      "[25] clubs    clubs    diamonds diamonds diamonds diamonds diamonds diamonds\n",
      "[33] diamonds diamonds diamonds diamonds diamonds diamonds diamonds hearts  \n",
      "[41] hearts   hearts   hearts   hearts   hearts   hearts   hearts   hearts  \n",
      "[49] hearts   hearts   hearts   hearts  \n",
      "Levels: clubs diamonds hearts spades\n"
     ]
    }
   ],
   "source": [
    "print(deck[  ,\"suit\"])"
   ]
  },
  {
   "cell_type": "markdown",
   "metadata": {},
   "source": [
    "## 4.2 カードのディール"
   ]
  },
  {
   "cell_type": "markdown",
   "metadata": {},
   "source": [
    "***\n",
    "**練習問題**<br>\n",
    "deckの最初のカードを返す関数を書いてください。"
   ]
  },
  {
   "cell_type": "code",
   "execution_count": null,
   "metadata": {},
   "outputs": [],
   "source": [
    "deal <- function(cards){\n",
    "    cards[1,]\n",
    "}"
   ]
  },
  {
   "cell_type": "markdown",
   "metadata": {},
   "source": [
    "## 4.3 デッキのシャッフル\n",
    "本物のカードはカードの順番をランダムに変えます。<br>\n",
    "データフレームを活用してシャッフルしましょう。"
   ]
  },
  {
   "cell_type": "code",
   "execution_count": 29,
   "metadata": {},
   "outputs": [
    {
     "data": {
      "text/html": [
       "<table>\n",
       "<thead><tr><th scope=col>face</th><th scope=col>suit</th><th scope=col>value</th></tr></thead>\n",
       "<tbody>\n",
       "\t<tr><td>king  </td><td>spades</td><td>13    </td></tr>\n",
       "\t<tr><td>queen </td><td>spades</td><td>12    </td></tr>\n",
       "\t<tr><td>jack  </td><td>spades</td><td>11    </td></tr>\n",
       "\t<tr><td>ten   </td><td>spades</td><td>10    </td></tr>\n",
       "\t<tr><td>nine  </td><td>spades</td><td> 9    </td></tr>\n",
       "\t<tr><td>eight </td><td>spades</td><td> 8    </td></tr>\n",
       "</tbody>\n",
       "</table>\n"
      ],
      "text/latex": [
       "\\begin{tabular}{r|lll}\n",
       " face & suit & value\\\\\n",
       "\\hline\n",
       "\t king   & spades & 13    \\\\\n",
       "\t queen  & spades & 12    \\\\\n",
       "\t jack   & spades & 11    \\\\\n",
       "\t ten    & spades & 10    \\\\\n",
       "\t nine   & spades &  9    \\\\\n",
       "\t eight  & spades &  8    \\\\\n",
       "\\end{tabular}\n"
      ],
      "text/markdown": [
       "\n",
       "| face | suit | value |\n",
       "|---|---|---|\n",
       "| king   | spades | 13     |\n",
       "| queen  | spades | 12     |\n",
       "| jack   | spades | 11     |\n",
       "| ten    | spades | 10     |\n",
       "| nine   | spades |  9     |\n",
       "| eight  | spades |  8     |\n",
       "\n"
      ],
      "text/plain": [
       "  face  suit   value\n",
       "1 king  spades 13   \n",
       "2 queen spades 12   \n",
       "3 jack  spades 11   \n",
       "4 ten   spades 10   \n",
       "5 nine  spades  9   \n",
       "6 eight spades  8   "
      ]
     },
     "metadata": {},
     "output_type": "display_data"
    }
   ],
   "source": [
    "deck2 <- deck[1:52, ]\n",
    "head(deck2)"
   ]
  },
  {
   "cell_type": "code",
   "execution_count": 31,
   "metadata": {},
   "outputs": [
    {
     "data": {
      "text/html": [
       "<table>\n",
       "<thead><tr><th></th><th scope=col>face</th><th scope=col>suit</th><th scope=col>value</th></tr></thead>\n",
       "<tbody>\n",
       "\t<tr><th scope=row>2</th><td>queen </td><td>spades</td><td>12    </td></tr>\n",
       "\t<tr><th scope=row>1</th><td>king  </td><td>spades</td><td>13    </td></tr>\n",
       "\t<tr><th scope=row>3</th><td>jack  </td><td>spades</td><td>11    </td></tr>\n",
       "\t<tr><th scope=row>4</th><td>ten   </td><td>spades</td><td>10    </td></tr>\n",
       "\t<tr><th scope=row>5</th><td>nine  </td><td>spades</td><td> 9    </td></tr>\n",
       "\t<tr><th scope=row>6</th><td>eight </td><td>spades</td><td> 8    </td></tr>\n",
       "</tbody>\n",
       "</table>\n"
      ],
      "text/latex": [
       "\\begin{tabular}{r|lll}\n",
       "  & face & suit & value\\\\\n",
       "\\hline\n",
       "\t2 & queen  & spades & 12    \\\\\n",
       "\t1 & king   & spades & 13    \\\\\n",
       "\t3 & jack   & spades & 11    \\\\\n",
       "\t4 & ten    & spades & 10    \\\\\n",
       "\t5 & nine   & spades &  9    \\\\\n",
       "\t6 & eight  & spades &  8    \\\\\n",
       "\\end{tabular}\n"
      ],
      "text/markdown": [
       "\n",
       "| <!--/--> | face | suit | value |\n",
       "|---|---|---|---|\n",
       "| 2 | queen  | spades | 12     |\n",
       "| 1 | king   | spades | 13     |\n",
       "| 3 | jack   | spades | 11     |\n",
       "| 4 | ten    | spades | 10     |\n",
       "| 5 | nine   | spades |  9     |\n",
       "| 6 | eight  | spades |  8     |\n",
       "\n"
      ],
      "text/plain": [
       "  face  suit   value\n",
       "2 queen spades 12   \n",
       "1 king  spades 13   \n",
       "3 jack  spades 11   \n",
       "4 ten   spades 10   \n",
       "5 nine  spades  9   \n",
       "6 eight spades  8   "
      ]
     },
     "metadata": {},
     "output_type": "display_data"
    }
   ],
   "source": [
    "deck3 <- deck[c(2,1,3:52), ]\n",
    "head(deck3)"
   ]
  },
  {
   "cell_type": "code",
   "execution_count": 35,
   "metadata": {},
   "outputs": [
    {
     "data": {
      "text/html": [
       "<ol class=list-inline>\n",
       "\t<li>8</li>\n",
       "\t<li>4</li>\n",
       "\t<li>23</li>\n",
       "\t<li>27</li>\n",
       "\t<li>48</li>\n",
       "\t<li>16</li>\n",
       "\t<li>40</li>\n",
       "\t<li>39</li>\n",
       "\t<li>43</li>\n",
       "\t<li>19</li>\n",
       "\t<li>7</li>\n",
       "\t<li>29</li>\n",
       "\t<li>12</li>\n",
       "\t<li>45</li>\n",
       "\t<li>6</li>\n",
       "\t<li>42</li>\n",
       "\t<li>49</li>\n",
       "\t<li>13</li>\n",
       "\t<li>10</li>\n",
       "\t<li>24</li>\n",
       "\t<li>35</li>\n",
       "\t<li>2</li>\n",
       "\t<li>18</li>\n",
       "\t<li>28</li>\n",
       "\t<li>50</li>\n",
       "\t<li>37</li>\n",
       "\t<li>11</li>\n",
       "\t<li>34</li>\n",
       "\t<li>1</li>\n",
       "\t<li>52</li>\n",
       "\t<li>44</li>\n",
       "\t<li>41</li>\n",
       "\t<li>21</li>\n",
       "\t<li>5</li>\n",
       "\t<li>46</li>\n",
       "\t<li>25</li>\n",
       "\t<li>9</li>\n",
       "\t<li>20</li>\n",
       "\t<li>51</li>\n",
       "\t<li>36</li>\n",
       "\t<li>32</li>\n",
       "\t<li>22</li>\n",
       "\t<li>17</li>\n",
       "\t<li>3</li>\n",
       "\t<li>14</li>\n",
       "\t<li>33</li>\n",
       "\t<li>31</li>\n",
       "\t<li>30</li>\n",
       "\t<li>26</li>\n",
       "\t<li>47</li>\n",
       "\t<li>38</li>\n",
       "\t<li>15</li>\n",
       "</ol>\n"
      ],
      "text/latex": [
       "\\begin{enumerate*}\n",
       "\\item 8\n",
       "\\item 4\n",
       "\\item 23\n",
       "\\item 27\n",
       "\\item 48\n",
       "\\item 16\n",
       "\\item 40\n",
       "\\item 39\n",
       "\\item 43\n",
       "\\item 19\n",
       "\\item 7\n",
       "\\item 29\n",
       "\\item 12\n",
       "\\item 45\n",
       "\\item 6\n",
       "\\item 42\n",
       "\\item 49\n",
       "\\item 13\n",
       "\\item 10\n",
       "\\item 24\n",
       "\\item 35\n",
       "\\item 2\n",
       "\\item 18\n",
       "\\item 28\n",
       "\\item 50\n",
       "\\item 37\n",
       "\\item 11\n",
       "\\item 34\n",
       "\\item 1\n",
       "\\item 52\n",
       "\\item 44\n",
       "\\item 41\n",
       "\\item 21\n",
       "\\item 5\n",
       "\\item 46\n",
       "\\item 25\n",
       "\\item 9\n",
       "\\item 20\n",
       "\\item 51\n",
       "\\item 36\n",
       "\\item 32\n",
       "\\item 22\n",
       "\\item 17\n",
       "\\item 3\n",
       "\\item 14\n",
       "\\item 33\n",
       "\\item 31\n",
       "\\item 30\n",
       "\\item 26\n",
       "\\item 47\n",
       "\\item 38\n",
       "\\item 15\n",
       "\\end{enumerate*}\n"
      ],
      "text/markdown": [
       "1. 8\n",
       "2. 4\n",
       "3. 23\n",
       "4. 27\n",
       "5. 48\n",
       "6. 16\n",
       "7. 40\n",
       "8. 39\n",
       "9. 43\n",
       "10. 19\n",
       "11. 7\n",
       "12. 29\n",
       "13. 12\n",
       "14. 45\n",
       "15. 6\n",
       "16. 42\n",
       "17. 49\n",
       "18. 13\n",
       "19. 10\n",
       "20. 24\n",
       "21. 35\n",
       "22. 2\n",
       "23. 18\n",
       "24. 28\n",
       "25. 50\n",
       "26. 37\n",
       "27. 11\n",
       "28. 34\n",
       "29. 1\n",
       "30. 52\n",
       "31. 44\n",
       "32. 41\n",
       "33. 21\n",
       "34. 5\n",
       "35. 46\n",
       "36. 25\n",
       "37. 9\n",
       "38. 20\n",
       "39. 51\n",
       "40. 36\n",
       "41. 32\n",
       "42. 22\n",
       "43. 17\n",
       "44. 3\n",
       "45. 14\n",
       "46. 33\n",
       "47. 31\n",
       "48. 30\n",
       "49. 26\n",
       "50. 47\n",
       "51. 38\n",
       "52. 15\n",
       "\n",
       "\n"
      ],
      "text/plain": [
       " [1]  8  4 23 27 48 16 40 39 43 19  7 29 12 45  6 42 49 13 10 24 35  2 18 28 50\n",
       "[26] 37 11 34  1 52 44 41 21  5 46 25  9 20 51 36 32 22 17  3 14 33 31 30 26 47\n",
       "[51] 38 15"
      ]
     },
     "metadata": {},
     "output_type": "display_data"
    }
   ],
   "source": [
    "random <- sample(1:52, size = 52)\n",
    "random"
   ]
  },
  {
   "cell_type": "code",
   "execution_count": 36,
   "metadata": {},
   "outputs": [
    {
     "data": {
      "text/html": [
       "<table>\n",
       "<thead><tr><th></th><th scope=col>face</th><th scope=col>suit</th><th scope=col>value</th></tr></thead>\n",
       "<tbody>\n",
       "\t<tr><th scope=row>8</th><td>six     </td><td>spades  </td><td> 6      </td></tr>\n",
       "\t<tr><th scope=row>4</th><td>ten     </td><td>spades  </td><td>10      </td></tr>\n",
       "\t<tr><th scope=row>23</th><td>four    </td><td>clubs   </td><td> 4      </td></tr>\n",
       "\t<tr><th scope=row>27</th><td>king    </td><td>diamonds</td><td>13      </td></tr>\n",
       "\t<tr><th scope=row>48</th><td>five    </td><td>hearts  </td><td> 5      </td></tr>\n",
       "\t<tr><th scope=row>16</th><td>jack    </td><td>clubs   </td><td>11      </td></tr>\n",
       "</tbody>\n",
       "</table>\n"
      ],
      "text/latex": [
       "\\begin{tabular}{r|lll}\n",
       "  & face & suit & value\\\\\n",
       "\\hline\n",
       "\t8 & six      & spades   &  6      \\\\\n",
       "\t4 & ten      & spades   & 10      \\\\\n",
       "\t23 & four     & clubs    &  4      \\\\\n",
       "\t27 & king     & diamonds & 13      \\\\\n",
       "\t48 & five     & hearts   &  5      \\\\\n",
       "\t16 & jack     & clubs    & 11      \\\\\n",
       "\\end{tabular}\n"
      ],
      "text/markdown": [
       "\n",
       "| <!--/--> | face | suit | value |\n",
       "|---|---|---|---|\n",
       "| 8 | six      | spades   |  6       |\n",
       "| 4 | ten      | spades   | 10       |\n",
       "| 23 | four     | clubs    |  4       |\n",
       "| 27 | king     | diamonds | 13       |\n",
       "| 48 | five     | hearts   |  5       |\n",
       "| 16 | jack     | clubs    | 11       |\n",
       "\n"
      ],
      "text/plain": [
       "   face suit     value\n",
       "8  six  spades    6   \n",
       "4  ten  spades   10   \n",
       "23 four clubs     4   \n",
       "27 king diamonds 13   \n",
       "48 five hearts    5   \n",
       "16 jack clubs    11   "
      ]
     },
     "metadata": {},
     "output_type": "display_data"
    }
   ],
   "source": [
    "deck4 <- deck[random, ]\n",
    "head(deck4)"
   ]
  },
  {
   "cell_type": "markdown",
   "metadata": {},
   "source": [
    "***\n",
    "**練習問題**<br>\n",
    "上記のコードを参考にshaffle関数を作成してください。"
   ]
  },
  {
   "cell_type": "code",
   "execution_count": 39,
   "metadata": {},
   "outputs": [],
   "source": [
    "shuffle <- function(cards){\n",
    "    random <- sample(1:52, size = 52)\n",
    "    cards[random, ]\n",
    "}"
   ]
  },
  {
   "cell_type": "code",
   "execution_count": 45,
   "metadata": {},
   "outputs": [
    {
     "data": {
      "text/html": [
       "<table>\n",
       "<thead><tr><th></th><th scope=col>face</th><th scope=col>suit</th><th scope=col>value</th></tr></thead>\n",
       "<tbody>\n",
       "\t<tr><th scope=row>48</th><td>five    </td><td>hearts  </td><td> 5      </td></tr>\n",
       "\t<tr><th scope=row>1</th><td>king    </td><td>spades  </td><td>13      </td></tr>\n",
       "\t<tr><th scope=row>47</th><td>six     </td><td>hearts  </td><td> 6      </td></tr>\n",
       "\t<tr><th scope=row>25</th><td>two     </td><td>clubs   </td><td> 2      </td></tr>\n",
       "\t<tr><th scope=row>30</th><td>ten     </td><td>diamonds</td><td>10      </td></tr>\n",
       "\t<tr><th scope=row>2</th><td>queen   </td><td>spades  </td><td>12      </td></tr>\n",
       "\t<tr><th scope=row>28</th><td>queen   </td><td>diamonds</td><td>12      </td></tr>\n",
       "\t<tr><th scope=row>34</th><td>six     </td><td>diamonds</td><td> 6      </td></tr>\n",
       "\t<tr><th scope=row>35</th><td>five    </td><td>diamonds</td><td> 5      </td></tr>\n",
       "\t<tr><th scope=row>39</th><td>ace     </td><td>diamonds</td><td> 1      </td></tr>\n",
       "\t<tr><th scope=row>38</th><td>two     </td><td>diamonds</td><td> 2      </td></tr>\n",
       "\t<tr><th scope=row>24</th><td>three   </td><td>clubs   </td><td> 3      </td></tr>\n",
       "\t<tr><th scope=row>12</th><td>two     </td><td>spades  </td><td> 2      </td></tr>\n",
       "\t<tr><th scope=row>43</th><td>ten     </td><td>hearts  </td><td>10      </td></tr>\n",
       "\t<tr><th scope=row>31</th><td>nine    </td><td>diamonds</td><td> 9      </td></tr>\n",
       "\t<tr><th scope=row>27</th><td>king    </td><td>diamonds</td><td>13      </td></tr>\n",
       "\t<tr><th scope=row>9</th><td>five    </td><td>spades  </td><td> 5      </td></tr>\n",
       "\t<tr><th scope=row>40</th><td>king    </td><td>hearts  </td><td>13      </td></tr>\n",
       "\t<tr><th scope=row>3</th><td>jack    </td><td>spades  </td><td>11      </td></tr>\n",
       "\t<tr><th scope=row>7</th><td>seven   </td><td>spades  </td><td> 7      </td></tr>\n",
       "\t<tr><th scope=row>5</th><td>nine    </td><td>spades  </td><td> 9      </td></tr>\n",
       "\t<tr><th scope=row>46</th><td>seven   </td><td>hearts  </td><td> 7      </td></tr>\n",
       "\t<tr><th scope=row>41</th><td>queen   </td><td>hearts  </td><td>12      </td></tr>\n",
       "\t<tr><th scope=row>18</th><td>nine    </td><td>clubs   </td><td> 9      </td></tr>\n",
       "\t<tr><th scope=row>51</th><td>two     </td><td>hearts  </td><td> 2      </td></tr>\n",
       "\t<tr><th scope=row>45</th><td>eight   </td><td>hearts  </td><td> 8      </td></tr>\n",
       "\t<tr><th scope=row>17</th><td>ten     </td><td>clubs   </td><td>10      </td></tr>\n",
       "\t<tr><th scope=row>29</th><td>jack    </td><td>diamonds</td><td>11      </td></tr>\n",
       "\t<tr><th scope=row>52</th><td>ace     </td><td>hearts  </td><td> 1      </td></tr>\n",
       "\t<tr><th scope=row>26</th><td>ace     </td><td>clubs   </td><td> 1      </td></tr>\n",
       "\t<tr><th scope=row>6</th><td>eight   </td><td>spades  </td><td> 8      </td></tr>\n",
       "\t<tr><th scope=row>11</th><td>three   </td><td>spades  </td><td> 3      </td></tr>\n",
       "\t<tr><th scope=row>13</th><td>ace     </td><td>spades  </td><td> 1      </td></tr>\n",
       "\t<tr><th scope=row>36</th><td>four    </td><td>diamonds</td><td> 4      </td></tr>\n",
       "\t<tr><th scope=row>21</th><td>six     </td><td>clubs   </td><td> 6      </td></tr>\n",
       "\t<tr><th scope=row>33</th><td>seven   </td><td>diamonds</td><td> 7      </td></tr>\n",
       "\t<tr><th scope=row>37</th><td>three   </td><td>diamonds</td><td> 3      </td></tr>\n",
       "\t<tr><th scope=row>14</th><td>king    </td><td>clubs   </td><td>13      </td></tr>\n",
       "\t<tr><th scope=row>22</th><td>five    </td><td>clubs   </td><td> 5      </td></tr>\n",
       "\t<tr><th scope=row>8</th><td>six     </td><td>spades  </td><td> 6      </td></tr>\n",
       "\t<tr><th scope=row>49</th><td>four    </td><td>hearts  </td><td> 4      </td></tr>\n",
       "\t<tr><th scope=row>20</th><td>seven   </td><td>clubs   </td><td> 7      </td></tr>\n",
       "\t<tr><th scope=row>15</th><td>queen   </td><td>clubs   </td><td>12      </td></tr>\n",
       "\t<tr><th scope=row>19</th><td>eight   </td><td>clubs   </td><td> 8      </td></tr>\n",
       "\t<tr><th scope=row>4</th><td>ten     </td><td>spades  </td><td>10      </td></tr>\n",
       "\t<tr><th scope=row>16</th><td>jack    </td><td>clubs   </td><td>11      </td></tr>\n",
       "\t<tr><th scope=row>10</th><td>four    </td><td>spades  </td><td> 4      </td></tr>\n",
       "\t<tr><th scope=row>23</th><td>four    </td><td>clubs   </td><td> 4      </td></tr>\n",
       "\t<tr><th scope=row>42</th><td>jack    </td><td>hearts  </td><td>11      </td></tr>\n",
       "\t<tr><th scope=row>44</th><td>nine    </td><td>hearts  </td><td> 9      </td></tr>\n",
       "\t<tr><th scope=row>32</th><td>eight   </td><td>diamonds</td><td> 8      </td></tr>\n",
       "\t<tr><th scope=row>50</th><td>three   </td><td>hearts  </td><td> 3      </td></tr>\n",
       "</tbody>\n",
       "</table>\n"
      ],
      "text/latex": [
       "\\begin{tabular}{r|lll}\n",
       "  & face & suit & value\\\\\n",
       "\\hline\n",
       "\t48 & five     & hearts   &  5      \\\\\n",
       "\t1 & king     & spades   & 13      \\\\\n",
       "\t47 & six      & hearts   &  6      \\\\\n",
       "\t25 & two      & clubs    &  2      \\\\\n",
       "\t30 & ten      & diamonds & 10      \\\\\n",
       "\t2 & queen    & spades   & 12      \\\\\n",
       "\t28 & queen    & diamonds & 12      \\\\\n",
       "\t34 & six      & diamonds &  6      \\\\\n",
       "\t35 & five     & diamonds &  5      \\\\\n",
       "\t39 & ace      & diamonds &  1      \\\\\n",
       "\t38 & two      & diamonds &  2      \\\\\n",
       "\t24 & three    & clubs    &  3      \\\\\n",
       "\t12 & two      & spades   &  2      \\\\\n",
       "\t43 & ten      & hearts   & 10      \\\\\n",
       "\t31 & nine     & diamonds &  9      \\\\\n",
       "\t27 & king     & diamonds & 13      \\\\\n",
       "\t9 & five     & spades   &  5      \\\\\n",
       "\t40 & king     & hearts   & 13      \\\\\n",
       "\t3 & jack     & spades   & 11      \\\\\n",
       "\t7 & seven    & spades   &  7      \\\\\n",
       "\t5 & nine     & spades   &  9      \\\\\n",
       "\t46 & seven    & hearts   &  7      \\\\\n",
       "\t41 & queen    & hearts   & 12      \\\\\n",
       "\t18 & nine     & clubs    &  9      \\\\\n",
       "\t51 & two      & hearts   &  2      \\\\\n",
       "\t45 & eight    & hearts   &  8      \\\\\n",
       "\t17 & ten      & clubs    & 10      \\\\\n",
       "\t29 & jack     & diamonds & 11      \\\\\n",
       "\t52 & ace      & hearts   &  1      \\\\\n",
       "\t26 & ace      & clubs    &  1      \\\\\n",
       "\t6 & eight    & spades   &  8      \\\\\n",
       "\t11 & three    & spades   &  3      \\\\\n",
       "\t13 & ace      & spades   &  1      \\\\\n",
       "\t36 & four     & diamonds &  4      \\\\\n",
       "\t21 & six      & clubs    &  6      \\\\\n",
       "\t33 & seven    & diamonds &  7      \\\\\n",
       "\t37 & three    & diamonds &  3      \\\\\n",
       "\t14 & king     & clubs    & 13      \\\\\n",
       "\t22 & five     & clubs    &  5      \\\\\n",
       "\t8 & six      & spades   &  6      \\\\\n",
       "\t49 & four     & hearts   &  4      \\\\\n",
       "\t20 & seven    & clubs    &  7      \\\\\n",
       "\t15 & queen    & clubs    & 12      \\\\\n",
       "\t19 & eight    & clubs    &  8      \\\\\n",
       "\t4 & ten      & spades   & 10      \\\\\n",
       "\t16 & jack     & clubs    & 11      \\\\\n",
       "\t10 & four     & spades   &  4      \\\\\n",
       "\t23 & four     & clubs    &  4      \\\\\n",
       "\t42 & jack     & hearts   & 11      \\\\\n",
       "\t44 & nine     & hearts   &  9      \\\\\n",
       "\t32 & eight    & diamonds &  8      \\\\\n",
       "\t50 & three    & hearts   &  3      \\\\\n",
       "\\end{tabular}\n"
      ],
      "text/markdown": [
       "\n",
       "| <!--/--> | face | suit | value |\n",
       "|---|---|---|---|\n",
       "| 48 | five     | hearts   |  5       |\n",
       "| 1 | king     | spades   | 13       |\n",
       "| 47 | six      | hearts   |  6       |\n",
       "| 25 | two      | clubs    |  2       |\n",
       "| 30 | ten      | diamonds | 10       |\n",
       "| 2 | queen    | spades   | 12       |\n",
       "| 28 | queen    | diamonds | 12       |\n",
       "| 34 | six      | diamonds |  6       |\n",
       "| 35 | five     | diamonds |  5       |\n",
       "| 39 | ace      | diamonds |  1       |\n",
       "| 38 | two      | diamonds |  2       |\n",
       "| 24 | three    | clubs    |  3       |\n",
       "| 12 | two      | spades   |  2       |\n",
       "| 43 | ten      | hearts   | 10       |\n",
       "| 31 | nine     | diamonds |  9       |\n",
       "| 27 | king     | diamonds | 13       |\n",
       "| 9 | five     | spades   |  5       |\n",
       "| 40 | king     | hearts   | 13       |\n",
       "| 3 | jack     | spades   | 11       |\n",
       "| 7 | seven    | spades   |  7       |\n",
       "| 5 | nine     | spades   |  9       |\n",
       "| 46 | seven    | hearts   |  7       |\n",
       "| 41 | queen    | hearts   | 12       |\n",
       "| 18 | nine     | clubs    |  9       |\n",
       "| 51 | two      | hearts   |  2       |\n",
       "| 45 | eight    | hearts   |  8       |\n",
       "| 17 | ten      | clubs    | 10       |\n",
       "| 29 | jack     | diamonds | 11       |\n",
       "| 52 | ace      | hearts   |  1       |\n",
       "| 26 | ace      | clubs    |  1       |\n",
       "| 6 | eight    | spades   |  8       |\n",
       "| 11 | three    | spades   |  3       |\n",
       "| 13 | ace      | spades   |  1       |\n",
       "| 36 | four     | diamonds |  4       |\n",
       "| 21 | six      | clubs    |  6       |\n",
       "| 33 | seven    | diamonds |  7       |\n",
       "| 37 | three    | diamonds |  3       |\n",
       "| 14 | king     | clubs    | 13       |\n",
       "| 22 | five     | clubs    |  5       |\n",
       "| 8 | six      | spades   |  6       |\n",
       "| 49 | four     | hearts   |  4       |\n",
       "| 20 | seven    | clubs    |  7       |\n",
       "| 15 | queen    | clubs    | 12       |\n",
       "| 19 | eight    | clubs    |  8       |\n",
       "| 4 | ten      | spades   | 10       |\n",
       "| 16 | jack     | clubs    | 11       |\n",
       "| 10 | four     | spades   |  4       |\n",
       "| 23 | four     | clubs    |  4       |\n",
       "| 42 | jack     | hearts   | 11       |\n",
       "| 44 | nine     | hearts   |  9       |\n",
       "| 32 | eight    | diamonds |  8       |\n",
       "| 50 | three    | hearts   |  3       |\n",
       "\n"
      ],
      "text/plain": [
       "   face  suit     value\n",
       "48 five  hearts    5   \n",
       "1  king  spades   13   \n",
       "47 six   hearts    6   \n",
       "25 two   clubs     2   \n",
       "30 ten   diamonds 10   \n",
       "2  queen spades   12   \n",
       "28 queen diamonds 12   \n",
       "34 six   diamonds  6   \n",
       "35 five  diamonds  5   \n",
       "39 ace   diamonds  1   \n",
       "38 two   diamonds  2   \n",
       "24 three clubs     3   \n",
       "12 two   spades    2   \n",
       "43 ten   hearts   10   \n",
       "31 nine  diamonds  9   \n",
       "27 king  diamonds 13   \n",
       "9  five  spades    5   \n",
       "40 king  hearts   13   \n",
       "3  jack  spades   11   \n",
       "7  seven spades    7   \n",
       "5  nine  spades    9   \n",
       "46 seven hearts    7   \n",
       "41 queen hearts   12   \n",
       "18 nine  clubs     9   \n",
       "51 two   hearts    2   \n",
       "45 eight hearts    8   \n",
       "17 ten   clubs    10   \n",
       "29 jack  diamonds 11   \n",
       "52 ace   hearts    1   \n",
       "26 ace   clubs     1   \n",
       "6  eight spades    8   \n",
       "11 three spades    3   \n",
       "13 ace   spades    1   \n",
       "36 four  diamonds  4   \n",
       "21 six   clubs     6   \n",
       "33 seven diamonds  7   \n",
       "37 three diamonds  3   \n",
       "14 king  clubs    13   \n",
       "22 five  clubs     5   \n",
       "8  six   spades    6   \n",
       "49 four  hearts    4   \n",
       "20 seven clubs     7   \n",
       "15 queen clubs    12   \n",
       "19 eight clubs     8   \n",
       "4  ten   spades   10   \n",
       "16 jack  clubs    11   \n",
       "10 four  spades    4   \n",
       "23 four  clubs     4   \n",
       "42 jack  hearts   11   \n",
       "44 nine  hearts    9   \n",
       "32 eight diamonds  8   \n",
       "50 three hearts    3   "
      ]
     },
     "metadata": {},
     "output_type": "display_data"
    }
   ],
   "source": [
    "shuffle(deck)"
   ]
  },
  {
   "cell_type": "markdown",
   "metadata": {},
   "source": [
    "## 4.4 ドル記号と二重括弧\n",
    "データフレームとリストの２つのオブジェクトは` $ `を使用することで特定の値を抽出することが可能です。<br>\n"
   ]
  },
  {
   "cell_type": "code",
   "execution_count": 46,
   "metadata": {},
   "outputs": [
    {
     "data": {
      "text/html": [
       "<ol class=list-inline>\n",
       "\t<li>13</li>\n",
       "\t<li>12</li>\n",
       "\t<li>11</li>\n",
       "\t<li>10</li>\n",
       "\t<li>9</li>\n",
       "\t<li>8</li>\n",
       "\t<li>7</li>\n",
       "\t<li>6</li>\n",
       "\t<li>5</li>\n",
       "\t<li>4</li>\n",
       "\t<li>3</li>\n",
       "\t<li>2</li>\n",
       "\t<li>1</li>\n",
       "\t<li>13</li>\n",
       "\t<li>12</li>\n",
       "\t<li>11</li>\n",
       "\t<li>10</li>\n",
       "\t<li>9</li>\n",
       "\t<li>8</li>\n",
       "\t<li>7</li>\n",
       "\t<li>6</li>\n",
       "\t<li>5</li>\n",
       "\t<li>4</li>\n",
       "\t<li>3</li>\n",
       "\t<li>2</li>\n",
       "\t<li>1</li>\n",
       "\t<li>13</li>\n",
       "\t<li>12</li>\n",
       "\t<li>11</li>\n",
       "\t<li>10</li>\n",
       "\t<li>9</li>\n",
       "\t<li>8</li>\n",
       "\t<li>7</li>\n",
       "\t<li>6</li>\n",
       "\t<li>5</li>\n",
       "\t<li>4</li>\n",
       "\t<li>3</li>\n",
       "\t<li>2</li>\n",
       "\t<li>1</li>\n",
       "\t<li>13</li>\n",
       "\t<li>12</li>\n",
       "\t<li>11</li>\n",
       "\t<li>10</li>\n",
       "\t<li>9</li>\n",
       "\t<li>8</li>\n",
       "\t<li>7</li>\n",
       "\t<li>6</li>\n",
       "\t<li>5</li>\n",
       "\t<li>4</li>\n",
       "\t<li>3</li>\n",
       "\t<li>2</li>\n",
       "\t<li>1</li>\n",
       "</ol>\n"
      ],
      "text/latex": [
       "\\begin{enumerate*}\n",
       "\\item 13\n",
       "\\item 12\n",
       "\\item 11\n",
       "\\item 10\n",
       "\\item 9\n",
       "\\item 8\n",
       "\\item 7\n",
       "\\item 6\n",
       "\\item 5\n",
       "\\item 4\n",
       "\\item 3\n",
       "\\item 2\n",
       "\\item 1\n",
       "\\item 13\n",
       "\\item 12\n",
       "\\item 11\n",
       "\\item 10\n",
       "\\item 9\n",
       "\\item 8\n",
       "\\item 7\n",
       "\\item 6\n",
       "\\item 5\n",
       "\\item 4\n",
       "\\item 3\n",
       "\\item 2\n",
       "\\item 1\n",
       "\\item 13\n",
       "\\item 12\n",
       "\\item 11\n",
       "\\item 10\n",
       "\\item 9\n",
       "\\item 8\n",
       "\\item 7\n",
       "\\item 6\n",
       "\\item 5\n",
       "\\item 4\n",
       "\\item 3\n",
       "\\item 2\n",
       "\\item 1\n",
       "\\item 13\n",
       "\\item 12\n",
       "\\item 11\n",
       "\\item 10\n",
       "\\item 9\n",
       "\\item 8\n",
       "\\item 7\n",
       "\\item 6\n",
       "\\item 5\n",
       "\\item 4\n",
       "\\item 3\n",
       "\\item 2\n",
       "\\item 1\n",
       "\\end{enumerate*}\n"
      ],
      "text/markdown": [
       "1. 13\n",
       "2. 12\n",
       "3. 11\n",
       "4. 10\n",
       "5. 9\n",
       "6. 8\n",
       "7. 7\n",
       "8. 6\n",
       "9. 5\n",
       "10. 4\n",
       "11. 3\n",
       "12. 2\n",
       "13. 1\n",
       "14. 13\n",
       "15. 12\n",
       "16. 11\n",
       "17. 10\n",
       "18. 9\n",
       "19. 8\n",
       "20. 7\n",
       "21. 6\n",
       "22. 5\n",
       "23. 4\n",
       "24. 3\n",
       "25. 2\n",
       "26. 1\n",
       "27. 13\n",
       "28. 12\n",
       "29. 11\n",
       "30. 10\n",
       "31. 9\n",
       "32. 8\n",
       "33. 7\n",
       "34. 6\n",
       "35. 5\n",
       "36. 4\n",
       "37. 3\n",
       "38. 2\n",
       "39. 1\n",
       "40. 13\n",
       "41. 12\n",
       "42. 11\n",
       "43. 10\n",
       "44. 9\n",
       "45. 8\n",
       "46. 7\n",
       "47. 6\n",
       "48. 5\n",
       "49. 4\n",
       "50. 3\n",
       "51. 2\n",
       "52. 1\n",
       "\n",
       "\n"
      ],
      "text/plain": [
       " [1] 13 12 11 10  9  8  7  6  5  4  3  2  1 13 12 11 10  9  8  7  6  5  4  3  2\n",
       "[26]  1 13 12 11 10  9  8  7  6  5  4  3  2  1 13 12 11 10  9  8  7  6  5  4  3\n",
       "[51]  2  1"
      ]
     },
     "metadata": {},
     "output_type": "display_data"
    }
   ],
   "source": [
    "deck$value"
   ]
  },
  {
   "cell_type": "markdown",
   "metadata": {},
   "source": [
    "要素ごとに平均とか簡単にできる！やったね！"
   ]
  },
  {
   "cell_type": "code",
   "execution_count": 48,
   "metadata": {},
   "outputs": [
    {
     "data": {
      "text/html": [
       "7"
      ],
      "text/latex": [
       "7"
      ],
      "text/markdown": [
       "7"
      ],
      "text/plain": [
       "[1] 7"
      ]
     },
     "metadata": {},
     "output_type": "display_data"
    },
    {
     "data": {
      "text/html": [
       "7"
      ],
      "text/latex": [
       "7"
      ],
      "text/markdown": [
       "7"
      ],
      "text/plain": [
       "[1] 7"
      ]
     },
     "metadata": {},
     "output_type": "display_data"
    }
   ],
   "source": [
    "mean(deck$value)\n",
    "median(deck$value)"
   ]
  },
  {
   "cell_type": "markdown",
   "metadata": {},
   "source": [
    "リストの要素に関しても同様に使用することが可能です。<br>"
   ]
  },
  {
   "cell_type": "code",
   "execution_count": 51,
   "metadata": {},
   "outputs": [
    {
     "data": {
      "text/html": [
       "<dl>\n",
       "\t<dt>$number</dt>\n",
       "\t\t<dd><ol class=list-inline>\n",
       "\t<li>1</li>\n",
       "\t<li>2</li>\n",
       "</ol>\n",
       "</dd>\n",
       "\t<dt>$logical</dt>\n",
       "\t\t<dd>TRUE</dd>\n",
       "\t<dt>$strings</dt>\n",
       "\t\t<dd><ol class=list-inline>\n",
       "\t<li>'a'</li>\n",
       "\t<li>'b'</li>\n",
       "\t<li>'c'</li>\n",
       "</ol>\n",
       "</dd>\n",
       "</dl>\n"
      ],
      "text/latex": [
       "\\begin{description}\n",
       "\\item[\\$number] \\begin{enumerate*}\n",
       "\\item 1\n",
       "\\item 2\n",
       "\\end{enumerate*}\n",
       "\n",
       "\\item[\\$logical] TRUE\n",
       "\\item[\\$strings] \\begin{enumerate*}\n",
       "\\item 'a'\n",
       "\\item 'b'\n",
       "\\item 'c'\n",
       "\\end{enumerate*}\n",
       "\n",
       "\\end{description}\n"
      ],
      "text/markdown": [
       "$number\n",
       ":   1. 1\n",
       "2. 2\n",
       "\n",
       "\n",
       "\n",
       "$logical\n",
       ":   TRUE\n",
       "$strings\n",
       ":   1. 'a'\n",
       "2. 'b'\n",
       "3. 'c'\n",
       "\n",
       "\n",
       "\n",
       "\n",
       "\n"
      ],
      "text/plain": [
       "$number\n",
       "[1] 1 2\n",
       "\n",
       "$logical\n",
       "[1] TRUE\n",
       "\n",
       "$strings\n",
       "[1] \"a\" \"b\" \"c\"\n"
      ]
     },
     "metadata": {},
     "output_type": "display_data"
    }
   ],
   "source": [
    "list1 <- list(number= c(1,2) , logical = TRUE , strings = c(\"a\",\"b\",\"c\"))\n",
    "list1"
   ]
  },
  {
   "cell_type": "markdown",
   "metadata": {},
   "source": [
    "取り出したリストは、要求した要素を含む新たしいリストとして返ってきます。"
   ]
  },
  {
   "cell_type": "code",
   "execution_count": 56,
   "metadata": {},
   "outputs": [
    {
     "data": {
      "text/html": [
       "<strong>$number</strong> = <ol class=list-inline>\n",
       "\t<li>1</li>\n",
       "\t<li>2</li>\n",
       "</ol>\n"
      ],
      "text/latex": [
       "\\textbf{\\$number} = \\begin{enumerate*}\n",
       "\\item 1\n",
       "\\item 2\n",
       "\\end{enumerate*}\n"
      ],
      "text/markdown": [
       "**$number** = 1. 1\n",
       "2. 2\n",
       "\n",
       "\n"
      ],
      "text/plain": [
       "$number\n",
       "[1] 1 2\n"
      ]
     },
     "metadata": {},
     "output_type": "display_data"
    }
   ],
   "source": [
    "list1[1]"
   ]
  },
  {
   "cell_type": "markdown",
   "metadata": {},
   "source": [
    "上記の記法ではリストとして返ってくるので、関数にかけられないときがあります。"
   ]
  },
  {
   "cell_type": "code",
   "execution_count": 57,
   "metadata": {},
   "outputs": [
    {
     "name": "stderr",
     "output_type": "stream",
     "text": [
      "Warning message in mean.default(list1[1]):\n",
      "“argument is not numeric or logical: returning NA”"
     ]
    },
    {
     "data": {
      "text/html": [
       "&lt;NA&gt;"
      ],
      "text/latex": [
       "<NA>"
      ],
      "text/markdown": [
       "&lt;NA&gt;"
      ],
      "text/plain": [
       "[1] NA"
      ]
     },
     "metadata": {},
     "output_type": "display_data"
    }
   ],
   "source": [
    "mean(list1[1])"
   ]
  },
  {
   "cell_type": "markdown",
   "metadata": {},
   "source": [
    "` $ `の記法を使用することで、返ってきた値をそのまま使用することが可能です。<br>\n",
    "これにより、list1の場合はアトミックベクトルが返ってきます。"
   ]
  },
  {
   "cell_type": "code",
   "execution_count": 58,
   "metadata": {},
   "outputs": [
    {
     "data": {
      "text/html": [
       "1.5"
      ],
      "text/latex": [
       "1.5"
      ],
      "text/markdown": [
       "1.5"
      ],
      "text/plain": [
       "[1] 1.5"
      ]
     },
     "metadata": {},
     "output_type": "display_data"
    }
   ],
   "source": [
    "mean(list1$number)"
   ]
  },
  {
   "cell_type": "markdown",
   "metadata": {},
   "source": [
    "リストの要素が名前を持たない場合は二重括弧をしようして、サブセットをリストのサブセットを作成できます。"
   ]
  },
  {
   "cell_type": "code",
   "execution_count": 60,
   "metadata": {},
   "outputs": [
    {
     "data": {
      "text/html": [
       "<ol class=list-inline>\n",
       "\t<li>1</li>\n",
       "\t<li>2</li>\n",
       "</ol>\n"
      ],
      "text/latex": [
       "\\begin{enumerate*}\n",
       "\\item 1\n",
       "\\item 2\n",
       "\\end{enumerate*}\n"
      ],
      "text/markdown": [
       "1. 1\n",
       "2. 2\n",
       "\n",
       "\n"
      ],
      "text/plain": [
       "[1] 1 2"
      ]
     },
     "metadata": {},
     "output_type": "display_data"
    },
    {
     "data": {
      "text/html": [
       "1.5"
      ],
      "text/latex": [
       "1.5"
      ],
      "text/markdown": [
       "1.5"
      ],
      "text/plain": [
       "[1] 1.5"
      ]
     },
     "metadata": {},
     "output_type": "display_data"
    }
   ],
   "source": [
    "list1[[1]]\n",
    "mean(list[[1]])"
   ]
  },
  {
   "cell_type": "code",
   "execution_count": 62,
   "metadata": {},
   "outputs": [
    {
     "data": {
      "text/html": [
       "<strong>$number</strong> = <ol class=list-inline>\n",
       "\t<li>1</li>\n",
       "\t<li>2</li>\n",
       "</ol>\n"
      ],
      "text/latex": [
       "\\textbf{\\$number} = \\begin{enumerate*}\n",
       "\\item 1\n",
       "\\item 2\n",
       "\\end{enumerate*}\n"
      ],
      "text/markdown": [
       "**$number** = 1. 1\n",
       "2. 2\n",
       "\n",
       "\n"
      ],
      "text/plain": [
       "$number\n",
       "[1] 1 2\n"
      ]
     },
     "metadata": {},
     "output_type": "display_data"
    },
    {
     "data": {
      "text/html": [
       "<ol class=list-inline>\n",
       "\t<li>1</li>\n",
       "\t<li>2</li>\n",
       "</ol>\n"
      ],
      "text/latex": [
       "\\begin{enumerate*}\n",
       "\\item 1\n",
       "\\item 2\n",
       "\\end{enumerate*}\n"
      ],
      "text/markdown": [
       "1. 1\n",
       "2. 2\n",
       "\n",
       "\n"
      ],
      "text/plain": [
       "[1] 1 2"
      ]
     },
     "metadata": {},
     "output_type": "display_data"
    }
   ],
   "source": [
    "list1[\"number\"]\n",
    "list1[[\"number\"]]"
   ]
  }
 ],
 "metadata": {
  "kernelspec": {
   "display_name": "R",
   "language": "R",
   "name": "ir"
  },
  "language_info": {
   "codemirror_mode": "r",
   "file_extension": ".r",
   "mimetype": "text/x-r-source",
   "name": "R",
   "pygments_lexer": "r",
   "version": "3.5.1"
  }
 },
 "nbformat": 4,
 "nbformat_minor": 2
}
